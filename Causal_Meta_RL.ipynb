{
  "nbformat": 4,
  "nbformat_minor": 0,
  "metadata": {
    "accelerator": "GPU",
    "colab": {
      "name": "Causal Meta RL",
      "provenance": [],
      "collapsed_sections": [
        "1NrM4c6vfWrE"
      ],
      "toc_visible": true,
      "include_colab_link": true
    },
    "kernelspec": {
      "display_name": "Python 3",
      "name": "python3"
    },
    "language_info": {
      "name": "python"
    },
    "widgets": {
      "application/vnd.jupyter.widget-state+json": {
        "1d8e35cd65d84ca2901ff2ef0ff0276c": {
          "model_module": "@jupyter-widgets/controls",
          "model_name": "VBoxModel",
          "model_module_version": "1.5.0",
          "state": {
            "_dom_classes": [],
            "_model_module": "@jupyter-widgets/controls",
            "_model_module_version": "1.5.0",
            "_model_name": "VBoxModel",
            "_view_count": null,
            "_view_module": "@jupyter-widgets/controls",
            "_view_module_version": "1.5.0",
            "_view_name": "VBoxView",
            "box_style": "",
            "children": [
              "IPY_MODEL_252a5cde04854e498e29e6f396154203",
              "IPY_MODEL_2f594bc532c4472f87b431b410a7a211"
            ],
            "layout": "IPY_MODEL_602686483c764885b518ccae7652cb83"
          }
        },
        "252a5cde04854e498e29e6f396154203": {
          "model_module": "@jupyter-widgets/controls",
          "model_name": "LabelModel",
          "model_module_version": "1.5.0",
          "state": {
            "_dom_classes": [],
            "_model_module": "@jupyter-widgets/controls",
            "_model_module_version": "1.5.0",
            "_model_name": "LabelModel",
            "_view_count": null,
            "_view_module": "@jupyter-widgets/controls",
            "_view_module_version": "1.5.0",
            "_view_name": "LabelView",
            "description": "",
            "description_tooltip": null,
            "layout": "IPY_MODEL_469220695c0044149cb550c7594b74ab",
            "placeholder": "​",
            "style": "IPY_MODEL_560e37ffb1974abbb008b0b11ff65236",
            "value": " 27.77MB of 27.77MB uploaded (0.00MB deduped)\r"
          }
        },
        "2f594bc532c4472f87b431b410a7a211": {
          "model_module": "@jupyter-widgets/controls",
          "model_name": "FloatProgressModel",
          "model_module_version": "1.5.0",
          "state": {
            "_dom_classes": [],
            "_model_module": "@jupyter-widgets/controls",
            "_model_module_version": "1.5.0",
            "_model_name": "FloatProgressModel",
            "_view_count": null,
            "_view_module": "@jupyter-widgets/controls",
            "_view_module_version": "1.5.0",
            "_view_name": "ProgressView",
            "bar_style": "",
            "description": "",
            "description_tooltip": null,
            "layout": "IPY_MODEL_67387216068642c4a4c91e6e58cb8a99",
            "max": 1,
            "min": 0,
            "orientation": "horizontal",
            "style": "IPY_MODEL_244023a1954e42bba89a7c9d313e83fb",
            "value": 1
          }
        },
        "602686483c764885b518ccae7652cb83": {
          "model_module": "@jupyter-widgets/base",
          "model_name": "LayoutModel",
          "model_module_version": "1.2.0",
          "state": {
            "_model_module": "@jupyter-widgets/base",
            "_model_module_version": "1.2.0",
            "_model_name": "LayoutModel",
            "_view_count": null,
            "_view_module": "@jupyter-widgets/base",
            "_view_module_version": "1.2.0",
            "_view_name": "LayoutView",
            "align_content": null,
            "align_items": null,
            "align_self": null,
            "border": null,
            "bottom": null,
            "display": null,
            "flex": null,
            "flex_flow": null,
            "grid_area": null,
            "grid_auto_columns": null,
            "grid_auto_flow": null,
            "grid_auto_rows": null,
            "grid_column": null,
            "grid_gap": null,
            "grid_row": null,
            "grid_template_areas": null,
            "grid_template_columns": null,
            "grid_template_rows": null,
            "height": null,
            "justify_content": null,
            "justify_items": null,
            "left": null,
            "margin": null,
            "max_height": null,
            "max_width": null,
            "min_height": null,
            "min_width": null,
            "object_fit": null,
            "object_position": null,
            "order": null,
            "overflow": null,
            "overflow_x": null,
            "overflow_y": null,
            "padding": null,
            "right": null,
            "top": null,
            "visibility": null,
            "width": null
          }
        },
        "469220695c0044149cb550c7594b74ab": {
          "model_module": "@jupyter-widgets/base",
          "model_name": "LayoutModel",
          "model_module_version": "1.2.0",
          "state": {
            "_model_module": "@jupyter-widgets/base",
            "_model_module_version": "1.2.0",
            "_model_name": "LayoutModel",
            "_view_count": null,
            "_view_module": "@jupyter-widgets/base",
            "_view_module_version": "1.2.0",
            "_view_name": "LayoutView",
            "align_content": null,
            "align_items": null,
            "align_self": null,
            "border": null,
            "bottom": null,
            "display": null,
            "flex": null,
            "flex_flow": null,
            "grid_area": null,
            "grid_auto_columns": null,
            "grid_auto_flow": null,
            "grid_auto_rows": null,
            "grid_column": null,
            "grid_gap": null,
            "grid_row": null,
            "grid_template_areas": null,
            "grid_template_columns": null,
            "grid_template_rows": null,
            "height": null,
            "justify_content": null,
            "justify_items": null,
            "left": null,
            "margin": null,
            "max_height": null,
            "max_width": null,
            "min_height": null,
            "min_width": null,
            "object_fit": null,
            "object_position": null,
            "order": null,
            "overflow": null,
            "overflow_x": null,
            "overflow_y": null,
            "padding": null,
            "right": null,
            "top": null,
            "visibility": null,
            "width": null
          }
        },
        "560e37ffb1974abbb008b0b11ff65236": {
          "model_module": "@jupyter-widgets/controls",
          "model_name": "DescriptionStyleModel",
          "model_module_version": "1.5.0",
          "state": {
            "_model_module": "@jupyter-widgets/controls",
            "_model_module_version": "1.5.0",
            "_model_name": "DescriptionStyleModel",
            "_view_count": null,
            "_view_module": "@jupyter-widgets/base",
            "_view_module_version": "1.2.0",
            "_view_name": "StyleView",
            "description_width": ""
          }
        },
        "67387216068642c4a4c91e6e58cb8a99": {
          "model_module": "@jupyter-widgets/base",
          "model_name": "LayoutModel",
          "model_module_version": "1.2.0",
          "state": {
            "_model_module": "@jupyter-widgets/base",
            "_model_module_version": "1.2.0",
            "_model_name": "LayoutModel",
            "_view_count": null,
            "_view_module": "@jupyter-widgets/base",
            "_view_module_version": "1.2.0",
            "_view_name": "LayoutView",
            "align_content": null,
            "align_items": null,
            "align_self": null,
            "border": null,
            "bottom": null,
            "display": null,
            "flex": null,
            "flex_flow": null,
            "grid_area": null,
            "grid_auto_columns": null,
            "grid_auto_flow": null,
            "grid_auto_rows": null,
            "grid_column": null,
            "grid_gap": null,
            "grid_row": null,
            "grid_template_areas": null,
            "grid_template_columns": null,
            "grid_template_rows": null,
            "height": null,
            "justify_content": null,
            "justify_items": null,
            "left": null,
            "margin": null,
            "max_height": null,
            "max_width": null,
            "min_height": null,
            "min_width": null,
            "object_fit": null,
            "object_position": null,
            "order": null,
            "overflow": null,
            "overflow_x": null,
            "overflow_y": null,
            "padding": null,
            "right": null,
            "top": null,
            "visibility": null,
            "width": null
          }
        },
        "244023a1954e42bba89a7c9d313e83fb": {
          "model_module": "@jupyter-widgets/controls",
          "model_name": "ProgressStyleModel",
          "model_module_version": "1.5.0",
          "state": {
            "_model_module": "@jupyter-widgets/controls",
            "_model_module_version": "1.5.0",
            "_model_name": "ProgressStyleModel",
            "_view_count": null,
            "_view_module": "@jupyter-widgets/base",
            "_view_module_version": "1.2.0",
            "_view_name": "StyleView",
            "bar_color": null,
            "description_width": ""
          }
        },
        "3fd3debb2ff24a04aee8efd97abadc87": {
          "model_module": "@jupyter-widgets/controls",
          "model_name": "VBoxModel",
          "model_module_version": "1.5.0",
          "state": {
            "_dom_classes": [],
            "_model_module": "@jupyter-widgets/controls",
            "_model_module_version": "1.5.0",
            "_model_name": "VBoxModel",
            "_view_count": null,
            "_view_module": "@jupyter-widgets/controls",
            "_view_module_version": "1.5.0",
            "_view_name": "VBoxView",
            "box_style": "",
            "children": [
              "IPY_MODEL_7d833ba3278e4b2cbee6f2acbe8029c8",
              "IPY_MODEL_61bc81f099374eabbbe4a1d21042c05d"
            ],
            "layout": "IPY_MODEL_ed986d2d58b843639c5382decc5979df"
          }
        },
        "7d833ba3278e4b2cbee6f2acbe8029c8": {
          "model_module": "@jupyter-widgets/controls",
          "model_name": "LabelModel",
          "model_module_version": "1.5.0",
          "state": {
            "_dom_classes": [],
            "_model_module": "@jupyter-widgets/controls",
            "_model_module_version": "1.5.0",
            "_model_name": "LabelModel",
            "_view_count": null,
            "_view_module": "@jupyter-widgets/controls",
            "_view_module_version": "1.5.0",
            "_view_name": "LabelView",
            "description": "",
            "description_tooltip": null,
            "layout": "IPY_MODEL_0fdf552f8c1c44a4877d3d51a5bfda8f",
            "placeholder": "​",
            "style": "IPY_MODEL_f41a973ffc494c77b706c55dd063b260",
            "value": " 27.77MB of 27.77MB uploaded (0.00MB deduped)\r"
          }
        },
        "61bc81f099374eabbbe4a1d21042c05d": {
          "model_module": "@jupyter-widgets/controls",
          "model_name": "FloatProgressModel",
          "model_module_version": "1.5.0",
          "state": {
            "_dom_classes": [],
            "_model_module": "@jupyter-widgets/controls",
            "_model_module_version": "1.5.0",
            "_model_name": "FloatProgressModel",
            "_view_count": null,
            "_view_module": "@jupyter-widgets/controls",
            "_view_module_version": "1.5.0",
            "_view_name": "ProgressView",
            "bar_style": "",
            "description": "",
            "description_tooltip": null,
            "layout": "IPY_MODEL_ceb8c90c9dd94865aa16413f63b74123",
            "max": 1,
            "min": 0,
            "orientation": "horizontal",
            "style": "IPY_MODEL_d7f048c51f81428588c70ae5febc15d8",
            "value": 1
          }
        },
        "ed986d2d58b843639c5382decc5979df": {
          "model_module": "@jupyter-widgets/base",
          "model_name": "LayoutModel",
          "model_module_version": "1.2.0",
          "state": {
            "_model_module": "@jupyter-widgets/base",
            "_model_module_version": "1.2.0",
            "_model_name": "LayoutModel",
            "_view_count": null,
            "_view_module": "@jupyter-widgets/base",
            "_view_module_version": "1.2.0",
            "_view_name": "LayoutView",
            "align_content": null,
            "align_items": null,
            "align_self": null,
            "border": null,
            "bottom": null,
            "display": null,
            "flex": null,
            "flex_flow": null,
            "grid_area": null,
            "grid_auto_columns": null,
            "grid_auto_flow": null,
            "grid_auto_rows": null,
            "grid_column": null,
            "grid_gap": null,
            "grid_row": null,
            "grid_template_areas": null,
            "grid_template_columns": null,
            "grid_template_rows": null,
            "height": null,
            "justify_content": null,
            "justify_items": null,
            "left": null,
            "margin": null,
            "max_height": null,
            "max_width": null,
            "min_height": null,
            "min_width": null,
            "object_fit": null,
            "object_position": null,
            "order": null,
            "overflow": null,
            "overflow_x": null,
            "overflow_y": null,
            "padding": null,
            "right": null,
            "top": null,
            "visibility": null,
            "width": null
          }
        },
        "0fdf552f8c1c44a4877d3d51a5bfda8f": {
          "model_module": "@jupyter-widgets/base",
          "model_name": "LayoutModel",
          "model_module_version": "1.2.0",
          "state": {
            "_model_module": "@jupyter-widgets/base",
            "_model_module_version": "1.2.0",
            "_model_name": "LayoutModel",
            "_view_count": null,
            "_view_module": "@jupyter-widgets/base",
            "_view_module_version": "1.2.0",
            "_view_name": "LayoutView",
            "align_content": null,
            "align_items": null,
            "align_self": null,
            "border": null,
            "bottom": null,
            "display": null,
            "flex": null,
            "flex_flow": null,
            "grid_area": null,
            "grid_auto_columns": null,
            "grid_auto_flow": null,
            "grid_auto_rows": null,
            "grid_column": null,
            "grid_gap": null,
            "grid_row": null,
            "grid_template_areas": null,
            "grid_template_columns": null,
            "grid_template_rows": null,
            "height": null,
            "justify_content": null,
            "justify_items": null,
            "left": null,
            "margin": null,
            "max_height": null,
            "max_width": null,
            "min_height": null,
            "min_width": null,
            "object_fit": null,
            "object_position": null,
            "order": null,
            "overflow": null,
            "overflow_x": null,
            "overflow_y": null,
            "padding": null,
            "right": null,
            "top": null,
            "visibility": null,
            "width": null
          }
        },
        "f41a973ffc494c77b706c55dd063b260": {
          "model_module": "@jupyter-widgets/controls",
          "model_name": "DescriptionStyleModel",
          "model_module_version": "1.5.0",
          "state": {
            "_model_module": "@jupyter-widgets/controls",
            "_model_module_version": "1.5.0",
            "_model_name": "DescriptionStyleModel",
            "_view_count": null,
            "_view_module": "@jupyter-widgets/base",
            "_view_module_version": "1.2.0",
            "_view_name": "StyleView",
            "description_width": ""
          }
        },
        "ceb8c90c9dd94865aa16413f63b74123": {
          "model_module": "@jupyter-widgets/base",
          "model_name": "LayoutModel",
          "model_module_version": "1.2.0",
          "state": {
            "_model_module": "@jupyter-widgets/base",
            "_model_module_version": "1.2.0",
            "_model_name": "LayoutModel",
            "_view_count": null,
            "_view_module": "@jupyter-widgets/base",
            "_view_module_version": "1.2.0",
            "_view_name": "LayoutView",
            "align_content": null,
            "align_items": null,
            "align_self": null,
            "border": null,
            "bottom": null,
            "display": null,
            "flex": null,
            "flex_flow": null,
            "grid_area": null,
            "grid_auto_columns": null,
            "grid_auto_flow": null,
            "grid_auto_rows": null,
            "grid_column": null,
            "grid_gap": null,
            "grid_row": null,
            "grid_template_areas": null,
            "grid_template_columns": null,
            "grid_template_rows": null,
            "height": null,
            "justify_content": null,
            "justify_items": null,
            "left": null,
            "margin": null,
            "max_height": null,
            "max_width": null,
            "min_height": null,
            "min_width": null,
            "object_fit": null,
            "object_position": null,
            "order": null,
            "overflow": null,
            "overflow_x": null,
            "overflow_y": null,
            "padding": null,
            "right": null,
            "top": null,
            "visibility": null,
            "width": null
          }
        },
        "d7f048c51f81428588c70ae5febc15d8": {
          "model_module": "@jupyter-widgets/controls",
          "model_name": "ProgressStyleModel",
          "model_module_version": "1.5.0",
          "state": {
            "_model_module": "@jupyter-widgets/controls",
            "_model_module_version": "1.5.0",
            "_model_name": "ProgressStyleModel",
            "_view_count": null,
            "_view_module": "@jupyter-widgets/base",
            "_view_module_version": "1.2.0",
            "_view_name": "StyleView",
            "bar_color": null,
            "description_width": ""
          }
        },
        "6ed318ed27234d50987ac52bd5c82a99": {
          "model_module": "@jupyter-widgets/controls",
          "model_name": "VBoxModel",
          "model_module_version": "1.5.0",
          "state": {
            "_dom_classes": [],
            "_model_module": "@jupyter-widgets/controls",
            "_model_module_version": "1.5.0",
            "_model_name": "VBoxModel",
            "_view_count": null,
            "_view_module": "@jupyter-widgets/controls",
            "_view_module_version": "1.5.0",
            "_view_name": "VBoxView",
            "box_style": "",
            "children": [
              "IPY_MODEL_65d6eda84323402081ee1e8bf41d912b",
              "IPY_MODEL_da9b129c96b445e4995814023bdbe495"
            ],
            "layout": "IPY_MODEL_c47729f798bc4be08beb9d5ab5abbda0"
          }
        },
        "65d6eda84323402081ee1e8bf41d912b": {
          "model_module": "@jupyter-widgets/controls",
          "model_name": "LabelModel",
          "model_module_version": "1.5.0",
          "state": {
            "_dom_classes": [],
            "_model_module": "@jupyter-widgets/controls",
            "_model_module_version": "1.5.0",
            "_model_name": "LabelModel",
            "_view_count": null,
            "_view_module": "@jupyter-widgets/controls",
            "_view_module_version": "1.5.0",
            "_view_name": "LabelView",
            "description": "",
            "description_tooltip": null,
            "layout": "IPY_MODEL_7dd44d4e4dd2478b9db549ede348a930",
            "placeholder": "​",
            "style": "IPY_MODEL_b74c06fcb77a4009a607fd59a8c63a89",
            "value": " 27.78MB of 27.78MB uploaded (0.00MB deduped)\r"
          }
        },
        "da9b129c96b445e4995814023bdbe495": {
          "model_module": "@jupyter-widgets/controls",
          "model_name": "FloatProgressModel",
          "model_module_version": "1.5.0",
          "state": {
            "_dom_classes": [],
            "_model_module": "@jupyter-widgets/controls",
            "_model_module_version": "1.5.0",
            "_model_name": "FloatProgressModel",
            "_view_count": null,
            "_view_module": "@jupyter-widgets/controls",
            "_view_module_version": "1.5.0",
            "_view_name": "ProgressView",
            "bar_style": "",
            "description": "",
            "description_tooltip": null,
            "layout": "IPY_MODEL_c38e8214d5c647a9acb9f25b60624c01",
            "max": 1,
            "min": 0,
            "orientation": "horizontal",
            "style": "IPY_MODEL_9909572e9c274ecbbfb2e12ae64d3f8c",
            "value": 1
          }
        },
        "c47729f798bc4be08beb9d5ab5abbda0": {
          "model_module": "@jupyter-widgets/base",
          "model_name": "LayoutModel",
          "model_module_version": "1.2.0",
          "state": {
            "_model_module": "@jupyter-widgets/base",
            "_model_module_version": "1.2.0",
            "_model_name": "LayoutModel",
            "_view_count": null,
            "_view_module": "@jupyter-widgets/base",
            "_view_module_version": "1.2.0",
            "_view_name": "LayoutView",
            "align_content": null,
            "align_items": null,
            "align_self": null,
            "border": null,
            "bottom": null,
            "display": null,
            "flex": null,
            "flex_flow": null,
            "grid_area": null,
            "grid_auto_columns": null,
            "grid_auto_flow": null,
            "grid_auto_rows": null,
            "grid_column": null,
            "grid_gap": null,
            "grid_row": null,
            "grid_template_areas": null,
            "grid_template_columns": null,
            "grid_template_rows": null,
            "height": null,
            "justify_content": null,
            "justify_items": null,
            "left": null,
            "margin": null,
            "max_height": null,
            "max_width": null,
            "min_height": null,
            "min_width": null,
            "object_fit": null,
            "object_position": null,
            "order": null,
            "overflow": null,
            "overflow_x": null,
            "overflow_y": null,
            "padding": null,
            "right": null,
            "top": null,
            "visibility": null,
            "width": null
          }
        },
        "7dd44d4e4dd2478b9db549ede348a930": {
          "model_module": "@jupyter-widgets/base",
          "model_name": "LayoutModel",
          "model_module_version": "1.2.0",
          "state": {
            "_model_module": "@jupyter-widgets/base",
            "_model_module_version": "1.2.0",
            "_model_name": "LayoutModel",
            "_view_count": null,
            "_view_module": "@jupyter-widgets/base",
            "_view_module_version": "1.2.0",
            "_view_name": "LayoutView",
            "align_content": null,
            "align_items": null,
            "align_self": null,
            "border": null,
            "bottom": null,
            "display": null,
            "flex": null,
            "flex_flow": null,
            "grid_area": null,
            "grid_auto_columns": null,
            "grid_auto_flow": null,
            "grid_auto_rows": null,
            "grid_column": null,
            "grid_gap": null,
            "grid_row": null,
            "grid_template_areas": null,
            "grid_template_columns": null,
            "grid_template_rows": null,
            "height": null,
            "justify_content": null,
            "justify_items": null,
            "left": null,
            "margin": null,
            "max_height": null,
            "max_width": null,
            "min_height": null,
            "min_width": null,
            "object_fit": null,
            "object_position": null,
            "order": null,
            "overflow": null,
            "overflow_x": null,
            "overflow_y": null,
            "padding": null,
            "right": null,
            "top": null,
            "visibility": null,
            "width": null
          }
        },
        "b74c06fcb77a4009a607fd59a8c63a89": {
          "model_module": "@jupyter-widgets/controls",
          "model_name": "DescriptionStyleModel",
          "model_module_version": "1.5.0",
          "state": {
            "_model_module": "@jupyter-widgets/controls",
            "_model_module_version": "1.5.0",
            "_model_name": "DescriptionStyleModel",
            "_view_count": null,
            "_view_module": "@jupyter-widgets/base",
            "_view_module_version": "1.2.0",
            "_view_name": "StyleView",
            "description_width": ""
          }
        },
        "c38e8214d5c647a9acb9f25b60624c01": {
          "model_module": "@jupyter-widgets/base",
          "model_name": "LayoutModel",
          "model_module_version": "1.2.0",
          "state": {
            "_model_module": "@jupyter-widgets/base",
            "_model_module_version": "1.2.0",
            "_model_name": "LayoutModel",
            "_view_count": null,
            "_view_module": "@jupyter-widgets/base",
            "_view_module_version": "1.2.0",
            "_view_name": "LayoutView",
            "align_content": null,
            "align_items": null,
            "align_self": null,
            "border": null,
            "bottom": null,
            "display": null,
            "flex": null,
            "flex_flow": null,
            "grid_area": null,
            "grid_auto_columns": null,
            "grid_auto_flow": null,
            "grid_auto_rows": null,
            "grid_column": null,
            "grid_gap": null,
            "grid_row": null,
            "grid_template_areas": null,
            "grid_template_columns": null,
            "grid_template_rows": null,
            "height": null,
            "justify_content": null,
            "justify_items": null,
            "left": null,
            "margin": null,
            "max_height": null,
            "max_width": null,
            "min_height": null,
            "min_width": null,
            "object_fit": null,
            "object_position": null,
            "order": null,
            "overflow": null,
            "overflow_x": null,
            "overflow_y": null,
            "padding": null,
            "right": null,
            "top": null,
            "visibility": null,
            "width": null
          }
        },
        "9909572e9c274ecbbfb2e12ae64d3f8c": {
          "model_module": "@jupyter-widgets/controls",
          "model_name": "ProgressStyleModel",
          "model_module_version": "1.5.0",
          "state": {
            "_model_module": "@jupyter-widgets/controls",
            "_model_module_version": "1.5.0",
            "_model_name": "ProgressStyleModel",
            "_view_count": null,
            "_view_module": "@jupyter-widgets/base",
            "_view_module_version": "1.2.0",
            "_view_name": "StyleView",
            "bar_color": null,
            "description_width": ""
          }
        },
        "d47a7a20e6ba472fa8628d41e5876bbd": {
          "model_module": "@jupyter-widgets/controls",
          "model_name": "VBoxModel",
          "model_module_version": "1.5.0",
          "state": {
            "_dom_classes": [],
            "_model_module": "@jupyter-widgets/controls",
            "_model_module_version": "1.5.0",
            "_model_name": "VBoxModel",
            "_view_count": null,
            "_view_module": "@jupyter-widgets/controls",
            "_view_module_version": "1.5.0",
            "_view_name": "VBoxView",
            "box_style": "",
            "children": [
              "IPY_MODEL_037f49cf1183419fb98c40c0c2cf69ac",
              "IPY_MODEL_d28c2d896a874c97b2baa87fb3f53dae"
            ],
            "layout": "IPY_MODEL_7cf89dc1b02b4d2c8f14ca388a4d8875"
          }
        },
        "037f49cf1183419fb98c40c0c2cf69ac": {
          "model_module": "@jupyter-widgets/controls",
          "model_name": "LabelModel",
          "model_module_version": "1.5.0",
          "state": {
            "_dom_classes": [],
            "_model_module": "@jupyter-widgets/controls",
            "_model_module_version": "1.5.0",
            "_model_name": "LabelModel",
            "_view_count": null,
            "_view_module": "@jupyter-widgets/controls",
            "_view_module_version": "1.5.0",
            "_view_name": "LabelView",
            "description": "",
            "description_tooltip": null,
            "layout": "IPY_MODEL_0547500330e642d69d0282e1db73b3ed",
            "placeholder": "​",
            "style": "IPY_MODEL_857a6a13d1504d8d8f6593efc97b54d1",
            "value": " 27.77MB of 27.77MB uploaded (0.00MB deduped)\r"
          }
        },
        "d28c2d896a874c97b2baa87fb3f53dae": {
          "model_module": "@jupyter-widgets/controls",
          "model_name": "FloatProgressModel",
          "model_module_version": "1.5.0",
          "state": {
            "_dom_classes": [],
            "_model_module": "@jupyter-widgets/controls",
            "_model_module_version": "1.5.0",
            "_model_name": "FloatProgressModel",
            "_view_count": null,
            "_view_module": "@jupyter-widgets/controls",
            "_view_module_version": "1.5.0",
            "_view_name": "ProgressView",
            "bar_style": "",
            "description": "",
            "description_tooltip": null,
            "layout": "IPY_MODEL_2455b8060e3445f8aba0d44145a379dd",
            "max": 1,
            "min": 0,
            "orientation": "horizontal",
            "style": "IPY_MODEL_eef629ec67bc43e0b98e116112a95608",
            "value": 1
          }
        },
        "7cf89dc1b02b4d2c8f14ca388a4d8875": {
          "model_module": "@jupyter-widgets/base",
          "model_name": "LayoutModel",
          "model_module_version": "1.2.0",
          "state": {
            "_model_module": "@jupyter-widgets/base",
            "_model_module_version": "1.2.0",
            "_model_name": "LayoutModel",
            "_view_count": null,
            "_view_module": "@jupyter-widgets/base",
            "_view_module_version": "1.2.0",
            "_view_name": "LayoutView",
            "align_content": null,
            "align_items": null,
            "align_self": null,
            "border": null,
            "bottom": null,
            "display": null,
            "flex": null,
            "flex_flow": null,
            "grid_area": null,
            "grid_auto_columns": null,
            "grid_auto_flow": null,
            "grid_auto_rows": null,
            "grid_column": null,
            "grid_gap": null,
            "grid_row": null,
            "grid_template_areas": null,
            "grid_template_columns": null,
            "grid_template_rows": null,
            "height": null,
            "justify_content": null,
            "justify_items": null,
            "left": null,
            "margin": null,
            "max_height": null,
            "max_width": null,
            "min_height": null,
            "min_width": null,
            "object_fit": null,
            "object_position": null,
            "order": null,
            "overflow": null,
            "overflow_x": null,
            "overflow_y": null,
            "padding": null,
            "right": null,
            "top": null,
            "visibility": null,
            "width": null
          }
        },
        "0547500330e642d69d0282e1db73b3ed": {
          "model_module": "@jupyter-widgets/base",
          "model_name": "LayoutModel",
          "model_module_version": "1.2.0",
          "state": {
            "_model_module": "@jupyter-widgets/base",
            "_model_module_version": "1.2.0",
            "_model_name": "LayoutModel",
            "_view_count": null,
            "_view_module": "@jupyter-widgets/base",
            "_view_module_version": "1.2.0",
            "_view_name": "LayoutView",
            "align_content": null,
            "align_items": null,
            "align_self": null,
            "border": null,
            "bottom": null,
            "display": null,
            "flex": null,
            "flex_flow": null,
            "grid_area": null,
            "grid_auto_columns": null,
            "grid_auto_flow": null,
            "grid_auto_rows": null,
            "grid_column": null,
            "grid_gap": null,
            "grid_row": null,
            "grid_template_areas": null,
            "grid_template_columns": null,
            "grid_template_rows": null,
            "height": null,
            "justify_content": null,
            "justify_items": null,
            "left": null,
            "margin": null,
            "max_height": null,
            "max_width": null,
            "min_height": null,
            "min_width": null,
            "object_fit": null,
            "object_position": null,
            "order": null,
            "overflow": null,
            "overflow_x": null,
            "overflow_y": null,
            "padding": null,
            "right": null,
            "top": null,
            "visibility": null,
            "width": null
          }
        },
        "857a6a13d1504d8d8f6593efc97b54d1": {
          "model_module": "@jupyter-widgets/controls",
          "model_name": "DescriptionStyleModel",
          "model_module_version": "1.5.0",
          "state": {
            "_model_module": "@jupyter-widgets/controls",
            "_model_module_version": "1.5.0",
            "_model_name": "DescriptionStyleModel",
            "_view_count": null,
            "_view_module": "@jupyter-widgets/base",
            "_view_module_version": "1.2.0",
            "_view_name": "StyleView",
            "description_width": ""
          }
        },
        "2455b8060e3445f8aba0d44145a379dd": {
          "model_module": "@jupyter-widgets/base",
          "model_name": "LayoutModel",
          "model_module_version": "1.2.0",
          "state": {
            "_model_module": "@jupyter-widgets/base",
            "_model_module_version": "1.2.0",
            "_model_name": "LayoutModel",
            "_view_count": null,
            "_view_module": "@jupyter-widgets/base",
            "_view_module_version": "1.2.0",
            "_view_name": "LayoutView",
            "align_content": null,
            "align_items": null,
            "align_self": null,
            "border": null,
            "bottom": null,
            "display": null,
            "flex": null,
            "flex_flow": null,
            "grid_area": null,
            "grid_auto_columns": null,
            "grid_auto_flow": null,
            "grid_auto_rows": null,
            "grid_column": null,
            "grid_gap": null,
            "grid_row": null,
            "grid_template_areas": null,
            "grid_template_columns": null,
            "grid_template_rows": null,
            "height": null,
            "justify_content": null,
            "justify_items": null,
            "left": null,
            "margin": null,
            "max_height": null,
            "max_width": null,
            "min_height": null,
            "min_width": null,
            "object_fit": null,
            "object_position": null,
            "order": null,
            "overflow": null,
            "overflow_x": null,
            "overflow_y": null,
            "padding": null,
            "right": null,
            "top": null,
            "visibility": null,
            "width": null
          }
        },
        "eef629ec67bc43e0b98e116112a95608": {
          "model_module": "@jupyter-widgets/controls",
          "model_name": "ProgressStyleModel",
          "model_module_version": "1.5.0",
          "state": {
            "_model_module": "@jupyter-widgets/controls",
            "_model_module_version": "1.5.0",
            "_model_name": "ProgressStyleModel",
            "_view_count": null,
            "_view_module": "@jupyter-widgets/base",
            "_view_module_version": "1.2.0",
            "_view_name": "StyleView",
            "bar_color": null,
            "description_width": ""
          }
        },
        "01980e9df8d74024aa8ecd071ae7f027": {
          "model_module": "@jupyter-widgets/controls",
          "model_name": "VBoxModel",
          "model_module_version": "1.5.0",
          "state": {
            "_dom_classes": [],
            "_model_module": "@jupyter-widgets/controls",
            "_model_module_version": "1.5.0",
            "_model_name": "VBoxModel",
            "_view_count": null,
            "_view_module": "@jupyter-widgets/controls",
            "_view_module_version": "1.5.0",
            "_view_name": "VBoxView",
            "box_style": "",
            "children": [
              "IPY_MODEL_d3d2e678026547138d7cb781ca46089c",
              "IPY_MODEL_0e0a9d3616cf491588fe038e0721229b"
            ],
            "layout": "IPY_MODEL_188f9b8f1c044ef08cf537c8aa6fa037"
          }
        },
        "d3d2e678026547138d7cb781ca46089c": {
          "model_module": "@jupyter-widgets/controls",
          "model_name": "LabelModel",
          "model_module_version": "1.5.0",
          "state": {
            "_dom_classes": [],
            "_model_module": "@jupyter-widgets/controls",
            "_model_module_version": "1.5.0",
            "_model_name": "LabelModel",
            "_view_count": null,
            "_view_module": "@jupyter-widgets/controls",
            "_view_module_version": "1.5.0",
            "_view_name": "LabelView",
            "description": "",
            "description_tooltip": null,
            "layout": "IPY_MODEL_8eea46351c5b4f99be79011c403edcba",
            "placeholder": "​",
            "style": "IPY_MODEL_ad282fa52c1a478e81e354241e6368f8",
            "value": " 27.77MB of 27.77MB uploaded (0.00MB deduped)\r"
          }
        },
        "0e0a9d3616cf491588fe038e0721229b": {
          "model_module": "@jupyter-widgets/controls",
          "model_name": "FloatProgressModel",
          "model_module_version": "1.5.0",
          "state": {
            "_dom_classes": [],
            "_model_module": "@jupyter-widgets/controls",
            "_model_module_version": "1.5.0",
            "_model_name": "FloatProgressModel",
            "_view_count": null,
            "_view_module": "@jupyter-widgets/controls",
            "_view_module_version": "1.5.0",
            "_view_name": "ProgressView",
            "bar_style": "",
            "description": "",
            "description_tooltip": null,
            "layout": "IPY_MODEL_6db06290509e497c8c27a002d92976bb",
            "max": 1,
            "min": 0,
            "orientation": "horizontal",
            "style": "IPY_MODEL_fbedabfa2da640d4b39d9358b09f200b",
            "value": 1
          }
        },
        "188f9b8f1c044ef08cf537c8aa6fa037": {
          "model_module": "@jupyter-widgets/base",
          "model_name": "LayoutModel",
          "model_module_version": "1.2.0",
          "state": {
            "_model_module": "@jupyter-widgets/base",
            "_model_module_version": "1.2.0",
            "_model_name": "LayoutModel",
            "_view_count": null,
            "_view_module": "@jupyter-widgets/base",
            "_view_module_version": "1.2.0",
            "_view_name": "LayoutView",
            "align_content": null,
            "align_items": null,
            "align_self": null,
            "border": null,
            "bottom": null,
            "display": null,
            "flex": null,
            "flex_flow": null,
            "grid_area": null,
            "grid_auto_columns": null,
            "grid_auto_flow": null,
            "grid_auto_rows": null,
            "grid_column": null,
            "grid_gap": null,
            "grid_row": null,
            "grid_template_areas": null,
            "grid_template_columns": null,
            "grid_template_rows": null,
            "height": null,
            "justify_content": null,
            "justify_items": null,
            "left": null,
            "margin": null,
            "max_height": null,
            "max_width": null,
            "min_height": null,
            "min_width": null,
            "object_fit": null,
            "object_position": null,
            "order": null,
            "overflow": null,
            "overflow_x": null,
            "overflow_y": null,
            "padding": null,
            "right": null,
            "top": null,
            "visibility": null,
            "width": null
          }
        },
        "8eea46351c5b4f99be79011c403edcba": {
          "model_module": "@jupyter-widgets/base",
          "model_name": "LayoutModel",
          "model_module_version": "1.2.0",
          "state": {
            "_model_module": "@jupyter-widgets/base",
            "_model_module_version": "1.2.0",
            "_model_name": "LayoutModel",
            "_view_count": null,
            "_view_module": "@jupyter-widgets/base",
            "_view_module_version": "1.2.0",
            "_view_name": "LayoutView",
            "align_content": null,
            "align_items": null,
            "align_self": null,
            "border": null,
            "bottom": null,
            "display": null,
            "flex": null,
            "flex_flow": null,
            "grid_area": null,
            "grid_auto_columns": null,
            "grid_auto_flow": null,
            "grid_auto_rows": null,
            "grid_column": null,
            "grid_gap": null,
            "grid_row": null,
            "grid_template_areas": null,
            "grid_template_columns": null,
            "grid_template_rows": null,
            "height": null,
            "justify_content": null,
            "justify_items": null,
            "left": null,
            "margin": null,
            "max_height": null,
            "max_width": null,
            "min_height": null,
            "min_width": null,
            "object_fit": null,
            "object_position": null,
            "order": null,
            "overflow": null,
            "overflow_x": null,
            "overflow_y": null,
            "padding": null,
            "right": null,
            "top": null,
            "visibility": null,
            "width": null
          }
        },
        "ad282fa52c1a478e81e354241e6368f8": {
          "model_module": "@jupyter-widgets/controls",
          "model_name": "DescriptionStyleModel",
          "model_module_version": "1.5.0",
          "state": {
            "_model_module": "@jupyter-widgets/controls",
            "_model_module_version": "1.5.0",
            "_model_name": "DescriptionStyleModel",
            "_view_count": null,
            "_view_module": "@jupyter-widgets/base",
            "_view_module_version": "1.2.0",
            "_view_name": "StyleView",
            "description_width": ""
          }
        },
        "6db06290509e497c8c27a002d92976bb": {
          "model_module": "@jupyter-widgets/base",
          "model_name": "LayoutModel",
          "model_module_version": "1.2.0",
          "state": {
            "_model_module": "@jupyter-widgets/base",
            "_model_module_version": "1.2.0",
            "_model_name": "LayoutModel",
            "_view_count": null,
            "_view_module": "@jupyter-widgets/base",
            "_view_module_version": "1.2.0",
            "_view_name": "LayoutView",
            "align_content": null,
            "align_items": null,
            "align_self": null,
            "border": null,
            "bottom": null,
            "display": null,
            "flex": null,
            "flex_flow": null,
            "grid_area": null,
            "grid_auto_columns": null,
            "grid_auto_flow": null,
            "grid_auto_rows": null,
            "grid_column": null,
            "grid_gap": null,
            "grid_row": null,
            "grid_template_areas": null,
            "grid_template_columns": null,
            "grid_template_rows": null,
            "height": null,
            "justify_content": null,
            "justify_items": null,
            "left": null,
            "margin": null,
            "max_height": null,
            "max_width": null,
            "min_height": null,
            "min_width": null,
            "object_fit": null,
            "object_position": null,
            "order": null,
            "overflow": null,
            "overflow_x": null,
            "overflow_y": null,
            "padding": null,
            "right": null,
            "top": null,
            "visibility": null,
            "width": null
          }
        },
        "fbedabfa2da640d4b39d9358b09f200b": {
          "model_module": "@jupyter-widgets/controls",
          "model_name": "ProgressStyleModel",
          "model_module_version": "1.5.0",
          "state": {
            "_model_module": "@jupyter-widgets/controls",
            "_model_module_version": "1.5.0",
            "_model_name": "ProgressStyleModel",
            "_view_count": null,
            "_view_module": "@jupyter-widgets/base",
            "_view_module_version": "1.2.0",
            "_view_name": "StyleView",
            "bar_color": null,
            "description_width": ""
          }
        },
        "a5893657d94a4691a2f286d4d9781dfd": {
          "model_module": "@jupyter-widgets/controls",
          "model_name": "VBoxModel",
          "model_module_version": "1.5.0",
          "state": {
            "_dom_classes": [],
            "_model_module": "@jupyter-widgets/controls",
            "_model_module_version": "1.5.0",
            "_model_name": "VBoxModel",
            "_view_count": null,
            "_view_module": "@jupyter-widgets/controls",
            "_view_module_version": "1.5.0",
            "_view_name": "VBoxView",
            "box_style": "",
            "children": [
              "IPY_MODEL_888dc65f53e643a4a86d0f768311efa3",
              "IPY_MODEL_7a6bb51520bc49a4a97800603ad13be7"
            ],
            "layout": "IPY_MODEL_1ffa1849aa2f41e4bac13aa522fa846e"
          }
        },
        "888dc65f53e643a4a86d0f768311efa3": {
          "model_module": "@jupyter-widgets/controls",
          "model_name": "LabelModel",
          "model_module_version": "1.5.0",
          "state": {
            "_dom_classes": [],
            "_model_module": "@jupyter-widgets/controls",
            "_model_module_version": "1.5.0",
            "_model_name": "LabelModel",
            "_view_count": null,
            "_view_module": "@jupyter-widgets/controls",
            "_view_module_version": "1.5.0",
            "_view_name": "LabelView",
            "description": "",
            "description_tooltip": null,
            "layout": "IPY_MODEL_3ccd80927e204b22b29619554dc8794c",
            "placeholder": "​",
            "style": "IPY_MODEL_f63ca9217d974f8697fc7b4e4b268ed2",
            "value": " 27.77MB of 27.77MB uploaded (0.00MB deduped)\r"
          }
        },
        "7a6bb51520bc49a4a97800603ad13be7": {
          "model_module": "@jupyter-widgets/controls",
          "model_name": "FloatProgressModel",
          "model_module_version": "1.5.0",
          "state": {
            "_dom_classes": [],
            "_model_module": "@jupyter-widgets/controls",
            "_model_module_version": "1.5.0",
            "_model_name": "FloatProgressModel",
            "_view_count": null,
            "_view_module": "@jupyter-widgets/controls",
            "_view_module_version": "1.5.0",
            "_view_name": "ProgressView",
            "bar_style": "",
            "description": "",
            "description_tooltip": null,
            "layout": "IPY_MODEL_017db2e22c3f430ba6e63a49a33aed68",
            "max": 1,
            "min": 0,
            "orientation": "horizontal",
            "style": "IPY_MODEL_839d6b9a274245bc8e6e3863cf6c0d8f",
            "value": 1
          }
        },
        "1ffa1849aa2f41e4bac13aa522fa846e": {
          "model_module": "@jupyter-widgets/base",
          "model_name": "LayoutModel",
          "model_module_version": "1.2.0",
          "state": {
            "_model_module": "@jupyter-widgets/base",
            "_model_module_version": "1.2.0",
            "_model_name": "LayoutModel",
            "_view_count": null,
            "_view_module": "@jupyter-widgets/base",
            "_view_module_version": "1.2.0",
            "_view_name": "LayoutView",
            "align_content": null,
            "align_items": null,
            "align_self": null,
            "border": null,
            "bottom": null,
            "display": null,
            "flex": null,
            "flex_flow": null,
            "grid_area": null,
            "grid_auto_columns": null,
            "grid_auto_flow": null,
            "grid_auto_rows": null,
            "grid_column": null,
            "grid_gap": null,
            "grid_row": null,
            "grid_template_areas": null,
            "grid_template_columns": null,
            "grid_template_rows": null,
            "height": null,
            "justify_content": null,
            "justify_items": null,
            "left": null,
            "margin": null,
            "max_height": null,
            "max_width": null,
            "min_height": null,
            "min_width": null,
            "object_fit": null,
            "object_position": null,
            "order": null,
            "overflow": null,
            "overflow_x": null,
            "overflow_y": null,
            "padding": null,
            "right": null,
            "top": null,
            "visibility": null,
            "width": null
          }
        },
        "3ccd80927e204b22b29619554dc8794c": {
          "model_module": "@jupyter-widgets/base",
          "model_name": "LayoutModel",
          "model_module_version": "1.2.0",
          "state": {
            "_model_module": "@jupyter-widgets/base",
            "_model_module_version": "1.2.0",
            "_model_name": "LayoutModel",
            "_view_count": null,
            "_view_module": "@jupyter-widgets/base",
            "_view_module_version": "1.2.0",
            "_view_name": "LayoutView",
            "align_content": null,
            "align_items": null,
            "align_self": null,
            "border": null,
            "bottom": null,
            "display": null,
            "flex": null,
            "flex_flow": null,
            "grid_area": null,
            "grid_auto_columns": null,
            "grid_auto_flow": null,
            "grid_auto_rows": null,
            "grid_column": null,
            "grid_gap": null,
            "grid_row": null,
            "grid_template_areas": null,
            "grid_template_columns": null,
            "grid_template_rows": null,
            "height": null,
            "justify_content": null,
            "justify_items": null,
            "left": null,
            "margin": null,
            "max_height": null,
            "max_width": null,
            "min_height": null,
            "min_width": null,
            "object_fit": null,
            "object_position": null,
            "order": null,
            "overflow": null,
            "overflow_x": null,
            "overflow_y": null,
            "padding": null,
            "right": null,
            "top": null,
            "visibility": null,
            "width": null
          }
        },
        "f63ca9217d974f8697fc7b4e4b268ed2": {
          "model_module": "@jupyter-widgets/controls",
          "model_name": "DescriptionStyleModel",
          "model_module_version": "1.5.0",
          "state": {
            "_model_module": "@jupyter-widgets/controls",
            "_model_module_version": "1.5.0",
            "_model_name": "DescriptionStyleModel",
            "_view_count": null,
            "_view_module": "@jupyter-widgets/base",
            "_view_module_version": "1.2.0",
            "_view_name": "StyleView",
            "description_width": ""
          }
        },
        "017db2e22c3f430ba6e63a49a33aed68": {
          "model_module": "@jupyter-widgets/base",
          "model_name": "LayoutModel",
          "model_module_version": "1.2.0",
          "state": {
            "_model_module": "@jupyter-widgets/base",
            "_model_module_version": "1.2.0",
            "_model_name": "LayoutModel",
            "_view_count": null,
            "_view_module": "@jupyter-widgets/base",
            "_view_module_version": "1.2.0",
            "_view_name": "LayoutView",
            "align_content": null,
            "align_items": null,
            "align_self": null,
            "border": null,
            "bottom": null,
            "display": null,
            "flex": null,
            "flex_flow": null,
            "grid_area": null,
            "grid_auto_columns": null,
            "grid_auto_flow": null,
            "grid_auto_rows": null,
            "grid_column": null,
            "grid_gap": null,
            "grid_row": null,
            "grid_template_areas": null,
            "grid_template_columns": null,
            "grid_template_rows": null,
            "height": null,
            "justify_content": null,
            "justify_items": null,
            "left": null,
            "margin": null,
            "max_height": null,
            "max_width": null,
            "min_height": null,
            "min_width": null,
            "object_fit": null,
            "object_position": null,
            "order": null,
            "overflow": null,
            "overflow_x": null,
            "overflow_y": null,
            "padding": null,
            "right": null,
            "top": null,
            "visibility": null,
            "width": null
          }
        },
        "839d6b9a274245bc8e6e3863cf6c0d8f": {
          "model_module": "@jupyter-widgets/controls",
          "model_name": "ProgressStyleModel",
          "model_module_version": "1.5.0",
          "state": {
            "_model_module": "@jupyter-widgets/controls",
            "_model_module_version": "1.5.0",
            "_model_name": "ProgressStyleModel",
            "_view_count": null,
            "_view_module": "@jupyter-widgets/base",
            "_view_module_version": "1.2.0",
            "_view_name": "StyleView",
            "bar_color": null,
            "description_width": ""
          }
        },
        "a3951feec46345a69973c4ea0f2cc2ff": {
          "model_module": "@jupyter-widgets/controls",
          "model_name": "VBoxModel",
          "model_module_version": "1.5.0",
          "state": {
            "_view_name": "VBoxView",
            "_dom_classes": [],
            "_model_name": "VBoxModel",
            "_view_module": "@jupyter-widgets/controls",
            "_model_module_version": "1.5.0",
            "_view_count": null,
            "_view_module_version": "1.5.0",
            "box_style": "",
            "layout": "IPY_MODEL_7bf2f69c7f6744d4b8894f329c00d499",
            "_model_module": "@jupyter-widgets/controls",
            "children": [
              "IPY_MODEL_ba23cacf584b4d65910a8a0a8a4642b1",
              "IPY_MODEL_ebdcc89c9acc479388988a1667b31d37"
            ]
          }
        },
        "7bf2f69c7f6744d4b8894f329c00d499": {
          "model_module": "@jupyter-widgets/base",
          "model_name": "LayoutModel",
          "model_module_version": "1.2.0",
          "state": {
            "_view_name": "LayoutView",
            "grid_template_rows": null,
            "right": null,
            "justify_content": null,
            "_view_module": "@jupyter-widgets/base",
            "overflow": null,
            "_model_module_version": "1.2.0",
            "_view_count": null,
            "flex_flow": null,
            "width": null,
            "min_width": null,
            "border": null,
            "align_items": null,
            "bottom": null,
            "_model_module": "@jupyter-widgets/base",
            "top": null,
            "grid_column": null,
            "overflow_y": null,
            "overflow_x": null,
            "grid_auto_flow": null,
            "grid_area": null,
            "grid_template_columns": null,
            "flex": null,
            "_model_name": "LayoutModel",
            "justify_items": null,
            "grid_row": null,
            "max_height": null,
            "align_content": null,
            "visibility": null,
            "align_self": null,
            "height": null,
            "min_height": null,
            "padding": null,
            "grid_auto_rows": null,
            "grid_gap": null,
            "max_width": null,
            "order": null,
            "_view_module_version": "1.2.0",
            "grid_template_areas": null,
            "object_position": null,
            "object_fit": null,
            "grid_auto_columns": null,
            "margin": null,
            "display": null,
            "left": null
          }
        },
        "ba23cacf584b4d65910a8a0a8a4642b1": {
          "model_module": "@jupyter-widgets/controls",
          "model_name": "LabelModel",
          "model_module_version": "1.5.0",
          "state": {
            "_view_name": "LabelView",
            "style": "IPY_MODEL_2bee9cb74b234e69bad6fdfc797aba4f",
            "_dom_classes": [],
            "description": "",
            "_model_name": "LabelModel",
            "placeholder": "​",
            "_view_module": "@jupyter-widgets/controls",
            "_model_module_version": "1.5.0",
            "value": " 39.79MB of 39.79MB uploaded (0.00MB deduped)\r",
            "_view_count": null,
            "_view_module_version": "1.5.0",
            "description_tooltip": null,
            "_model_module": "@jupyter-widgets/controls",
            "layout": "IPY_MODEL_24a102b7784a4b8a884604f7b2cd804d"
          }
        },
        "ebdcc89c9acc479388988a1667b31d37": {
          "model_module": "@jupyter-widgets/controls",
          "model_name": "FloatProgressModel",
          "model_module_version": "1.5.0",
          "state": {
            "_view_name": "ProgressView",
            "style": "IPY_MODEL_17393d07cc30446193c9c9a2d4920e0a",
            "_dom_classes": [],
            "description": "",
            "_model_name": "FloatProgressModel",
            "bar_style": "",
            "max": 1,
            "_view_module": "@jupyter-widgets/controls",
            "_model_module_version": "1.5.0",
            "value": 1,
            "_view_count": null,
            "_view_module_version": "1.5.0",
            "orientation": "horizontal",
            "min": 0,
            "description_tooltip": null,
            "_model_module": "@jupyter-widgets/controls",
            "layout": "IPY_MODEL_df9c8e95a1614b23aca80e1888494259"
          }
        },
        "2bee9cb74b234e69bad6fdfc797aba4f": {
          "model_module": "@jupyter-widgets/controls",
          "model_name": "DescriptionStyleModel",
          "model_module_version": "1.5.0",
          "state": {
            "_view_name": "StyleView",
            "_model_name": "DescriptionStyleModel",
            "description_width": "",
            "_view_module": "@jupyter-widgets/base",
            "_model_module_version": "1.5.0",
            "_view_count": null,
            "_view_module_version": "1.2.0",
            "_model_module": "@jupyter-widgets/controls"
          }
        },
        "24a102b7784a4b8a884604f7b2cd804d": {
          "model_module": "@jupyter-widgets/base",
          "model_name": "LayoutModel",
          "model_module_version": "1.2.0",
          "state": {
            "_view_name": "LayoutView",
            "grid_template_rows": null,
            "right": null,
            "justify_content": null,
            "_view_module": "@jupyter-widgets/base",
            "overflow": null,
            "_model_module_version": "1.2.0",
            "_view_count": null,
            "flex_flow": null,
            "width": null,
            "min_width": null,
            "border": null,
            "align_items": null,
            "bottom": null,
            "_model_module": "@jupyter-widgets/base",
            "top": null,
            "grid_column": null,
            "overflow_y": null,
            "overflow_x": null,
            "grid_auto_flow": null,
            "grid_area": null,
            "grid_template_columns": null,
            "flex": null,
            "_model_name": "LayoutModel",
            "justify_items": null,
            "grid_row": null,
            "max_height": null,
            "align_content": null,
            "visibility": null,
            "align_self": null,
            "height": null,
            "min_height": null,
            "padding": null,
            "grid_auto_rows": null,
            "grid_gap": null,
            "max_width": null,
            "order": null,
            "_view_module_version": "1.2.0",
            "grid_template_areas": null,
            "object_position": null,
            "object_fit": null,
            "grid_auto_columns": null,
            "margin": null,
            "display": null,
            "left": null
          }
        },
        "17393d07cc30446193c9c9a2d4920e0a": {
          "model_module": "@jupyter-widgets/controls",
          "model_name": "ProgressStyleModel",
          "model_module_version": "1.5.0",
          "state": {
            "_view_name": "StyleView",
            "_model_name": "ProgressStyleModel",
            "description_width": "",
            "_view_module": "@jupyter-widgets/base",
            "_model_module_version": "1.5.0",
            "_view_count": null,
            "_view_module_version": "1.2.0",
            "bar_color": null,
            "_model_module": "@jupyter-widgets/controls"
          }
        },
        "df9c8e95a1614b23aca80e1888494259": {
          "model_module": "@jupyter-widgets/base",
          "model_name": "LayoutModel",
          "model_module_version": "1.2.0",
          "state": {
            "_view_name": "LayoutView",
            "grid_template_rows": null,
            "right": null,
            "justify_content": null,
            "_view_module": "@jupyter-widgets/base",
            "overflow": null,
            "_model_module_version": "1.2.0",
            "_view_count": null,
            "flex_flow": null,
            "width": null,
            "min_width": null,
            "border": null,
            "align_items": null,
            "bottom": null,
            "_model_module": "@jupyter-widgets/base",
            "top": null,
            "grid_column": null,
            "overflow_y": null,
            "overflow_x": null,
            "grid_auto_flow": null,
            "grid_area": null,
            "grid_template_columns": null,
            "flex": null,
            "_model_name": "LayoutModel",
            "justify_items": null,
            "grid_row": null,
            "max_height": null,
            "align_content": null,
            "visibility": null,
            "align_self": null,
            "height": null,
            "min_height": null,
            "padding": null,
            "grid_auto_rows": null,
            "grid_gap": null,
            "max_width": null,
            "order": null,
            "_view_module_version": "1.2.0",
            "grid_template_areas": null,
            "object_position": null,
            "object_fit": null,
            "grid_auto_columns": null,
            "margin": null,
            "display": null,
            "left": null
          }
        },
        "53d47b3e7606407c87600c22a67b881d": {
          "model_module": "@jupyter-widgets/controls",
          "model_name": "VBoxModel",
          "model_module_version": "1.5.0",
          "state": {
            "_view_name": "VBoxView",
            "_dom_classes": [],
            "_model_name": "VBoxModel",
            "_view_module": "@jupyter-widgets/controls",
            "_model_module_version": "1.5.0",
            "_view_count": null,
            "_view_module_version": "1.5.0",
            "box_style": "",
            "layout": "IPY_MODEL_e41d469a073f4d3c9c6f68e9a82d6fd7",
            "_model_module": "@jupyter-widgets/controls",
            "children": [
              "IPY_MODEL_a5a38b5a672c4e02a832649dc4698050",
              "IPY_MODEL_bff4d2b455d140eba469d9fd6f4f19c2"
            ]
          }
        },
        "e41d469a073f4d3c9c6f68e9a82d6fd7": {
          "model_module": "@jupyter-widgets/base",
          "model_name": "LayoutModel",
          "model_module_version": "1.2.0",
          "state": {
            "_view_name": "LayoutView",
            "grid_template_rows": null,
            "right": null,
            "justify_content": null,
            "_view_module": "@jupyter-widgets/base",
            "overflow": null,
            "_model_module_version": "1.2.0",
            "_view_count": null,
            "flex_flow": null,
            "width": null,
            "min_width": null,
            "border": null,
            "align_items": null,
            "bottom": null,
            "_model_module": "@jupyter-widgets/base",
            "top": null,
            "grid_column": null,
            "overflow_y": null,
            "overflow_x": null,
            "grid_auto_flow": null,
            "grid_area": null,
            "grid_template_columns": null,
            "flex": null,
            "_model_name": "LayoutModel",
            "justify_items": null,
            "grid_row": null,
            "max_height": null,
            "align_content": null,
            "visibility": null,
            "align_self": null,
            "height": null,
            "min_height": null,
            "padding": null,
            "grid_auto_rows": null,
            "grid_gap": null,
            "max_width": null,
            "order": null,
            "_view_module_version": "1.2.0",
            "grid_template_areas": null,
            "object_position": null,
            "object_fit": null,
            "grid_auto_columns": null,
            "margin": null,
            "display": null,
            "left": null
          }
        },
        "a5a38b5a672c4e02a832649dc4698050": {
          "model_module": "@jupyter-widgets/controls",
          "model_name": "LabelModel",
          "model_module_version": "1.5.0",
          "state": {
            "_view_name": "LabelView",
            "style": "IPY_MODEL_7c5d628487874c9bb9d7d88eab8a7166",
            "_dom_classes": [],
            "description": "",
            "_model_name": "LabelModel",
            "placeholder": "​",
            "_view_module": "@jupyter-widgets/controls",
            "_model_module_version": "1.5.0",
            "value": " 39.80MB of 39.80MB uploaded (0.00MB deduped)\r",
            "_view_count": null,
            "_view_module_version": "1.5.0",
            "description_tooltip": null,
            "_model_module": "@jupyter-widgets/controls",
            "layout": "IPY_MODEL_d03d159218154ce3bff6aa1e4f3e6f22"
          }
        },
        "bff4d2b455d140eba469d9fd6f4f19c2": {
          "model_module": "@jupyter-widgets/controls",
          "model_name": "FloatProgressModel",
          "model_module_version": "1.5.0",
          "state": {
            "_view_name": "ProgressView",
            "style": "IPY_MODEL_f7b5eaeac8fb47e98242f476f63b6288",
            "_dom_classes": [],
            "description": "",
            "_model_name": "FloatProgressModel",
            "bar_style": "",
            "max": 1,
            "_view_module": "@jupyter-widgets/controls",
            "_model_module_version": "1.5.0",
            "value": 1,
            "_view_count": null,
            "_view_module_version": "1.5.0",
            "orientation": "horizontal",
            "min": 0,
            "description_tooltip": null,
            "_model_module": "@jupyter-widgets/controls",
            "layout": "IPY_MODEL_9fbf8b0d979e42b09700330904c34eac"
          }
        },
        "7c5d628487874c9bb9d7d88eab8a7166": {
          "model_module": "@jupyter-widgets/controls",
          "model_name": "DescriptionStyleModel",
          "model_module_version": "1.5.0",
          "state": {
            "_view_name": "StyleView",
            "_model_name": "DescriptionStyleModel",
            "description_width": "",
            "_view_module": "@jupyter-widgets/base",
            "_model_module_version": "1.5.0",
            "_view_count": null,
            "_view_module_version": "1.2.0",
            "_model_module": "@jupyter-widgets/controls"
          }
        },
        "d03d159218154ce3bff6aa1e4f3e6f22": {
          "model_module": "@jupyter-widgets/base",
          "model_name": "LayoutModel",
          "model_module_version": "1.2.0",
          "state": {
            "_view_name": "LayoutView",
            "grid_template_rows": null,
            "right": null,
            "justify_content": null,
            "_view_module": "@jupyter-widgets/base",
            "overflow": null,
            "_model_module_version": "1.2.0",
            "_view_count": null,
            "flex_flow": null,
            "width": null,
            "min_width": null,
            "border": null,
            "align_items": null,
            "bottom": null,
            "_model_module": "@jupyter-widgets/base",
            "top": null,
            "grid_column": null,
            "overflow_y": null,
            "overflow_x": null,
            "grid_auto_flow": null,
            "grid_area": null,
            "grid_template_columns": null,
            "flex": null,
            "_model_name": "LayoutModel",
            "justify_items": null,
            "grid_row": null,
            "max_height": null,
            "align_content": null,
            "visibility": null,
            "align_self": null,
            "height": null,
            "min_height": null,
            "padding": null,
            "grid_auto_rows": null,
            "grid_gap": null,
            "max_width": null,
            "order": null,
            "_view_module_version": "1.2.0",
            "grid_template_areas": null,
            "object_position": null,
            "object_fit": null,
            "grid_auto_columns": null,
            "margin": null,
            "display": null,
            "left": null
          }
        },
        "f7b5eaeac8fb47e98242f476f63b6288": {
          "model_module": "@jupyter-widgets/controls",
          "model_name": "ProgressStyleModel",
          "model_module_version": "1.5.0",
          "state": {
            "_view_name": "StyleView",
            "_model_name": "ProgressStyleModel",
            "description_width": "",
            "_view_module": "@jupyter-widgets/base",
            "_model_module_version": "1.5.0",
            "_view_count": null,
            "_view_module_version": "1.2.0",
            "bar_color": null,
            "_model_module": "@jupyter-widgets/controls"
          }
        },
        "9fbf8b0d979e42b09700330904c34eac": {
          "model_module": "@jupyter-widgets/base",
          "model_name": "LayoutModel",
          "model_module_version": "1.2.0",
          "state": {
            "_view_name": "LayoutView",
            "grid_template_rows": null,
            "right": null,
            "justify_content": null,
            "_view_module": "@jupyter-widgets/base",
            "overflow": null,
            "_model_module_version": "1.2.0",
            "_view_count": null,
            "flex_flow": null,
            "width": null,
            "min_width": null,
            "border": null,
            "align_items": null,
            "bottom": null,
            "_model_module": "@jupyter-widgets/base",
            "top": null,
            "grid_column": null,
            "overflow_y": null,
            "overflow_x": null,
            "grid_auto_flow": null,
            "grid_area": null,
            "grid_template_columns": null,
            "flex": null,
            "_model_name": "LayoutModel",
            "justify_items": null,
            "grid_row": null,
            "max_height": null,
            "align_content": null,
            "visibility": null,
            "align_self": null,
            "height": null,
            "min_height": null,
            "padding": null,
            "grid_auto_rows": null,
            "grid_gap": null,
            "max_width": null,
            "order": null,
            "_view_module_version": "1.2.0",
            "grid_template_areas": null,
            "object_position": null,
            "object_fit": null,
            "grid_auto_columns": null,
            "margin": null,
            "display": null,
            "left": null
          }
        },
        "1b5c88fe951747cfa6003a5266b3c23f": {
          "model_module": "@jupyter-widgets/controls",
          "model_name": "VBoxModel",
          "model_module_version": "1.5.0",
          "state": {
            "_view_name": "VBoxView",
            "_dom_classes": [],
            "_model_name": "VBoxModel",
            "_view_module": "@jupyter-widgets/controls",
            "_model_module_version": "1.5.0",
            "_view_count": null,
            "_view_module_version": "1.5.0",
            "box_style": "",
            "layout": "IPY_MODEL_e8ab43fe5620448ebecbe0e333de5fbd",
            "_model_module": "@jupyter-widgets/controls",
            "children": [
              "IPY_MODEL_2766a97b542e4935ae96d2263f11780b",
              "IPY_MODEL_10adc8ef0a444563b82f31290abe0f2d"
            ]
          }
        },
        "e8ab43fe5620448ebecbe0e333de5fbd": {
          "model_module": "@jupyter-widgets/base",
          "model_name": "LayoutModel",
          "model_module_version": "1.2.0",
          "state": {
            "_view_name": "LayoutView",
            "grid_template_rows": null,
            "right": null,
            "justify_content": null,
            "_view_module": "@jupyter-widgets/base",
            "overflow": null,
            "_model_module_version": "1.2.0",
            "_view_count": null,
            "flex_flow": null,
            "width": null,
            "min_width": null,
            "border": null,
            "align_items": null,
            "bottom": null,
            "_model_module": "@jupyter-widgets/base",
            "top": null,
            "grid_column": null,
            "overflow_y": null,
            "overflow_x": null,
            "grid_auto_flow": null,
            "grid_area": null,
            "grid_template_columns": null,
            "flex": null,
            "_model_name": "LayoutModel",
            "justify_items": null,
            "grid_row": null,
            "max_height": null,
            "align_content": null,
            "visibility": null,
            "align_self": null,
            "height": null,
            "min_height": null,
            "padding": null,
            "grid_auto_rows": null,
            "grid_gap": null,
            "max_width": null,
            "order": null,
            "_view_module_version": "1.2.0",
            "grid_template_areas": null,
            "object_position": null,
            "object_fit": null,
            "grid_auto_columns": null,
            "margin": null,
            "display": null,
            "left": null
          }
        },
        "2766a97b542e4935ae96d2263f11780b": {
          "model_module": "@jupyter-widgets/controls",
          "model_name": "LabelModel",
          "model_module_version": "1.5.0",
          "state": {
            "_view_name": "LabelView",
            "style": "IPY_MODEL_7529e6404071422ba1f3da90fa3c73f6",
            "_dom_classes": [],
            "description": "",
            "_model_name": "LabelModel",
            "placeholder": "​",
            "_view_module": "@jupyter-widgets/controls",
            "_model_module_version": "1.5.0",
            "value": " 46.79MB of 46.79MB uploaded (0.00MB deduped)\r",
            "_view_count": null,
            "_view_module_version": "1.5.0",
            "description_tooltip": null,
            "_model_module": "@jupyter-widgets/controls",
            "layout": "IPY_MODEL_8e3bd0d73c0b412b9e5597b3abb94d4e"
          }
        },
        "10adc8ef0a444563b82f31290abe0f2d": {
          "model_module": "@jupyter-widgets/controls",
          "model_name": "FloatProgressModel",
          "model_module_version": "1.5.0",
          "state": {
            "_view_name": "ProgressView",
            "style": "IPY_MODEL_c77fccee1095427d82c9503550768916",
            "_dom_classes": [],
            "description": "",
            "_model_name": "FloatProgressModel",
            "bar_style": "",
            "max": 1,
            "_view_module": "@jupyter-widgets/controls",
            "_model_module_version": "1.5.0",
            "value": 1,
            "_view_count": null,
            "_view_module_version": "1.5.0",
            "orientation": "horizontal",
            "min": 0,
            "description_tooltip": null,
            "_model_module": "@jupyter-widgets/controls",
            "layout": "IPY_MODEL_86fda3202aca4cafac6bd075c4b9cf5f"
          }
        },
        "7529e6404071422ba1f3da90fa3c73f6": {
          "model_module": "@jupyter-widgets/controls",
          "model_name": "DescriptionStyleModel",
          "model_module_version": "1.5.0",
          "state": {
            "_view_name": "StyleView",
            "_model_name": "DescriptionStyleModel",
            "description_width": "",
            "_view_module": "@jupyter-widgets/base",
            "_model_module_version": "1.5.0",
            "_view_count": null,
            "_view_module_version": "1.2.0",
            "_model_module": "@jupyter-widgets/controls"
          }
        },
        "8e3bd0d73c0b412b9e5597b3abb94d4e": {
          "model_module": "@jupyter-widgets/base",
          "model_name": "LayoutModel",
          "model_module_version": "1.2.0",
          "state": {
            "_view_name": "LayoutView",
            "grid_template_rows": null,
            "right": null,
            "justify_content": null,
            "_view_module": "@jupyter-widgets/base",
            "overflow": null,
            "_model_module_version": "1.2.0",
            "_view_count": null,
            "flex_flow": null,
            "width": null,
            "min_width": null,
            "border": null,
            "align_items": null,
            "bottom": null,
            "_model_module": "@jupyter-widgets/base",
            "top": null,
            "grid_column": null,
            "overflow_y": null,
            "overflow_x": null,
            "grid_auto_flow": null,
            "grid_area": null,
            "grid_template_columns": null,
            "flex": null,
            "_model_name": "LayoutModel",
            "justify_items": null,
            "grid_row": null,
            "max_height": null,
            "align_content": null,
            "visibility": null,
            "align_self": null,
            "height": null,
            "min_height": null,
            "padding": null,
            "grid_auto_rows": null,
            "grid_gap": null,
            "max_width": null,
            "order": null,
            "_view_module_version": "1.2.0",
            "grid_template_areas": null,
            "object_position": null,
            "object_fit": null,
            "grid_auto_columns": null,
            "margin": null,
            "display": null,
            "left": null
          }
        },
        "c77fccee1095427d82c9503550768916": {
          "model_module": "@jupyter-widgets/controls",
          "model_name": "ProgressStyleModel",
          "model_module_version": "1.5.0",
          "state": {
            "_view_name": "StyleView",
            "_model_name": "ProgressStyleModel",
            "description_width": "",
            "_view_module": "@jupyter-widgets/base",
            "_model_module_version": "1.5.0",
            "_view_count": null,
            "_view_module_version": "1.2.0",
            "bar_color": null,
            "_model_module": "@jupyter-widgets/controls"
          }
        },
        "86fda3202aca4cafac6bd075c4b9cf5f": {
          "model_module": "@jupyter-widgets/base",
          "model_name": "LayoutModel",
          "model_module_version": "1.2.0",
          "state": {
            "_view_name": "LayoutView",
            "grid_template_rows": null,
            "right": null,
            "justify_content": null,
            "_view_module": "@jupyter-widgets/base",
            "overflow": null,
            "_model_module_version": "1.2.0",
            "_view_count": null,
            "flex_flow": null,
            "width": null,
            "min_width": null,
            "border": null,
            "align_items": null,
            "bottom": null,
            "_model_module": "@jupyter-widgets/base",
            "top": null,
            "grid_column": null,
            "overflow_y": null,
            "overflow_x": null,
            "grid_auto_flow": null,
            "grid_area": null,
            "grid_template_columns": null,
            "flex": null,
            "_model_name": "LayoutModel",
            "justify_items": null,
            "grid_row": null,
            "max_height": null,
            "align_content": null,
            "visibility": null,
            "align_self": null,
            "height": null,
            "min_height": null,
            "padding": null,
            "grid_auto_rows": null,
            "grid_gap": null,
            "max_width": null,
            "order": null,
            "_view_module_version": "1.2.0",
            "grid_template_areas": null,
            "object_position": null,
            "object_fit": null,
            "grid_auto_columns": null,
            "margin": null,
            "display": null,
            "left": null
          }
        },
        "8215cd6cb4ed48f79da8203de5760325": {
          "model_module": "@jupyter-widgets/controls",
          "model_name": "VBoxModel",
          "model_module_version": "1.5.0",
          "state": {
            "_view_name": "VBoxView",
            "_dom_classes": [],
            "_model_name": "VBoxModel",
            "_view_module": "@jupyter-widgets/controls",
            "_model_module_version": "1.5.0",
            "_view_count": null,
            "_view_module_version": "1.5.0",
            "box_style": "",
            "layout": "IPY_MODEL_971facbcd4cd440791d3ac635e5931a2",
            "_model_module": "@jupyter-widgets/controls",
            "children": [
              "IPY_MODEL_80422341fcda4614aa500b680519f6cb",
              "IPY_MODEL_a3df5d0440eb4d9ab464797816ec9a9b"
            ]
          }
        },
        "971facbcd4cd440791d3ac635e5931a2": {
          "model_module": "@jupyter-widgets/base",
          "model_name": "LayoutModel",
          "model_module_version": "1.2.0",
          "state": {
            "_view_name": "LayoutView",
            "grid_template_rows": null,
            "right": null,
            "justify_content": null,
            "_view_module": "@jupyter-widgets/base",
            "overflow": null,
            "_model_module_version": "1.2.0",
            "_view_count": null,
            "flex_flow": null,
            "width": null,
            "min_width": null,
            "border": null,
            "align_items": null,
            "bottom": null,
            "_model_module": "@jupyter-widgets/base",
            "top": null,
            "grid_column": null,
            "overflow_y": null,
            "overflow_x": null,
            "grid_auto_flow": null,
            "grid_area": null,
            "grid_template_columns": null,
            "flex": null,
            "_model_name": "LayoutModel",
            "justify_items": null,
            "grid_row": null,
            "max_height": null,
            "align_content": null,
            "visibility": null,
            "align_self": null,
            "height": null,
            "min_height": null,
            "padding": null,
            "grid_auto_rows": null,
            "grid_gap": null,
            "max_width": null,
            "order": null,
            "_view_module_version": "1.2.0",
            "grid_template_areas": null,
            "object_position": null,
            "object_fit": null,
            "grid_auto_columns": null,
            "margin": null,
            "display": null,
            "left": null
          }
        },
        "80422341fcda4614aa500b680519f6cb": {
          "model_module": "@jupyter-widgets/controls",
          "model_name": "LabelModel",
          "model_module_version": "1.5.0",
          "state": {
            "_view_name": "LabelView",
            "style": "IPY_MODEL_37f60378196a4983886342da8e18f4ed",
            "_dom_classes": [],
            "description": "",
            "_model_name": "LabelModel",
            "placeholder": "​",
            "_view_module": "@jupyter-widgets/controls",
            "_model_module_version": "1.5.0",
            "value": " 46.80MB of 46.80MB uploaded (0.00MB deduped)\r",
            "_view_count": null,
            "_view_module_version": "1.5.0",
            "description_tooltip": null,
            "_model_module": "@jupyter-widgets/controls",
            "layout": "IPY_MODEL_77e1ecfaa651411bbab46ba72d7767c9"
          }
        },
        "a3df5d0440eb4d9ab464797816ec9a9b": {
          "model_module": "@jupyter-widgets/controls",
          "model_name": "FloatProgressModel",
          "model_module_version": "1.5.0",
          "state": {
            "_view_name": "ProgressView",
            "style": "IPY_MODEL_fde187cae667436bb63343cf3259ab04",
            "_dom_classes": [],
            "description": "",
            "_model_name": "FloatProgressModel",
            "bar_style": "",
            "max": 1,
            "_view_module": "@jupyter-widgets/controls",
            "_model_module_version": "1.5.0",
            "value": 1,
            "_view_count": null,
            "_view_module_version": "1.5.0",
            "orientation": "horizontal",
            "min": 0,
            "description_tooltip": null,
            "_model_module": "@jupyter-widgets/controls",
            "layout": "IPY_MODEL_b5fe4e1aa5304b76aca7319179241878"
          }
        },
        "37f60378196a4983886342da8e18f4ed": {
          "model_module": "@jupyter-widgets/controls",
          "model_name": "DescriptionStyleModel",
          "model_module_version": "1.5.0",
          "state": {
            "_view_name": "StyleView",
            "_model_name": "DescriptionStyleModel",
            "description_width": "",
            "_view_module": "@jupyter-widgets/base",
            "_model_module_version": "1.5.0",
            "_view_count": null,
            "_view_module_version": "1.2.0",
            "_model_module": "@jupyter-widgets/controls"
          }
        },
        "77e1ecfaa651411bbab46ba72d7767c9": {
          "model_module": "@jupyter-widgets/base",
          "model_name": "LayoutModel",
          "model_module_version": "1.2.0",
          "state": {
            "_view_name": "LayoutView",
            "grid_template_rows": null,
            "right": null,
            "justify_content": null,
            "_view_module": "@jupyter-widgets/base",
            "overflow": null,
            "_model_module_version": "1.2.0",
            "_view_count": null,
            "flex_flow": null,
            "width": null,
            "min_width": null,
            "border": null,
            "align_items": null,
            "bottom": null,
            "_model_module": "@jupyter-widgets/base",
            "top": null,
            "grid_column": null,
            "overflow_y": null,
            "overflow_x": null,
            "grid_auto_flow": null,
            "grid_area": null,
            "grid_template_columns": null,
            "flex": null,
            "_model_name": "LayoutModel",
            "justify_items": null,
            "grid_row": null,
            "max_height": null,
            "align_content": null,
            "visibility": null,
            "align_self": null,
            "height": null,
            "min_height": null,
            "padding": null,
            "grid_auto_rows": null,
            "grid_gap": null,
            "max_width": null,
            "order": null,
            "_view_module_version": "1.2.0",
            "grid_template_areas": null,
            "object_position": null,
            "object_fit": null,
            "grid_auto_columns": null,
            "margin": null,
            "display": null,
            "left": null
          }
        },
        "fde187cae667436bb63343cf3259ab04": {
          "model_module": "@jupyter-widgets/controls",
          "model_name": "ProgressStyleModel",
          "model_module_version": "1.5.0",
          "state": {
            "_view_name": "StyleView",
            "_model_name": "ProgressStyleModel",
            "description_width": "",
            "_view_module": "@jupyter-widgets/base",
            "_model_module_version": "1.5.0",
            "_view_count": null,
            "_view_module_version": "1.2.0",
            "bar_color": null,
            "_model_module": "@jupyter-widgets/controls"
          }
        },
        "b5fe4e1aa5304b76aca7319179241878": {
          "model_module": "@jupyter-widgets/base",
          "model_name": "LayoutModel",
          "model_module_version": "1.2.0",
          "state": {
            "_view_name": "LayoutView",
            "grid_template_rows": null,
            "right": null,
            "justify_content": null,
            "_view_module": "@jupyter-widgets/base",
            "overflow": null,
            "_model_module_version": "1.2.0",
            "_view_count": null,
            "flex_flow": null,
            "width": null,
            "min_width": null,
            "border": null,
            "align_items": null,
            "bottom": null,
            "_model_module": "@jupyter-widgets/base",
            "top": null,
            "grid_column": null,
            "overflow_y": null,
            "overflow_x": null,
            "grid_auto_flow": null,
            "grid_area": null,
            "grid_template_columns": null,
            "flex": null,
            "_model_name": "LayoutModel",
            "justify_items": null,
            "grid_row": null,
            "max_height": null,
            "align_content": null,
            "visibility": null,
            "align_self": null,
            "height": null,
            "min_height": null,
            "padding": null,
            "grid_auto_rows": null,
            "grid_gap": null,
            "max_width": null,
            "order": null,
            "_view_module_version": "1.2.0",
            "grid_template_areas": null,
            "object_position": null,
            "object_fit": null,
            "grid_auto_columns": null,
            "margin": null,
            "display": null,
            "left": null
          }
        },
        "075b0376358c4be68ef5a6cceb8f3d0b": {
          "model_module": "@jupyter-widgets/controls",
          "model_name": "VBoxModel",
          "model_module_version": "1.5.0",
          "state": {
            "_view_name": "VBoxView",
            "_dom_classes": [],
            "_model_name": "VBoxModel",
            "_view_module": "@jupyter-widgets/controls",
            "_model_module_version": "1.5.0",
            "_view_count": null,
            "_view_module_version": "1.5.0",
            "box_style": "",
            "layout": "IPY_MODEL_75213ac48b3f4919ab4f496b05589568",
            "_model_module": "@jupyter-widgets/controls",
            "children": [
              "IPY_MODEL_21202d90ea41444a9cec6b8d2b5ce670",
              "IPY_MODEL_c6deee2fd2c948f896108cd212c96273"
            ]
          }
        },
        "75213ac48b3f4919ab4f496b05589568": {
          "model_module": "@jupyter-widgets/base",
          "model_name": "LayoutModel",
          "model_module_version": "1.2.0",
          "state": {
            "_view_name": "LayoutView",
            "grid_template_rows": null,
            "right": null,
            "justify_content": null,
            "_view_module": "@jupyter-widgets/base",
            "overflow": null,
            "_model_module_version": "1.2.0",
            "_view_count": null,
            "flex_flow": null,
            "width": null,
            "min_width": null,
            "border": null,
            "align_items": null,
            "bottom": null,
            "_model_module": "@jupyter-widgets/base",
            "top": null,
            "grid_column": null,
            "overflow_y": null,
            "overflow_x": null,
            "grid_auto_flow": null,
            "grid_area": null,
            "grid_template_columns": null,
            "flex": null,
            "_model_name": "LayoutModel",
            "justify_items": null,
            "grid_row": null,
            "max_height": null,
            "align_content": null,
            "visibility": null,
            "align_self": null,
            "height": null,
            "min_height": null,
            "padding": null,
            "grid_auto_rows": null,
            "grid_gap": null,
            "max_width": null,
            "order": null,
            "_view_module_version": "1.2.0",
            "grid_template_areas": null,
            "object_position": null,
            "object_fit": null,
            "grid_auto_columns": null,
            "margin": null,
            "display": null,
            "left": null
          }
        },
        "21202d90ea41444a9cec6b8d2b5ce670": {
          "model_module": "@jupyter-widgets/controls",
          "model_name": "LabelModel",
          "model_module_version": "1.5.0",
          "state": {
            "_view_name": "LabelView",
            "style": "IPY_MODEL_dd7caa28da8744468941f2d7c680b11d",
            "_dom_classes": [],
            "description": "",
            "_model_name": "LabelModel",
            "placeholder": "​",
            "_view_module": "@jupyter-widgets/controls",
            "_model_module_version": "1.5.0",
            "value": " 0.18MB of 0.18MB uploaded (0.00MB deduped)\r",
            "_view_count": null,
            "_view_module_version": "1.5.0",
            "description_tooltip": null,
            "_model_module": "@jupyter-widgets/controls",
            "layout": "IPY_MODEL_4d331b29a6404c69b48f89e4c2b6f1a7"
          }
        },
        "c6deee2fd2c948f896108cd212c96273": {
          "model_module": "@jupyter-widgets/controls",
          "model_name": "FloatProgressModel",
          "model_module_version": "1.5.0",
          "state": {
            "_view_name": "ProgressView",
            "style": "IPY_MODEL_78e5da96ea11419bb1b697610b135589",
            "_dom_classes": [],
            "description": "",
            "_model_name": "FloatProgressModel",
            "bar_style": "",
            "max": 1,
            "_view_module": "@jupyter-widgets/controls",
            "_model_module_version": "1.5.0",
            "value": 1,
            "_view_count": null,
            "_view_module_version": "1.5.0",
            "orientation": "horizontal",
            "min": 0,
            "description_tooltip": null,
            "_model_module": "@jupyter-widgets/controls",
            "layout": "IPY_MODEL_04069b1b1bcf4952b5e33cc196931ab3"
          }
        },
        "dd7caa28da8744468941f2d7c680b11d": {
          "model_module": "@jupyter-widgets/controls",
          "model_name": "DescriptionStyleModel",
          "model_module_version": "1.5.0",
          "state": {
            "_view_name": "StyleView",
            "_model_name": "DescriptionStyleModel",
            "description_width": "",
            "_view_module": "@jupyter-widgets/base",
            "_model_module_version": "1.5.0",
            "_view_count": null,
            "_view_module_version": "1.2.0",
            "_model_module": "@jupyter-widgets/controls"
          }
        },
        "4d331b29a6404c69b48f89e4c2b6f1a7": {
          "model_module": "@jupyter-widgets/base",
          "model_name": "LayoutModel",
          "model_module_version": "1.2.0",
          "state": {
            "_view_name": "LayoutView",
            "grid_template_rows": null,
            "right": null,
            "justify_content": null,
            "_view_module": "@jupyter-widgets/base",
            "overflow": null,
            "_model_module_version": "1.2.0",
            "_view_count": null,
            "flex_flow": null,
            "width": null,
            "min_width": null,
            "border": null,
            "align_items": null,
            "bottom": null,
            "_model_module": "@jupyter-widgets/base",
            "top": null,
            "grid_column": null,
            "overflow_y": null,
            "overflow_x": null,
            "grid_auto_flow": null,
            "grid_area": null,
            "grid_template_columns": null,
            "flex": null,
            "_model_name": "LayoutModel",
            "justify_items": null,
            "grid_row": null,
            "max_height": null,
            "align_content": null,
            "visibility": null,
            "align_self": null,
            "height": null,
            "min_height": null,
            "padding": null,
            "grid_auto_rows": null,
            "grid_gap": null,
            "max_width": null,
            "order": null,
            "_view_module_version": "1.2.0",
            "grid_template_areas": null,
            "object_position": null,
            "object_fit": null,
            "grid_auto_columns": null,
            "margin": null,
            "display": null,
            "left": null
          }
        },
        "78e5da96ea11419bb1b697610b135589": {
          "model_module": "@jupyter-widgets/controls",
          "model_name": "ProgressStyleModel",
          "model_module_version": "1.5.0",
          "state": {
            "_view_name": "StyleView",
            "_model_name": "ProgressStyleModel",
            "description_width": "",
            "_view_module": "@jupyter-widgets/base",
            "_model_module_version": "1.5.0",
            "_view_count": null,
            "_view_module_version": "1.2.0",
            "bar_color": null,
            "_model_module": "@jupyter-widgets/controls"
          }
        },
        "04069b1b1bcf4952b5e33cc196931ab3": {
          "model_module": "@jupyter-widgets/base",
          "model_name": "LayoutModel",
          "model_module_version": "1.2.0",
          "state": {
            "_view_name": "LayoutView",
            "grid_template_rows": null,
            "right": null,
            "justify_content": null,
            "_view_module": "@jupyter-widgets/base",
            "overflow": null,
            "_model_module_version": "1.2.0",
            "_view_count": null,
            "flex_flow": null,
            "width": null,
            "min_width": null,
            "border": null,
            "align_items": null,
            "bottom": null,
            "_model_module": "@jupyter-widgets/base",
            "top": null,
            "grid_column": null,
            "overflow_y": null,
            "overflow_x": null,
            "grid_auto_flow": null,
            "grid_area": null,
            "grid_template_columns": null,
            "flex": null,
            "_model_name": "LayoutModel",
            "justify_items": null,
            "grid_row": null,
            "max_height": null,
            "align_content": null,
            "visibility": null,
            "align_self": null,
            "height": null,
            "min_height": null,
            "padding": null,
            "grid_auto_rows": null,
            "grid_gap": null,
            "max_width": null,
            "order": null,
            "_view_module_version": "1.2.0",
            "grid_template_areas": null,
            "object_position": null,
            "object_fit": null,
            "grid_auto_columns": null,
            "margin": null,
            "display": null,
            "left": null
          }
        },
        "08ec6edd0ad94b22ae9229c75fef620d": {
          "model_module": "@jupyter-widgets/controls",
          "model_name": "VBoxModel",
          "model_module_version": "1.5.0",
          "state": {
            "_view_name": "VBoxView",
            "_dom_classes": [],
            "_model_name": "VBoxModel",
            "_view_module": "@jupyter-widgets/controls",
            "_model_module_version": "1.5.0",
            "_view_count": null,
            "_view_module_version": "1.5.0",
            "box_style": "",
            "layout": "IPY_MODEL_a6bb75d1052844daa5278f3c429afec7",
            "_model_module": "@jupyter-widgets/controls",
            "children": [
              "IPY_MODEL_2410c30257fb4bf98063b04fe9209f21",
              "IPY_MODEL_74c0027787dd4463b02d7a2011bc8627"
            ]
          }
        },
        "a6bb75d1052844daa5278f3c429afec7": {
          "model_module": "@jupyter-widgets/base",
          "model_name": "LayoutModel",
          "model_module_version": "1.2.0",
          "state": {
            "_view_name": "LayoutView",
            "grid_template_rows": null,
            "right": null,
            "justify_content": null,
            "_view_module": "@jupyter-widgets/base",
            "overflow": null,
            "_model_module_version": "1.2.0",
            "_view_count": null,
            "flex_flow": null,
            "width": null,
            "min_width": null,
            "border": null,
            "align_items": null,
            "bottom": null,
            "_model_module": "@jupyter-widgets/base",
            "top": null,
            "grid_column": null,
            "overflow_y": null,
            "overflow_x": null,
            "grid_auto_flow": null,
            "grid_area": null,
            "grid_template_columns": null,
            "flex": null,
            "_model_name": "LayoutModel",
            "justify_items": null,
            "grid_row": null,
            "max_height": null,
            "align_content": null,
            "visibility": null,
            "align_self": null,
            "height": null,
            "min_height": null,
            "padding": null,
            "grid_auto_rows": null,
            "grid_gap": null,
            "max_width": null,
            "order": null,
            "_view_module_version": "1.2.0",
            "grid_template_areas": null,
            "object_position": null,
            "object_fit": null,
            "grid_auto_columns": null,
            "margin": null,
            "display": null,
            "left": null
          }
        },
        "2410c30257fb4bf98063b04fe9209f21": {
          "model_module": "@jupyter-widgets/controls",
          "model_name": "LabelModel",
          "model_module_version": "1.5.0",
          "state": {
            "_view_name": "LabelView",
            "style": "IPY_MODEL_3acba8f6b26046a1b1dc891c6a8ebf81",
            "_dom_classes": [],
            "description": "",
            "_model_name": "LabelModel",
            "placeholder": "​",
            "_view_module": "@jupyter-widgets/controls",
            "_model_module_version": "1.5.0",
            "value": " 27.77MB of 27.77MB uploaded (0.00MB deduped)\r",
            "_view_count": null,
            "_view_module_version": "1.5.0",
            "description_tooltip": null,
            "_model_module": "@jupyter-widgets/controls",
            "layout": "IPY_MODEL_93c055b963bf40c2a9a2a35e053e6acf"
          }
        },
        "74c0027787dd4463b02d7a2011bc8627": {
          "model_module": "@jupyter-widgets/controls",
          "model_name": "FloatProgressModel",
          "model_module_version": "1.5.0",
          "state": {
            "_view_name": "ProgressView",
            "style": "IPY_MODEL_19b62da871cd447891c78a3e475993e4",
            "_dom_classes": [],
            "description": "",
            "_model_name": "FloatProgressModel",
            "bar_style": "",
            "max": 1,
            "_view_module": "@jupyter-widgets/controls",
            "_model_module_version": "1.5.0",
            "value": 1,
            "_view_count": null,
            "_view_module_version": "1.5.0",
            "orientation": "horizontal",
            "min": 0,
            "description_tooltip": null,
            "_model_module": "@jupyter-widgets/controls",
            "layout": "IPY_MODEL_9bc7e4120bde4195bba9d277198cd1d5"
          }
        },
        "3acba8f6b26046a1b1dc891c6a8ebf81": {
          "model_module": "@jupyter-widgets/controls",
          "model_name": "DescriptionStyleModel",
          "model_module_version": "1.5.0",
          "state": {
            "_view_name": "StyleView",
            "_model_name": "DescriptionStyleModel",
            "description_width": "",
            "_view_module": "@jupyter-widgets/base",
            "_model_module_version": "1.5.0",
            "_view_count": null,
            "_view_module_version": "1.2.0",
            "_model_module": "@jupyter-widgets/controls"
          }
        },
        "93c055b963bf40c2a9a2a35e053e6acf": {
          "model_module": "@jupyter-widgets/base",
          "model_name": "LayoutModel",
          "model_module_version": "1.2.0",
          "state": {
            "_view_name": "LayoutView",
            "grid_template_rows": null,
            "right": null,
            "justify_content": null,
            "_view_module": "@jupyter-widgets/base",
            "overflow": null,
            "_model_module_version": "1.2.0",
            "_view_count": null,
            "flex_flow": null,
            "width": null,
            "min_width": null,
            "border": null,
            "align_items": null,
            "bottom": null,
            "_model_module": "@jupyter-widgets/base",
            "top": null,
            "grid_column": null,
            "overflow_y": null,
            "overflow_x": null,
            "grid_auto_flow": null,
            "grid_area": null,
            "grid_template_columns": null,
            "flex": null,
            "_model_name": "LayoutModel",
            "justify_items": null,
            "grid_row": null,
            "max_height": null,
            "align_content": null,
            "visibility": null,
            "align_self": null,
            "height": null,
            "min_height": null,
            "padding": null,
            "grid_auto_rows": null,
            "grid_gap": null,
            "max_width": null,
            "order": null,
            "_view_module_version": "1.2.0",
            "grid_template_areas": null,
            "object_position": null,
            "object_fit": null,
            "grid_auto_columns": null,
            "margin": null,
            "display": null,
            "left": null
          }
        },
        "19b62da871cd447891c78a3e475993e4": {
          "model_module": "@jupyter-widgets/controls",
          "model_name": "ProgressStyleModel",
          "model_module_version": "1.5.0",
          "state": {
            "_view_name": "StyleView",
            "_model_name": "ProgressStyleModel",
            "description_width": "",
            "_view_module": "@jupyter-widgets/base",
            "_model_module_version": "1.5.0",
            "_view_count": null,
            "_view_module_version": "1.2.0",
            "bar_color": null,
            "_model_module": "@jupyter-widgets/controls"
          }
        },
        "9bc7e4120bde4195bba9d277198cd1d5": {
          "model_module": "@jupyter-widgets/base",
          "model_name": "LayoutModel",
          "model_module_version": "1.2.0",
          "state": {
            "_view_name": "LayoutView",
            "grid_template_rows": null,
            "right": null,
            "justify_content": null,
            "_view_module": "@jupyter-widgets/base",
            "overflow": null,
            "_model_module_version": "1.2.0",
            "_view_count": null,
            "flex_flow": null,
            "width": null,
            "min_width": null,
            "border": null,
            "align_items": null,
            "bottom": null,
            "_model_module": "@jupyter-widgets/base",
            "top": null,
            "grid_column": null,
            "overflow_y": null,
            "overflow_x": null,
            "grid_auto_flow": null,
            "grid_area": null,
            "grid_template_columns": null,
            "flex": null,
            "_model_name": "LayoutModel",
            "justify_items": null,
            "grid_row": null,
            "max_height": null,
            "align_content": null,
            "visibility": null,
            "align_self": null,
            "height": null,
            "min_height": null,
            "padding": null,
            "grid_auto_rows": null,
            "grid_gap": null,
            "max_width": null,
            "order": null,
            "_view_module_version": "1.2.0",
            "grid_template_areas": null,
            "object_position": null,
            "object_fit": null,
            "grid_auto_columns": null,
            "margin": null,
            "display": null,
            "left": null
          }
        },
        "5fe61421479e4ea685a297235cd1309b": {
          "model_module": "@jupyter-widgets/controls",
          "model_name": "VBoxModel",
          "model_module_version": "1.5.0",
          "state": {
            "_view_name": "VBoxView",
            "_dom_classes": [],
            "_model_name": "VBoxModel",
            "_view_module": "@jupyter-widgets/controls",
            "_model_module_version": "1.5.0",
            "_view_count": null,
            "_view_module_version": "1.5.0",
            "box_style": "",
            "layout": "IPY_MODEL_0e393409447b43d18de003880d9fc129",
            "_model_module": "@jupyter-widgets/controls",
            "children": [
              "IPY_MODEL_bfdfec175fbe44b480a4f57a73143099",
              "IPY_MODEL_aa537a0acec94939b0b77b8aa2e42908"
            ]
          }
        },
        "0e393409447b43d18de003880d9fc129": {
          "model_module": "@jupyter-widgets/base",
          "model_name": "LayoutModel",
          "model_module_version": "1.2.0",
          "state": {
            "_view_name": "LayoutView",
            "grid_template_rows": null,
            "right": null,
            "justify_content": null,
            "_view_module": "@jupyter-widgets/base",
            "overflow": null,
            "_model_module_version": "1.2.0",
            "_view_count": null,
            "flex_flow": null,
            "width": null,
            "min_width": null,
            "border": null,
            "align_items": null,
            "bottom": null,
            "_model_module": "@jupyter-widgets/base",
            "top": null,
            "grid_column": null,
            "overflow_y": null,
            "overflow_x": null,
            "grid_auto_flow": null,
            "grid_area": null,
            "grid_template_columns": null,
            "flex": null,
            "_model_name": "LayoutModel",
            "justify_items": null,
            "grid_row": null,
            "max_height": null,
            "align_content": null,
            "visibility": null,
            "align_self": null,
            "height": null,
            "min_height": null,
            "padding": null,
            "grid_auto_rows": null,
            "grid_gap": null,
            "max_width": null,
            "order": null,
            "_view_module_version": "1.2.0",
            "grid_template_areas": null,
            "object_position": null,
            "object_fit": null,
            "grid_auto_columns": null,
            "margin": null,
            "display": null,
            "left": null
          }
        },
        "bfdfec175fbe44b480a4f57a73143099": {
          "model_module": "@jupyter-widgets/controls",
          "model_name": "LabelModel",
          "model_module_version": "1.5.0",
          "state": {
            "_view_name": "LabelView",
            "style": "IPY_MODEL_57b460d6456e4984bbafa0d6e0765060",
            "_dom_classes": [],
            "description": "",
            "_model_name": "LabelModel",
            "placeholder": "​",
            "_view_module": "@jupyter-widgets/controls",
            "_model_module_version": "1.5.0",
            "value": " 27.77MB of 27.77MB uploaded (0.00MB deduped)\r",
            "_view_count": null,
            "_view_module_version": "1.5.0",
            "description_tooltip": null,
            "_model_module": "@jupyter-widgets/controls",
            "layout": "IPY_MODEL_49bd99a6a1b74fb78a4bf9722f96ec0f"
          }
        },
        "aa537a0acec94939b0b77b8aa2e42908": {
          "model_module": "@jupyter-widgets/controls",
          "model_name": "FloatProgressModel",
          "model_module_version": "1.5.0",
          "state": {
            "_view_name": "ProgressView",
            "style": "IPY_MODEL_9d1e3fd8eabb470fb1975e053761f6e8",
            "_dom_classes": [],
            "description": "",
            "_model_name": "FloatProgressModel",
            "bar_style": "",
            "max": 1,
            "_view_module": "@jupyter-widgets/controls",
            "_model_module_version": "1.5.0",
            "value": 1,
            "_view_count": null,
            "_view_module_version": "1.5.0",
            "orientation": "horizontal",
            "min": 0,
            "description_tooltip": null,
            "_model_module": "@jupyter-widgets/controls",
            "layout": "IPY_MODEL_14672928e18a43278a09a8826d096e63"
          }
        },
        "57b460d6456e4984bbafa0d6e0765060": {
          "model_module": "@jupyter-widgets/controls",
          "model_name": "DescriptionStyleModel",
          "model_module_version": "1.5.0",
          "state": {
            "_view_name": "StyleView",
            "_model_name": "DescriptionStyleModel",
            "description_width": "",
            "_view_module": "@jupyter-widgets/base",
            "_model_module_version": "1.5.0",
            "_view_count": null,
            "_view_module_version": "1.2.0",
            "_model_module": "@jupyter-widgets/controls"
          }
        },
        "49bd99a6a1b74fb78a4bf9722f96ec0f": {
          "model_module": "@jupyter-widgets/base",
          "model_name": "LayoutModel",
          "model_module_version": "1.2.0",
          "state": {
            "_view_name": "LayoutView",
            "grid_template_rows": null,
            "right": null,
            "justify_content": null,
            "_view_module": "@jupyter-widgets/base",
            "overflow": null,
            "_model_module_version": "1.2.0",
            "_view_count": null,
            "flex_flow": null,
            "width": null,
            "min_width": null,
            "border": null,
            "align_items": null,
            "bottom": null,
            "_model_module": "@jupyter-widgets/base",
            "top": null,
            "grid_column": null,
            "overflow_y": null,
            "overflow_x": null,
            "grid_auto_flow": null,
            "grid_area": null,
            "grid_template_columns": null,
            "flex": null,
            "_model_name": "LayoutModel",
            "justify_items": null,
            "grid_row": null,
            "max_height": null,
            "align_content": null,
            "visibility": null,
            "align_self": null,
            "height": null,
            "min_height": null,
            "padding": null,
            "grid_auto_rows": null,
            "grid_gap": null,
            "max_width": null,
            "order": null,
            "_view_module_version": "1.2.0",
            "grid_template_areas": null,
            "object_position": null,
            "object_fit": null,
            "grid_auto_columns": null,
            "margin": null,
            "display": null,
            "left": null
          }
        },
        "9d1e3fd8eabb470fb1975e053761f6e8": {
          "model_module": "@jupyter-widgets/controls",
          "model_name": "ProgressStyleModel",
          "model_module_version": "1.5.0",
          "state": {
            "_view_name": "StyleView",
            "_model_name": "ProgressStyleModel",
            "description_width": "",
            "_view_module": "@jupyter-widgets/base",
            "_model_module_version": "1.5.0",
            "_view_count": null,
            "_view_module_version": "1.2.0",
            "bar_color": null,
            "_model_module": "@jupyter-widgets/controls"
          }
        },
        "14672928e18a43278a09a8826d096e63": {
          "model_module": "@jupyter-widgets/base",
          "model_name": "LayoutModel",
          "model_module_version": "1.2.0",
          "state": {
            "_view_name": "LayoutView",
            "grid_template_rows": null,
            "right": null,
            "justify_content": null,
            "_view_module": "@jupyter-widgets/base",
            "overflow": null,
            "_model_module_version": "1.2.0",
            "_view_count": null,
            "flex_flow": null,
            "width": null,
            "min_width": null,
            "border": null,
            "align_items": null,
            "bottom": null,
            "_model_module": "@jupyter-widgets/base",
            "top": null,
            "grid_column": null,
            "overflow_y": null,
            "overflow_x": null,
            "grid_auto_flow": null,
            "grid_area": null,
            "grid_template_columns": null,
            "flex": null,
            "_model_name": "LayoutModel",
            "justify_items": null,
            "grid_row": null,
            "max_height": null,
            "align_content": null,
            "visibility": null,
            "align_self": null,
            "height": null,
            "min_height": null,
            "padding": null,
            "grid_auto_rows": null,
            "grid_gap": null,
            "max_width": null,
            "order": null,
            "_view_module_version": "1.2.0",
            "grid_template_areas": null,
            "object_position": null,
            "object_fit": null,
            "grid_auto_columns": null,
            "margin": null,
            "display": null,
            "left": null
          }
        },
        "805e4eb852354c8da74a9ae3e210bb94": {
          "model_module": "@jupyter-widgets/controls",
          "model_name": "VBoxModel",
          "model_module_version": "1.5.0",
          "state": {
            "_view_name": "VBoxView",
            "_dom_classes": [],
            "_model_name": "VBoxModel",
            "_view_module": "@jupyter-widgets/controls",
            "_model_module_version": "1.5.0",
            "_view_count": null,
            "_view_module_version": "1.5.0",
            "box_style": "",
            "layout": "IPY_MODEL_371f6b91becc4845b6a9686475fb08d1",
            "_model_module": "@jupyter-widgets/controls",
            "children": [
              "IPY_MODEL_5c754523a9fe4818a42224ca27f78b75",
              "IPY_MODEL_5d101cbaee5a4f0abe0917b1bf4a46de"
            ]
          }
        },
        "371f6b91becc4845b6a9686475fb08d1": {
          "model_module": "@jupyter-widgets/base",
          "model_name": "LayoutModel",
          "model_module_version": "1.2.0",
          "state": {
            "_view_name": "LayoutView",
            "grid_template_rows": null,
            "right": null,
            "justify_content": null,
            "_view_module": "@jupyter-widgets/base",
            "overflow": null,
            "_model_module_version": "1.2.0",
            "_view_count": null,
            "flex_flow": null,
            "width": null,
            "min_width": null,
            "border": null,
            "align_items": null,
            "bottom": null,
            "_model_module": "@jupyter-widgets/base",
            "top": null,
            "grid_column": null,
            "overflow_y": null,
            "overflow_x": null,
            "grid_auto_flow": null,
            "grid_area": null,
            "grid_template_columns": null,
            "flex": null,
            "_model_name": "LayoutModel",
            "justify_items": null,
            "grid_row": null,
            "max_height": null,
            "align_content": null,
            "visibility": null,
            "align_self": null,
            "height": null,
            "min_height": null,
            "padding": null,
            "grid_auto_rows": null,
            "grid_gap": null,
            "max_width": null,
            "order": null,
            "_view_module_version": "1.2.0",
            "grid_template_areas": null,
            "object_position": null,
            "object_fit": null,
            "grid_auto_columns": null,
            "margin": null,
            "display": null,
            "left": null
          }
        },
        "5c754523a9fe4818a42224ca27f78b75": {
          "model_module": "@jupyter-widgets/controls",
          "model_name": "LabelModel",
          "model_module_version": "1.5.0",
          "state": {
            "_view_name": "LabelView",
            "style": "IPY_MODEL_9282c05151c64729a3e792ef6d9290bf",
            "_dom_classes": [],
            "description": "",
            "_model_name": "LabelModel",
            "placeholder": "​",
            "_view_module": "@jupyter-widgets/controls",
            "_model_module_version": "1.5.0",
            "value": " 27.78MB of 27.78MB uploaded (0.00MB deduped)\r",
            "_view_count": null,
            "_view_module_version": "1.5.0",
            "description_tooltip": null,
            "_model_module": "@jupyter-widgets/controls",
            "layout": "IPY_MODEL_dd24dfa48a4d485294ed65061b26137c"
          }
        },
        "5d101cbaee5a4f0abe0917b1bf4a46de": {
          "model_module": "@jupyter-widgets/controls",
          "model_name": "FloatProgressModel",
          "model_module_version": "1.5.0",
          "state": {
            "_view_name": "ProgressView",
            "style": "IPY_MODEL_470fddc18638479daad1e06bbc618976",
            "_dom_classes": [],
            "description": "",
            "_model_name": "FloatProgressModel",
            "bar_style": "",
            "max": 1,
            "_view_module": "@jupyter-widgets/controls",
            "_model_module_version": "1.5.0",
            "value": 1,
            "_view_count": null,
            "_view_module_version": "1.5.0",
            "orientation": "horizontal",
            "min": 0,
            "description_tooltip": null,
            "_model_module": "@jupyter-widgets/controls",
            "layout": "IPY_MODEL_8fa5906f83cd4e5f87e08b7bbba58c05"
          }
        },
        "9282c05151c64729a3e792ef6d9290bf": {
          "model_module": "@jupyter-widgets/controls",
          "model_name": "DescriptionStyleModel",
          "model_module_version": "1.5.0",
          "state": {
            "_view_name": "StyleView",
            "_model_name": "DescriptionStyleModel",
            "description_width": "",
            "_view_module": "@jupyter-widgets/base",
            "_model_module_version": "1.5.0",
            "_view_count": null,
            "_view_module_version": "1.2.0",
            "_model_module": "@jupyter-widgets/controls"
          }
        },
        "dd24dfa48a4d485294ed65061b26137c": {
          "model_module": "@jupyter-widgets/base",
          "model_name": "LayoutModel",
          "model_module_version": "1.2.0",
          "state": {
            "_view_name": "LayoutView",
            "grid_template_rows": null,
            "right": null,
            "justify_content": null,
            "_view_module": "@jupyter-widgets/base",
            "overflow": null,
            "_model_module_version": "1.2.0",
            "_view_count": null,
            "flex_flow": null,
            "width": null,
            "min_width": null,
            "border": null,
            "align_items": null,
            "bottom": null,
            "_model_module": "@jupyter-widgets/base",
            "top": null,
            "grid_column": null,
            "overflow_y": null,
            "overflow_x": null,
            "grid_auto_flow": null,
            "grid_area": null,
            "grid_template_columns": null,
            "flex": null,
            "_model_name": "LayoutModel",
            "justify_items": null,
            "grid_row": null,
            "max_height": null,
            "align_content": null,
            "visibility": null,
            "align_self": null,
            "height": null,
            "min_height": null,
            "padding": null,
            "grid_auto_rows": null,
            "grid_gap": null,
            "max_width": null,
            "order": null,
            "_view_module_version": "1.2.0",
            "grid_template_areas": null,
            "object_position": null,
            "object_fit": null,
            "grid_auto_columns": null,
            "margin": null,
            "display": null,
            "left": null
          }
        },
        "470fddc18638479daad1e06bbc618976": {
          "model_module": "@jupyter-widgets/controls",
          "model_name": "ProgressStyleModel",
          "model_module_version": "1.5.0",
          "state": {
            "_view_name": "StyleView",
            "_model_name": "ProgressStyleModel",
            "description_width": "",
            "_view_module": "@jupyter-widgets/base",
            "_model_module_version": "1.5.0",
            "_view_count": null,
            "_view_module_version": "1.2.0",
            "bar_color": null,
            "_model_module": "@jupyter-widgets/controls"
          }
        },
        "8fa5906f83cd4e5f87e08b7bbba58c05": {
          "model_module": "@jupyter-widgets/base",
          "model_name": "LayoutModel",
          "model_module_version": "1.2.0",
          "state": {
            "_view_name": "LayoutView",
            "grid_template_rows": null,
            "right": null,
            "justify_content": null,
            "_view_module": "@jupyter-widgets/base",
            "overflow": null,
            "_model_module_version": "1.2.0",
            "_view_count": null,
            "flex_flow": null,
            "width": null,
            "min_width": null,
            "border": null,
            "align_items": null,
            "bottom": null,
            "_model_module": "@jupyter-widgets/base",
            "top": null,
            "grid_column": null,
            "overflow_y": null,
            "overflow_x": null,
            "grid_auto_flow": null,
            "grid_area": null,
            "grid_template_columns": null,
            "flex": null,
            "_model_name": "LayoutModel",
            "justify_items": null,
            "grid_row": null,
            "max_height": null,
            "align_content": null,
            "visibility": null,
            "align_self": null,
            "height": null,
            "min_height": null,
            "padding": null,
            "grid_auto_rows": null,
            "grid_gap": null,
            "max_width": null,
            "order": null,
            "_view_module_version": "1.2.0",
            "grid_template_areas": null,
            "object_position": null,
            "object_fit": null,
            "grid_auto_columns": null,
            "margin": null,
            "display": null,
            "left": null
          }
        },
        "b46cc6aa249b4339b4ecbbdba8b9eef9": {
          "model_module": "@jupyter-widgets/controls",
          "model_name": "VBoxModel",
          "model_module_version": "1.5.0",
          "state": {
            "_view_name": "VBoxView",
            "_dom_classes": [],
            "_model_name": "VBoxModel",
            "_view_module": "@jupyter-widgets/controls",
            "_model_module_version": "1.5.0",
            "_view_count": null,
            "_view_module_version": "1.5.0",
            "box_style": "",
            "layout": "IPY_MODEL_d1bb5110c55c4da990c42d67556d8e09",
            "_model_module": "@jupyter-widgets/controls",
            "children": [
              "IPY_MODEL_eca636a640df429386c7018fe91dfc55",
              "IPY_MODEL_154b3a8cad27407ca3a53ddc31e45f1f"
            ]
          }
        },
        "d1bb5110c55c4da990c42d67556d8e09": {
          "model_module": "@jupyter-widgets/base",
          "model_name": "LayoutModel",
          "model_module_version": "1.2.0",
          "state": {
            "_view_name": "LayoutView",
            "grid_template_rows": null,
            "right": null,
            "justify_content": null,
            "_view_module": "@jupyter-widgets/base",
            "overflow": null,
            "_model_module_version": "1.2.0",
            "_view_count": null,
            "flex_flow": null,
            "width": null,
            "min_width": null,
            "border": null,
            "align_items": null,
            "bottom": null,
            "_model_module": "@jupyter-widgets/base",
            "top": null,
            "grid_column": null,
            "overflow_y": null,
            "overflow_x": null,
            "grid_auto_flow": null,
            "grid_area": null,
            "grid_template_columns": null,
            "flex": null,
            "_model_name": "LayoutModel",
            "justify_items": null,
            "grid_row": null,
            "max_height": null,
            "align_content": null,
            "visibility": null,
            "align_self": null,
            "height": null,
            "min_height": null,
            "padding": null,
            "grid_auto_rows": null,
            "grid_gap": null,
            "max_width": null,
            "order": null,
            "_view_module_version": "1.2.0",
            "grid_template_areas": null,
            "object_position": null,
            "object_fit": null,
            "grid_auto_columns": null,
            "margin": null,
            "display": null,
            "left": null
          }
        },
        "eca636a640df429386c7018fe91dfc55": {
          "model_module": "@jupyter-widgets/controls",
          "model_name": "LabelModel",
          "model_module_version": "1.5.0",
          "state": {
            "_view_name": "LabelView",
            "style": "IPY_MODEL_89a835d136d942d09af6441831dc6ba0",
            "_dom_classes": [],
            "description": "",
            "_model_name": "LabelModel",
            "placeholder": "​",
            "_view_module": "@jupyter-widgets/controls",
            "_model_module_version": "1.5.0",
            "value": " 27.77MB of 27.77MB uploaded (0.00MB deduped)\r",
            "_view_count": null,
            "_view_module_version": "1.5.0",
            "description_tooltip": null,
            "_model_module": "@jupyter-widgets/controls",
            "layout": "IPY_MODEL_4c940d5dcd154619ad4c63d623ce0e96"
          }
        },
        "154b3a8cad27407ca3a53ddc31e45f1f": {
          "model_module": "@jupyter-widgets/controls",
          "model_name": "FloatProgressModel",
          "model_module_version": "1.5.0",
          "state": {
            "_view_name": "ProgressView",
            "style": "IPY_MODEL_ab1a886c1faa48e4b64d7f546a9cecd4",
            "_dom_classes": [],
            "description": "",
            "_model_name": "FloatProgressModel",
            "bar_style": "",
            "max": 1,
            "_view_module": "@jupyter-widgets/controls",
            "_model_module_version": "1.5.0",
            "value": 1,
            "_view_count": null,
            "_view_module_version": "1.5.0",
            "orientation": "horizontal",
            "min": 0,
            "description_tooltip": null,
            "_model_module": "@jupyter-widgets/controls",
            "layout": "IPY_MODEL_35c77e65b1634ee5be45111338a11650"
          }
        },
        "89a835d136d942d09af6441831dc6ba0": {
          "model_module": "@jupyter-widgets/controls",
          "model_name": "DescriptionStyleModel",
          "model_module_version": "1.5.0",
          "state": {
            "_view_name": "StyleView",
            "_model_name": "DescriptionStyleModel",
            "description_width": "",
            "_view_module": "@jupyter-widgets/base",
            "_model_module_version": "1.5.0",
            "_view_count": null,
            "_view_module_version": "1.2.0",
            "_model_module": "@jupyter-widgets/controls"
          }
        },
        "4c940d5dcd154619ad4c63d623ce0e96": {
          "model_module": "@jupyter-widgets/base",
          "model_name": "LayoutModel",
          "model_module_version": "1.2.0",
          "state": {
            "_view_name": "LayoutView",
            "grid_template_rows": null,
            "right": null,
            "justify_content": null,
            "_view_module": "@jupyter-widgets/base",
            "overflow": null,
            "_model_module_version": "1.2.0",
            "_view_count": null,
            "flex_flow": null,
            "width": null,
            "min_width": null,
            "border": null,
            "align_items": null,
            "bottom": null,
            "_model_module": "@jupyter-widgets/base",
            "top": null,
            "grid_column": null,
            "overflow_y": null,
            "overflow_x": null,
            "grid_auto_flow": null,
            "grid_area": null,
            "grid_template_columns": null,
            "flex": null,
            "_model_name": "LayoutModel",
            "justify_items": null,
            "grid_row": null,
            "max_height": null,
            "align_content": null,
            "visibility": null,
            "align_self": null,
            "height": null,
            "min_height": null,
            "padding": null,
            "grid_auto_rows": null,
            "grid_gap": null,
            "max_width": null,
            "order": null,
            "_view_module_version": "1.2.0",
            "grid_template_areas": null,
            "object_position": null,
            "object_fit": null,
            "grid_auto_columns": null,
            "margin": null,
            "display": null,
            "left": null
          }
        },
        "ab1a886c1faa48e4b64d7f546a9cecd4": {
          "model_module": "@jupyter-widgets/controls",
          "model_name": "ProgressStyleModel",
          "model_module_version": "1.5.0",
          "state": {
            "_view_name": "StyleView",
            "_model_name": "ProgressStyleModel",
            "description_width": "",
            "_view_module": "@jupyter-widgets/base",
            "_model_module_version": "1.5.0",
            "_view_count": null,
            "_view_module_version": "1.2.0",
            "bar_color": null,
            "_model_module": "@jupyter-widgets/controls"
          }
        },
        "35c77e65b1634ee5be45111338a11650": {
          "model_module": "@jupyter-widgets/base",
          "model_name": "LayoutModel",
          "model_module_version": "1.2.0",
          "state": {
            "_view_name": "LayoutView",
            "grid_template_rows": null,
            "right": null,
            "justify_content": null,
            "_view_module": "@jupyter-widgets/base",
            "overflow": null,
            "_model_module_version": "1.2.0",
            "_view_count": null,
            "flex_flow": null,
            "width": null,
            "min_width": null,
            "border": null,
            "align_items": null,
            "bottom": null,
            "_model_module": "@jupyter-widgets/base",
            "top": null,
            "grid_column": null,
            "overflow_y": null,
            "overflow_x": null,
            "grid_auto_flow": null,
            "grid_area": null,
            "grid_template_columns": null,
            "flex": null,
            "_model_name": "LayoutModel",
            "justify_items": null,
            "grid_row": null,
            "max_height": null,
            "align_content": null,
            "visibility": null,
            "align_self": null,
            "height": null,
            "min_height": null,
            "padding": null,
            "grid_auto_rows": null,
            "grid_gap": null,
            "max_width": null,
            "order": null,
            "_view_module_version": "1.2.0",
            "grid_template_areas": null,
            "object_position": null,
            "object_fit": null,
            "grid_auto_columns": null,
            "margin": null,
            "display": null,
            "left": null
          }
        },
        "7b1756e2e8f54fc68005c4437b77fb6e": {
          "model_module": "@jupyter-widgets/controls",
          "model_name": "VBoxModel",
          "model_module_version": "1.5.0",
          "state": {
            "_view_name": "VBoxView",
            "_dom_classes": [],
            "_model_name": "VBoxModel",
            "_view_module": "@jupyter-widgets/controls",
            "_model_module_version": "1.5.0",
            "_view_count": null,
            "_view_module_version": "1.5.0",
            "box_style": "",
            "layout": "IPY_MODEL_14848cede06941f8bf0946099e6f4cd2",
            "_model_module": "@jupyter-widgets/controls",
            "children": [
              "IPY_MODEL_a73538f7fed747319d6b18975ccdc313",
              "IPY_MODEL_71e4f3389b5b4cacaf7fcc45f28919f9"
            ]
          }
        },
        "14848cede06941f8bf0946099e6f4cd2": {
          "model_module": "@jupyter-widgets/base",
          "model_name": "LayoutModel",
          "model_module_version": "1.2.0",
          "state": {
            "_view_name": "LayoutView",
            "grid_template_rows": null,
            "right": null,
            "justify_content": null,
            "_view_module": "@jupyter-widgets/base",
            "overflow": null,
            "_model_module_version": "1.2.0",
            "_view_count": null,
            "flex_flow": null,
            "width": null,
            "min_width": null,
            "border": null,
            "align_items": null,
            "bottom": null,
            "_model_module": "@jupyter-widgets/base",
            "top": null,
            "grid_column": null,
            "overflow_y": null,
            "overflow_x": null,
            "grid_auto_flow": null,
            "grid_area": null,
            "grid_template_columns": null,
            "flex": null,
            "_model_name": "LayoutModel",
            "justify_items": null,
            "grid_row": null,
            "max_height": null,
            "align_content": null,
            "visibility": null,
            "align_self": null,
            "height": null,
            "min_height": null,
            "padding": null,
            "grid_auto_rows": null,
            "grid_gap": null,
            "max_width": null,
            "order": null,
            "_view_module_version": "1.2.0",
            "grid_template_areas": null,
            "object_position": null,
            "object_fit": null,
            "grid_auto_columns": null,
            "margin": null,
            "display": null,
            "left": null
          }
        },
        "a73538f7fed747319d6b18975ccdc313": {
          "model_module": "@jupyter-widgets/controls",
          "model_name": "LabelModel",
          "model_module_version": "1.5.0",
          "state": {
            "_view_name": "LabelView",
            "style": "IPY_MODEL_a6dd0dd6f0b643fcbab87443dbed7f10",
            "_dom_classes": [],
            "description": "",
            "_model_name": "LabelModel",
            "placeholder": "​",
            "_view_module": "@jupyter-widgets/controls",
            "_model_module_version": "1.5.0",
            "value": " 27.78MB of 27.78MB uploaded (0.00MB deduped)\r",
            "_view_count": null,
            "_view_module_version": "1.5.0",
            "description_tooltip": null,
            "_model_module": "@jupyter-widgets/controls",
            "layout": "IPY_MODEL_d2c36c5f0bb84b16a7160c7a823dde55"
          }
        },
        "71e4f3389b5b4cacaf7fcc45f28919f9": {
          "model_module": "@jupyter-widgets/controls",
          "model_name": "FloatProgressModel",
          "model_module_version": "1.5.0",
          "state": {
            "_view_name": "ProgressView",
            "style": "IPY_MODEL_0dec49f20b4b4d70ad96b98fb4ed74f3",
            "_dom_classes": [],
            "description": "",
            "_model_name": "FloatProgressModel",
            "bar_style": "",
            "max": 1,
            "_view_module": "@jupyter-widgets/controls",
            "_model_module_version": "1.5.0",
            "value": 1,
            "_view_count": null,
            "_view_module_version": "1.5.0",
            "orientation": "horizontal",
            "min": 0,
            "description_tooltip": null,
            "_model_module": "@jupyter-widgets/controls",
            "layout": "IPY_MODEL_7ac2cdbc2a7a4767831f24572cbd19c6"
          }
        },
        "a6dd0dd6f0b643fcbab87443dbed7f10": {
          "model_module": "@jupyter-widgets/controls",
          "model_name": "DescriptionStyleModel",
          "model_module_version": "1.5.0",
          "state": {
            "_view_name": "StyleView",
            "_model_name": "DescriptionStyleModel",
            "description_width": "",
            "_view_module": "@jupyter-widgets/base",
            "_model_module_version": "1.5.0",
            "_view_count": null,
            "_view_module_version": "1.2.0",
            "_model_module": "@jupyter-widgets/controls"
          }
        },
        "d2c36c5f0bb84b16a7160c7a823dde55": {
          "model_module": "@jupyter-widgets/base",
          "model_name": "LayoutModel",
          "model_module_version": "1.2.0",
          "state": {
            "_view_name": "LayoutView",
            "grid_template_rows": null,
            "right": null,
            "justify_content": null,
            "_view_module": "@jupyter-widgets/base",
            "overflow": null,
            "_model_module_version": "1.2.0",
            "_view_count": null,
            "flex_flow": null,
            "width": null,
            "min_width": null,
            "border": null,
            "align_items": null,
            "bottom": null,
            "_model_module": "@jupyter-widgets/base",
            "top": null,
            "grid_column": null,
            "overflow_y": null,
            "overflow_x": null,
            "grid_auto_flow": null,
            "grid_area": null,
            "grid_template_columns": null,
            "flex": null,
            "_model_name": "LayoutModel",
            "justify_items": null,
            "grid_row": null,
            "max_height": null,
            "align_content": null,
            "visibility": null,
            "align_self": null,
            "height": null,
            "min_height": null,
            "padding": null,
            "grid_auto_rows": null,
            "grid_gap": null,
            "max_width": null,
            "order": null,
            "_view_module_version": "1.2.0",
            "grid_template_areas": null,
            "object_position": null,
            "object_fit": null,
            "grid_auto_columns": null,
            "margin": null,
            "display": null,
            "left": null
          }
        },
        "0dec49f20b4b4d70ad96b98fb4ed74f3": {
          "model_module": "@jupyter-widgets/controls",
          "model_name": "ProgressStyleModel",
          "model_module_version": "1.5.0",
          "state": {
            "_view_name": "StyleView",
            "_model_name": "ProgressStyleModel",
            "description_width": "",
            "_view_module": "@jupyter-widgets/base",
            "_model_module_version": "1.5.0",
            "_view_count": null,
            "_view_module_version": "1.2.0",
            "bar_color": null,
            "_model_module": "@jupyter-widgets/controls"
          }
        },
        "7ac2cdbc2a7a4767831f24572cbd19c6": {
          "model_module": "@jupyter-widgets/base",
          "model_name": "LayoutModel",
          "model_module_version": "1.2.0",
          "state": {
            "_view_name": "LayoutView",
            "grid_template_rows": null,
            "right": null,
            "justify_content": null,
            "_view_module": "@jupyter-widgets/base",
            "overflow": null,
            "_model_module_version": "1.2.0",
            "_view_count": null,
            "flex_flow": null,
            "width": null,
            "min_width": null,
            "border": null,
            "align_items": null,
            "bottom": null,
            "_model_module": "@jupyter-widgets/base",
            "top": null,
            "grid_column": null,
            "overflow_y": null,
            "overflow_x": null,
            "grid_auto_flow": null,
            "grid_area": null,
            "grid_template_columns": null,
            "flex": null,
            "_model_name": "LayoutModel",
            "justify_items": null,
            "grid_row": null,
            "max_height": null,
            "align_content": null,
            "visibility": null,
            "align_self": null,
            "height": null,
            "min_height": null,
            "padding": null,
            "grid_auto_rows": null,
            "grid_gap": null,
            "max_width": null,
            "order": null,
            "_view_module_version": "1.2.0",
            "grid_template_areas": null,
            "object_position": null,
            "object_fit": null,
            "grid_auto_columns": null,
            "margin": null,
            "display": null,
            "left": null
          }
        },
        "c2c690aa1bcb498484f9bda28ff7c111": {
          "model_module": "@jupyter-widgets/controls",
          "model_name": "VBoxModel",
          "model_module_version": "1.5.0",
          "state": {
            "_view_name": "VBoxView",
            "_dom_classes": [],
            "_model_name": "VBoxModel",
            "_view_module": "@jupyter-widgets/controls",
            "_model_module_version": "1.5.0",
            "_view_count": null,
            "_view_module_version": "1.5.0",
            "box_style": "",
            "layout": "IPY_MODEL_3885e392b1e6483d9e59d4c2cd9e69cf",
            "_model_module": "@jupyter-widgets/controls",
            "children": [
              "IPY_MODEL_b45da8804b7145d4a2f74da1f37e16d5",
              "IPY_MODEL_70e75352039b4e599578b9507ba58f3d"
            ]
          }
        },
        "3885e392b1e6483d9e59d4c2cd9e69cf": {
          "model_module": "@jupyter-widgets/base",
          "model_name": "LayoutModel",
          "model_module_version": "1.2.0",
          "state": {
            "_view_name": "LayoutView",
            "grid_template_rows": null,
            "right": null,
            "justify_content": null,
            "_view_module": "@jupyter-widgets/base",
            "overflow": null,
            "_model_module_version": "1.2.0",
            "_view_count": null,
            "flex_flow": null,
            "width": null,
            "min_width": null,
            "border": null,
            "align_items": null,
            "bottom": null,
            "_model_module": "@jupyter-widgets/base",
            "top": null,
            "grid_column": null,
            "overflow_y": null,
            "overflow_x": null,
            "grid_auto_flow": null,
            "grid_area": null,
            "grid_template_columns": null,
            "flex": null,
            "_model_name": "LayoutModel",
            "justify_items": null,
            "grid_row": null,
            "max_height": null,
            "align_content": null,
            "visibility": null,
            "align_self": null,
            "height": null,
            "min_height": null,
            "padding": null,
            "grid_auto_rows": null,
            "grid_gap": null,
            "max_width": null,
            "order": null,
            "_view_module_version": "1.2.0",
            "grid_template_areas": null,
            "object_position": null,
            "object_fit": null,
            "grid_auto_columns": null,
            "margin": null,
            "display": null,
            "left": null
          }
        },
        "b45da8804b7145d4a2f74da1f37e16d5": {
          "model_module": "@jupyter-widgets/controls",
          "model_name": "LabelModel",
          "model_module_version": "1.5.0",
          "state": {
            "_view_name": "LabelView",
            "style": "IPY_MODEL_b65e219c6823483983d7a3ee00fbf610",
            "_dom_classes": [],
            "description": "",
            "_model_name": "LabelModel",
            "placeholder": "​",
            "_view_module": "@jupyter-widgets/controls",
            "_model_module_version": "1.5.0",
            "value": " 27.78MB of 27.78MB uploaded (0.00MB deduped)\r",
            "_view_count": null,
            "_view_module_version": "1.5.0",
            "description_tooltip": null,
            "_model_module": "@jupyter-widgets/controls",
            "layout": "IPY_MODEL_7398a5340e0643a8b6f5f72f6ebca762"
          }
        },
        "70e75352039b4e599578b9507ba58f3d": {
          "model_module": "@jupyter-widgets/controls",
          "model_name": "FloatProgressModel",
          "model_module_version": "1.5.0",
          "state": {
            "_view_name": "ProgressView",
            "style": "IPY_MODEL_1e29f09f27a84ed4a5a7c4ca4bde36b1",
            "_dom_classes": [],
            "description": "",
            "_model_name": "FloatProgressModel",
            "bar_style": "",
            "max": 1,
            "_view_module": "@jupyter-widgets/controls",
            "_model_module_version": "1.5.0",
            "value": 1,
            "_view_count": null,
            "_view_module_version": "1.5.0",
            "orientation": "horizontal",
            "min": 0,
            "description_tooltip": null,
            "_model_module": "@jupyter-widgets/controls",
            "layout": "IPY_MODEL_4694d25df20446768b7b62f590ad8c11"
          }
        },
        "b65e219c6823483983d7a3ee00fbf610": {
          "model_module": "@jupyter-widgets/controls",
          "model_name": "DescriptionStyleModel",
          "model_module_version": "1.5.0",
          "state": {
            "_view_name": "StyleView",
            "_model_name": "DescriptionStyleModel",
            "description_width": "",
            "_view_module": "@jupyter-widgets/base",
            "_model_module_version": "1.5.0",
            "_view_count": null,
            "_view_module_version": "1.2.0",
            "_model_module": "@jupyter-widgets/controls"
          }
        },
        "7398a5340e0643a8b6f5f72f6ebca762": {
          "model_module": "@jupyter-widgets/base",
          "model_name": "LayoutModel",
          "model_module_version": "1.2.0",
          "state": {
            "_view_name": "LayoutView",
            "grid_template_rows": null,
            "right": null,
            "justify_content": null,
            "_view_module": "@jupyter-widgets/base",
            "overflow": null,
            "_model_module_version": "1.2.0",
            "_view_count": null,
            "flex_flow": null,
            "width": null,
            "min_width": null,
            "border": null,
            "align_items": null,
            "bottom": null,
            "_model_module": "@jupyter-widgets/base",
            "top": null,
            "grid_column": null,
            "overflow_y": null,
            "overflow_x": null,
            "grid_auto_flow": null,
            "grid_area": null,
            "grid_template_columns": null,
            "flex": null,
            "_model_name": "LayoutModel",
            "justify_items": null,
            "grid_row": null,
            "max_height": null,
            "align_content": null,
            "visibility": null,
            "align_self": null,
            "height": null,
            "min_height": null,
            "padding": null,
            "grid_auto_rows": null,
            "grid_gap": null,
            "max_width": null,
            "order": null,
            "_view_module_version": "1.2.0",
            "grid_template_areas": null,
            "object_position": null,
            "object_fit": null,
            "grid_auto_columns": null,
            "margin": null,
            "display": null,
            "left": null
          }
        },
        "1e29f09f27a84ed4a5a7c4ca4bde36b1": {
          "model_module": "@jupyter-widgets/controls",
          "model_name": "ProgressStyleModel",
          "model_module_version": "1.5.0",
          "state": {
            "_view_name": "StyleView",
            "_model_name": "ProgressStyleModel",
            "description_width": "",
            "_view_module": "@jupyter-widgets/base",
            "_model_module_version": "1.5.0",
            "_view_count": null,
            "_view_module_version": "1.2.0",
            "bar_color": null,
            "_model_module": "@jupyter-widgets/controls"
          }
        },
        "4694d25df20446768b7b62f590ad8c11": {
          "model_module": "@jupyter-widgets/base",
          "model_name": "LayoutModel",
          "model_module_version": "1.2.0",
          "state": {
            "_view_name": "LayoutView",
            "grid_template_rows": null,
            "right": null,
            "justify_content": null,
            "_view_module": "@jupyter-widgets/base",
            "overflow": null,
            "_model_module_version": "1.2.0",
            "_view_count": null,
            "flex_flow": null,
            "width": null,
            "min_width": null,
            "border": null,
            "align_items": null,
            "bottom": null,
            "_model_module": "@jupyter-widgets/base",
            "top": null,
            "grid_column": null,
            "overflow_y": null,
            "overflow_x": null,
            "grid_auto_flow": null,
            "grid_area": null,
            "grid_template_columns": null,
            "flex": null,
            "_model_name": "LayoutModel",
            "justify_items": null,
            "grid_row": null,
            "max_height": null,
            "align_content": null,
            "visibility": null,
            "align_self": null,
            "height": null,
            "min_height": null,
            "padding": null,
            "grid_auto_rows": null,
            "grid_gap": null,
            "max_width": null,
            "order": null,
            "_view_module_version": "1.2.0",
            "grid_template_areas": null,
            "object_position": null,
            "object_fit": null,
            "grid_auto_columns": null,
            "margin": null,
            "display": null,
            "left": null
          }
        }
      }
    }
  },
  "cells": [
    {
      "cell_type": "markdown",
      "metadata": {
        "id": "view-in-github",
        "colab_type": "text"
      },
      "source": [
        "<a href=\"https://colab.research.google.com/github/threewisemonkeys-as/causal-meta-rl/blob/main/Causal_Meta_RL.ipynb\" target=\"_parent\"><img src=\"https://colab.research.google.com/assets/colab-badge.svg\" alt=\"Open In Colab\"/></a>"
      ]
    },
    {
      "cell_type": "markdown",
      "metadata": {
        "id": "Wx98X0pdRutL"
      },
      "source": [
        "# Causal Reasoning from Meta-Reinforcement Learning\n",
        "\n",
        "Exploration of how Causal Reasoning can arise in Meta RL based on *Dasgupta et. al.* [Causal Reasoning from Meta-Reinforcement Learning](https://arxiv.org/abs/1901.08162)\n",
        "\n",
        "Results from all experiments can be found at: https://wandb.ai/atharv/causal-meta-rl"
      ]
    },
    {
      "cell_type": "markdown",
      "metadata": {
        "id": "1NrM4c6vfWrE"
      },
      "source": [
        "# Setup\n",
        "\n",
        "Installing and importing required packages. Seeding random number generators for reproducability"
      ]
    },
    {
      "cell_type": "code",
      "metadata": {
        "id": "JzgEX4HMGRYj"
      },
      "source": [
        "#@title\n",
        "!pip install -qqq wandb\n",
        "%load_ext tensorboard"
      ],
      "execution_count": null,
      "outputs": []
    },
    {
      "cell_type": "code",
      "metadata": {
        "id": "Y_yBerxbCvmJ"
      },
      "source": [
        "#@title\n",
        "from datetime import datetime\n",
        "import itertools\n",
        "from dataclasses import dataclass\n",
        "from typing import List\n",
        "from pathlib import Path\n",
        "import random\n",
        "import pickle\n",
        "\n",
        "import pandas as pd\n",
        "import numpy as np\n",
        "import matplotlib.pyplot as plt\n",
        "import networkx as nx\n",
        "import gym\n",
        "\n",
        "import torch\n",
        "import torch.nn as nn\n",
        "import torch.nn.functional as F\n",
        "\n",
        "import wandb"
      ],
      "execution_count": null,
      "outputs": []
    },
    {
      "cell_type": "code",
      "metadata": {
        "colab": {
          "base_uri": "https://localhost:8080/"
        },
        "id": "qiJHr8LQynzI",
        "outputId": "525b06a3-612d-4301-993b-ba101f3b18e7"
      },
      "source": [
        "#@title\n",
        "seed = 42\n",
        "\n",
        "random.seed(seed)\n",
        "np.random.seed(seed)\n",
        "torch.manual_seed(seed)"
      ],
      "execution_count": null,
      "outputs": [
        {
          "output_type": "execute_result",
          "data": {
            "text/plain": [
              "<torch._C.Generator at 0x7f851abc2110>"
            ]
          },
          "metadata": {
            "tags": []
          },
          "execution_count": 4
        }
      ]
    },
    {
      "cell_type": "markdown",
      "metadata": {
        "id": "LKZLdskDVFXX"
      },
      "source": [
        "# What is Causal Reasoning?\n",
        "\n",
        "\n",
        "\n",
        "\n",
        "\n",
        "\n",
        "\n"
      ]
    },
    {
      "cell_type": "markdown",
      "metadata": {
        "id": "gINjxlfNWsff"
      },
      "source": [
        "When looking at relationships between varirables, we know that *correlation* does not imply *causation*. While most Machine Learning methods only model correlations, humans routinely make use of causal relationships to make useful inferences.\n",
        "\n",
        "\n",
        "Thus the ability to do Causal Reasoning maybe be an important characteristic of an inteligent system.\n",
        "\n",
        "\n",
        "Consider the following example. Using a statistical or machine learning method, we can easily discover a correlation between the number of launches and number of sociology graduates. Does this mean that one causes the other? \n",
        "\n",
        "\n",
        "Usually in such a case there is/are confounding variable(s) which are unobserved but may cause both of these phenomenon. \n",
        "\n"
      ]
    },
    {
      "cell_type": "markdown",
      "metadata": {
        "id": "Vtmmd3D95yVn"
      },
      "source": [
        "![image.png](data:image/png;base64,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)"
      ]
    },
    {
      "cell_type": "markdown",
      "metadata": {
        "id": "sElqFDavfRsp"
      },
      "source": [
        "# Causal Graphical Models\n",
        "\n",
        "\n",
        "Causal relationships between variables can be represented as a Directed Acyclic Graph (DAG). In the following experiments, we assume that all our variables follow a Gaussian Distribution with a fixed variance (0.1) and means being a weighted sum of the parents - \n",
        "\n",
        "$\\mathcal{N}(\\mu = \\Sigma_j w_{ij} X_j, \\sigma = 0.1)$ where $X_j \\in \\text{pa}(X_i)$\n",
        "\n",
        "\n",
        "Root nodes (without parents) have fixed means (0) - $\\mathcal{N}(\\mu = 0, \\sigma = 0.1)$\n",
        "\n",
        "The following shows an examples of DAGs representing a causal models.\n",
        "\n",
        "The important thing to not is the difference between the two. The right model is the left model but with an intervention on `E`. For this we can see than iterventions (setting the value of a variable manually as opposed to conditioning on them) cause the underlying probabilistic model itself to change. "
      ]
    },
    {
      "cell_type": "markdown",
      "metadata": {
        "id": "UGObm8a_5SdE"
      },
      "source": [
        "![image.png](data:image/png;base64,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)"
      ]
    },
    {
      "cell_type": "markdown",
      "metadata": {
        "id": "ZUi5HQ3sppoS"
      },
      "source": [
        "## Dataset Generation\n",
        "\n",
        "The dataset of graphical models on which the RL agent is trained consists of all possible DAGs of some fixed size which edge weights being either 1 or -1. To save on repeated comutation, the dataset has been pre prepared and is available to download. It can be created from scratch also by uncommenting the requisite lines in the following cells"
      ]
    },
    {
      "cell_type": "code",
      "metadata": {
        "id": "iDSQUnrx-BVo"
      },
      "source": [
        "# download pre made dataset. This can be created from scratch in the cell below\n",
        "\n",
        "!wget -q http://threewisemonkeys-as.github.io/files/causal-meta-rl/graphs_dataset.pkl\n",
        "!wget -q http://threewisemonkeys-as.github.io/files/causal-meta-rl/eq_classes.pkl"
      ],
      "execution_count": null,
      "outputs": []
    },
    {
      "cell_type": "code",
      "metadata": {
        "colab": {
          "base_uri": "https://localhost:8080/",
          "height": 374
        },
        "id": "PclXm7EgAb52",
        "outputId": "b0665ceb-9a27-49de-d70a-aec06af8abaa"
      },
      "source": [
        "def generate_data(N=5):\n",
        "    \"\"\" Generate all possible DAGs of N nodes with edge weights being either 1 or -1 \"\"\"\n",
        "\n",
        "    r = []\n",
        "    for k in itertools.combinations_with_replacement([-1, 0, 1], (N*(N-1))//2):\n",
        "        for m in set(itertools.permutations(k)):\n",
        "            A = np.zeros((N, N))\n",
        "            A[np.triu_indices(N, 1)] = m\n",
        "            r.append(nx.from_numpy_matrix(A, create_using=nx.DiGraph))\n",
        "    return r\n",
        "\n",
        "\n",
        "def generate_data_randomly(N, num_samples):\n",
        "    \"\"\" Generates a specified number of DAGs of specified size by random sampling \n",
        "        Useful when generating data DAGS with size > 6\n",
        "    \"\"\"\n",
        "\n",
        "    data = []\n",
        "    i = 0\n",
        "    while True:\n",
        "        new = True\n",
        "        g = np.random.choice([-1, 0, 1], (N*(N-1))//2)\n",
        "        for d in data:\n",
        "            if np.array_equal(g, d):\n",
        "                new = False\n",
        "                break\n",
        "        if new:\n",
        "            data.append(g)\n",
        "            i += 1\n",
        "\n",
        "        if i >= num_samples:\n",
        "            break\n",
        "    \n",
        "    generated = []\n",
        "    for d in data:\n",
        "        g = np.zeros((N, N))\n",
        "        g[np.triu_indices(N, 1)] = d\n",
        "        generated.append(nx.from_numpy_matrix(g, create_using=nx.DiGraph))\n",
        "\n",
        "    return generated\n",
        "\n",
        "\n",
        "def partition(data):\n",
        "    \"\"\" Paritions list of DAGs into list of equivalence clases where each DAG is \n",
        "        isomorphic to the other DAGs in the equivalence class\n",
        "    \"\"\"\n",
        "\n",
        "    equiv_classes = []\n",
        "    for g in data:\n",
        "        found = False\n",
        "        for i, c in enumerate(equiv_classes):\n",
        "            if nx.is_isomorphic(g, c[0]):\n",
        "                equiv_classes[i].append(g)\n",
        "                found = True\n",
        "                break\n",
        "        if not found:\n",
        "            equiv_classes.append([g])\n",
        "    return equiv_classes\n",
        "\n",
        "\n",
        "## uncomment to generate data from scratch (may take a few minutes) -\n",
        "# data = generate_data(5)\n",
        "# eq_classes = partition(data)\n",
        "# pickle.dump(data, open(\"graphs.pkl\", \"wb\"))\n",
        "# pickle.dump(eq_classes, open(\"eq_classes.pkl\", \"wb\"))\n",
        "\n",
        "\n",
        "# load data\n",
        "data = pickle.load(open(\"graphs_dataset.pkl\", \"rb\"))\n",
        "eq_classes = pickle.load(open(\"eq_classes.pkl\", \"rb\"))\n",
        "\n",
        "print(f\"Number of total graphs: {len(data)}\")\n",
        "print(f\"Number of equivalence classes of graphs: {len(eq_classes)}\")\n",
        "\n",
        "g = data[42000]\n",
        "print(\"Visualisation -\")\n",
        "nx.draw(g, with_labels=True)"
      ],
      "execution_count": null,
      "outputs": [
        {
          "output_type": "stream",
          "text": [
            "Number of total graphs: 59049\n",
            "Number of equivalence classes of graphs: 302\n",
            "Visualisation -\n"
          ],
          "name": "stdout"
        },
        {
          "output_type": "display_data",
          "data": {
            "image/png": "[encoded data removed]",
            "text/plain": [
              "<Figure size 432x288 with 1 Axes>"
            ]
          },
          "metadata": {
            "tags": []
          }
        }
      ]
    },
    {
      "cell_type": "markdown",
      "metadata": {
        "id": "ugTiRMP2GYsh"
      },
      "source": [
        "## Train / Test Split\n",
        "\n",
        "The dataset (set of equivalence classes) is split randomly into a train and test set. The RL agent is trained on the train set and evaluated on the test set to ensure that it does not just memorise graphs"
      ]
    },
    {
      "cell_type": "code",
      "metadata": {
        "colab": {
          "base_uri": "https://localhost:8080/"
        },
        "id": "djwfZh41qEq8",
        "outputId": "ca4a0a02-dd01-4afb-d6dd-fccdc4169fc9"
      },
      "source": [
        "def split_train_test(eq_classes, n_test):\n",
        "    \"\"\" Splits list of equivalence classes into train and test randomly \"\"\"\n",
        "\n",
        "    assert n_test <= len(eq_classes), \"n_test must be less than or equal to number of data points\"\n",
        "    test_idx = random.sample(range(len(eq_classes)), k=n_test)\n",
        "    test_c = [eq_classes[i] for i in range(len(eq_classes)) if i in test_idx]\n",
        "    train_c = [eq_classes[i] for i in range(len(eq_classes)) if i not in test_idx]\n",
        "    return [i for c in train_c for i in c], [i for c in test_c for i in c]\n",
        "\n",
        "train_g, test_g = split_train_test(eq_classes, 12)\n",
        "print(f\"Train: {len(train_g)} | Test: {len(test_g)}\")"
      ],
      "execution_count": null,
      "outputs": [
        {
          "output_type": "stream",
          "text": [
            "Train: 55673 | Test: 3376\n"
          ],
          "name": "stdout"
        }
      ]
    },
    {
      "cell_type": "markdown",
      "metadata": {
        "id": "9z9Fc2B0n6va"
      },
      "source": [
        "## Sampling from Causal Graphical Models"
      ]
    },
    {
      "cell_type": "code",
      "metadata": {
        "colab": {
          "base_uri": "https://localhost:8080/"
        },
        "id": "-BAfNJ4GY4wu",
        "outputId": "e6f152be-4fd4-404c-fb97-4d74040f9ff1"
      },
      "source": [
        "def sample(G, randomness=None, intervention={}, mu=0, var=0.1):\n",
        "    \"\"\" Sample from a Graphical Model G\n",
        "\n",
        "    This is done by sampling parentless nodes and then propogating through the DAG. \n",
        "\n",
        "    Args:\n",
        "        G (nx.DiGraph): Model to sample from\n",
        "        randomness (np.ndarray): Array of random numbers used during sampling.\n",
        "            Default: None (generated randomly)\n",
        "        intervention (dict): Interventions of the form `node: value` to perform \n",
        "            before sample. Default: {} (no interventions)\n",
        "        mu (float): Mean of gaussian distribution for each node. Default: 0\n",
        "        var (float): Variance of gaussian distribution for each node.\n",
        "            Default: 0.1\n",
        "\n",
        "    Returns:\n",
        "        np.ndarray: Sample from given model\n",
        "    \"\"\"\n",
        "    # generate randomness if not provided\n",
        "    if randomness is None:\n",
        "        randomness = np.random.normal(size=len(G))\n",
        "\n",
        "    # define function to get sample for specific node within DAG recursively\n",
        "    _sample = lambda n: intervention[n] if n in intervention else (np.sum([G[p][n]['weight'] * _sample(p) if p != n else 0 for p in G.predecessors(n)]) if len(list(G.predecessors(n))) > 0 else mu) + randomness[n] * var\n",
        "    \n",
        "    # return array of samples for each node \n",
        "    return np.array([_sample(n) for n in G])\n",
        "\n",
        "\n",
        "g = data[42000]\n",
        "x = sample(G=g, intervention={2: 3})\n",
        "print(f\"Sample from the example graph with intervention of Node_2 = 3 : {x}\")"
      ],
      "execution_count": null,
      "outputs": [
        {
          "output_type": "stream",
          "text": [
            "Sample from the example graph with intervention of Node_2 = 3 : [-0.04694744  0.10120344  3.         -3.04657298  2.97724879]\n"
          ],
          "name": "stdout"
        }
      ]
    },
    {
      "cell_type": "code",
      "metadata": {
        "colab": {
          "base_uri": "https://localhost:8080/"
        },
        "id": "J_CrbjbY72vc",
        "outputId": "58582c95-6762-45f1-fcf5-e941e56af8f3"
      },
      "source": [
        "def cond_sample(mu, cov, randomness=None, cond_data={}, return_full=True):\n",
        "    \"\"\" Sample conditionally from a multivaraite gaussian distribution  \n",
        "\n",
        "    Means and covariance matrix for conditioned gaussian is computed and sampled from.\n",
        "\n",
        "    Reference:\n",
        "        https://en.wikipedia.org/wiki/Multivariate_normal_distribution#Conditional_distributions\n",
        "\n",
        "    Args:\n",
        "        mu (np.array): Mean vector for multivariate gaussian\n",
        "        cov (np.array): Covariance matrix for multivariate gaussian\n",
        "        randomness (np.ndarray): Array of random numbers used during sampling.\n",
        "            Default: None (generated randomly)\n",
        "        cond_data (dict): Data to condition on of the form `node: value`. \n",
        "            Default: {} (no conditioning)\n",
        "        return_full (bool): Whether to return only sampled values or all variables\n",
        "            Default: True\n",
        "\n",
        "    Returns:\n",
        "        np.ndarray: Sample from given model conditioned on given data\n",
        "    \"\"\"\n",
        "\n",
        "    # generate randomness if not provided\n",
        "    if randomness is None:\n",
        "        randomness = np.random.normal(size=len(mu))\n",
        "\n",
        "    # return direct sample if no conditioning data given\n",
        "    if len(cond_data) == 0:\n",
        "        return mu + np.dot(np.linalg.cholesky(cov), randomness)\n",
        "\n",
        "    cond_idx = list(cond_data.keys())    \n",
        "    cond_val = np.array([list(cond_data.values())])\n",
        "\n",
        "    dep_idx = [i for i in list(range(len(g))) if i not in cond_idx]\n",
        "    randomness = randomness[np.ix_(dep_idx)]\n",
        "\n",
        "    # compute covariance matrices for conditioning and dependant variables\n",
        "    c11 = cov[np.ix_(dep_idx, dep_idx)]\n",
        "    c12 = cov[np.ix_(dep_idx, cond_idx)]\n",
        "    c21 = cov[np.ix_(cond_idx, dep_idx)]\n",
        "    c22 = cov[np.ix_(cond_idx, cond_idx)]\n",
        "\n",
        "    # compute means for conditioning and dependant variables\n",
        "    m1 = mu[dep_idx].T\n",
        "    m2 = mu[cond_idx].T \n",
        "\n",
        "    # compute means and covariance matrix for conditioned distribution\n",
        "    conditional_mu = m1 + c12.dot(np.linalg.inv(c22)).dot((cond_val - m2).T).T\n",
        "    conditional_cov = np.linalg.inv(np.linalg.inv(cov)[np.ix_(dep_idx, dep_idx)])\n",
        "\n",
        "    # get conditioned sample\n",
        "    cond_sample = conditional_mu[0] + conditional_mu[0] + np.dot(np.linalg.cholesky(conditional_cov), randomness)\n",
        "\n",
        "    if return_full:\n",
        "        r = np.zeros(len(cond_idx + dep_idx))\n",
        "        r[cond_idx] = cond_val\n",
        "        r[dep_idx] = cond_sample\n",
        "        return r\n",
        "\n",
        "    else:\n",
        "        return cond_sample\n",
        "\n",
        "g = data[42000]\n",
        "a = np.stack([sample(g) for _ in range(1000)]).T\n",
        "print(f\"Sample from graphical model conditioned on Node_1=5 : {cond_sample(np.mean(a, axis=1), np.cov(a), cond_data={1: 5})}\")"
      ],
      "execution_count": null,
      "outputs": [
        {
          "output_type": "stream",
          "text": [
            "Sample from graphical model conditioned on Node_1=5 : [-4.86037882  5.          0.06842047 -0.20499399 -4.49675517]\n"
          ],
          "name": "stdout"
        }
      ]
    },
    {
      "cell_type": "markdown",
      "metadata": {
        "id": "QgAAYjmEAAp5"
      },
      "source": [
        "# Problem Specification\n",
        "\n",
        "\n",
        "Our goal to test whether a Meta RL agent can learn to do some form of causal inference. To do this, we train an RL agent to interact with causal networks. In each episode of training, the agent interacts with a different causal network in two stages -\n",
        "\n",
        "1. Information phase where the agent interacts with the causal graphical model through observations and interventions. Ideally, this is where the agent should learn about the underlying causal structure.\n",
        "2. Quiz phase where the agent has to select the node with the highest value given the intervention that was performed. \n",
        "\n",
        "Since the reward the agent gets in the quiz phase is what the RL method tries to optimize, we are essentially pushing the agent to learn how to learn underlying causal structure through interaction and also how interventions affect the underlying distribution.\n",
        "\n",
        "Three different settings of interaction are considered\n",
        "\n",
        "1. Observational: Agent only gets samples from causal network as observations.\n",
        "2. Conditional: Agent gets samples from causal network conditioned on the node selected by the agent being set to some value. \n",
        "3. Interventional: Agent gets samples from causal network intervened on the node selected by the agent with some value.\n",
        "\n",
        "In each of the above, during the quiz phase, two types of questions can be asked - \n",
        "1. Given this intervention, what happened?\n",
        "2. What would have happened if a different intervention had been made?\n",
        "\n",
        "In the above specified taks we want to test two speicifc claims:\n",
        "\n",
        "1. Does the agent learn to infer the underlying structure for a given problem and then be able to understand how interventions change that structure? Considering 4 observable nodes, since one node will have value of -5 (inntervention), choosing a random node will give a reward of -1.25 on average. Simply avoiding the node that has been intervened on will give an average reward of 0. Thus the agent receieing a consistent poisitive reward indicates that it is performing causal reasoning\n",
        "\n",
        "2. Does the agent learn to usefully interact with the envrionment. This is only valid for conditional and interventional settings. We can test this by comparing the performance of the agent with one which chooses random actions during the information phase.\n",
        "\n",
        "\n",
        "\n",
        "\n",
        "\n",
        "\n"
      ]
    },
    {
      "cell_type": "markdown",
      "metadata": {
        "id": "597NQvyIfZB3"
      },
      "source": [
        "# Environment\n",
        "\n",
        "\n",
        "This environment captures various different types of interactions from which to test for causal inference as detailed in Dasgupta et. al. It is presented in the widely used OpenAI Gym format.\n",
        "\n",
        "The `action_class` attribute is used to define what affect the action has on the environment. It can either be an intervention which modifies the underlying graphical model or just a conditioning.\n",
        "\n",
        "Since different actions exists for quiz and information phases, a penalty is imposed if wrong action is selected.\n"
      ]
    },
    {
      "cell_type": "code",
      "metadata": {
        "id": "JcHBc0hiLmft"
      },
      "source": [
        " class CGMEnv(gym.Env):\n",
        "    def __init__(\n",
        "        self,\n",
        "        graphs,\n",
        "        action_class,\n",
        "        counterfactual=False,\n",
        "        n=5,\n",
        "        info_steps=4,\n",
        "        quiz_steps=1,\n",
        "        n_unobserved=1,\n",
        "        info_intervention=5,\n",
        "        quiz_intervention=-5,\n",
        "        quiz_in_info_penalty=-10,\n",
        "        info_in_quiz_penalty=-10,\n",
        "        mu=0,\n",
        "        var=0.1\n",
        "    ):\n",
        "        \"\"\" Environment for causal reasoning on causal graphical model.\n",
        "\n",
        "        References:\n",
        "            https://arxiv.org/abs/1901.08162\n",
        "\n",
        "        Args:\n",
        "            graphs (list[nx.DiGraph]): list of graphs to use as models for each\n",
        "                episode.\n",
        "            action_class (str): How action is executed during info phase. Has to\n",
        "                be either of [observational, conditional, interventional, \n",
        "                random interventional, random conditional]\n",
        "            counterfactual (bool): Whether quiz phase asks counterfactual\n",
        "                Default: True\n",
        "            n (int): Number of nodes (variables) in each graphical model. \n",
        "                Default: 5\n",
        "            info_steps (int): Number of steps that info phase runs for.\n",
        "                Default: 4\n",
        "            quiz_steps (int): Number of steps that quiz phase runs for.\n",
        "                Default: 1\n",
        "            n_unobserved (int): Number of nodes in the graph that are not \n",
        "                part of the observation. Default: 1\n",
        "            info_intervention (int): Value to be set for intervened node during\n",
        "                info phase. Default: 5\n",
        "            quiz_intervention (int): Value to be set for intervened node during\n",
        "                quiz phase. Default: -5\n",
        "            quiz_in_info_penalty (int): Penalty for taking quiz action in info \n",
        "                phase. Default: -10\n",
        "            info_in_quiz_penalty (int): Penalty for taking info action in quiz \n",
        "                phase. Default: -10\n",
        "            mu (float): Mean of gaussian distribution for each node. Default: 0\n",
        "            var (float): Variance of gaussian distribution for each node.\n",
        "                Default: 0.1\n",
        "        \"\"\"\n",
        "\n",
        "        # verify parameters        \n",
        "        assert action_class in [\"observational\", \"conditional\", \"interventional\", \"random interventional\", \"random conditional\"], f\"invalid action_class: {action_class}\"\n",
        "        assert n_unobserved < n, \"n_unobserved must less than total number of nodes\"\n",
        "\n",
        "\n",
        "        # setup attributes\n",
        "        self._n_observed = n - n_unobserved\n",
        "        self._n_unobserved = n_unobserved\n",
        "\n",
        "        self.action_space = gym.spaces.Discrete(2*self._n_observed)\n",
        "        self.observation_space = gym.spaces.Box(low=--np.inf, high=np.inf, shape=(4*self._n_observed + 1,))\n",
        "\n",
        "        self._graphs = graphs\n",
        "        self._i = 0\n",
        "\n",
        "        self._action_class = action_class\n",
        "        self._counterfactual = counterfactual\n",
        "\n",
        "        self._n = n\n",
        "        self._info_steps = info_steps\n",
        "        self._quiz_steps = quiz_steps\n",
        "        self._info_intervention = info_intervention\n",
        "        self._quiz_intervention = quiz_intervention\n",
        "        self._quiz_in_info_penalty = quiz_in_info_penalty\n",
        "        self._info_in_quiz_penalty = info_in_quiz_penalty\n",
        "        self._mu = mu\n",
        "        self._var = var\n",
        "\n",
        "        self._done = True\n",
        "\n",
        "        # initialise env with reset\n",
        "        self.reset()\n",
        "    \n",
        "    def step(self, action):\n",
        "        \"\"\" Take a step in the environment\n",
        "\n",
        "        Args:\n",
        "            action (int): action to take.\n",
        "    \n",
        "        Returns:\n",
        "            np.ndarray, int, bool, dict: observation, reward, done flag, info\n",
        "        \"\"\"\n",
        "\n",
        "        # env must be reset before step if done to get next graph and initiliase \n",
        "        # required variables\n",
        "        assert not self._done, \"reset env before using step\"\n",
        "\n",
        "        # store data for step i-1\n",
        "        self._prev_action_oh = self._action_oh\n",
        "        self._prev_reward = self._reward\n",
        "        self._prev_randomness = self._randomness\n",
        "\n",
        "        # slect random action if action class is random\n",
        "        action = np.random.randint(low=0, high=self.action_space.n) if self._action_class in [\"random interventional\", \"random conditional\"] and self._step_count < self._info_steps else action\n",
        "    \n",
        "        # store data for step i \n",
        "        self._action_oh = np.zeros(self.action_space.n)\n",
        "        self._action_oh[action] = 1\n",
        "        self._randomness = np.random.uniform(size=self._n)\n",
        "\n",
        "        # information phase\n",
        "        if self._step_count < self._info_steps:\n",
        "            self._done = False\n",
        "\n",
        "            # impose reward penalty if quiz action chosen during info phase\n",
        "            # and action class is either interventional or conditional\n",
        "            self._reward = 0 if action < self._n_observed or (not self._action_class in [\"interventional\", \"conditional\"]) else self._quiz_in_info_penalty\n",
        "\n",
        "            if self._action_class in [\"conditional\", \"random conditional\"]:\n",
        "\n",
        "                # get conditional sample\n",
        "                self._obs = cond_sample(\n",
        "                    mu=self._means,\n",
        "                    cov=self._cov,\n",
        "                    randomness=self._randomness,\n",
        "                    cond_data={action + 1: self._info_intervention} if action < self._n_observed else {},\n",
        "                    return_full=True,\n",
        "                )[self._n_unobserved:]\n",
        "            else:\n",
        "\n",
        "                # get interventional sample\n",
        "                self._obs = sample(\n",
        "                    G=self._g,\n",
        "                    randomness=self._randomness,\n",
        "                    intervention={action + 1: self._info_intervention} if self._action_class in [\"interventional\", \"random interventional\"] and action < self._n_observed else {},\n",
        "                    mu=self._mu,\n",
        "                    var=self._var\n",
        "                )[self._n_unobserved:]\n",
        "\n",
        "    \n",
        "            # store intervention used for quiz phase\n",
        "            self._interv = np.zeros(self._n_observed)\n",
        "            if self._step_count == self._info_steps - 1:\n",
        "                self._interv_n = np.random.randint(low=1, high=self._n)\n",
        "                self._interv[self._interv_n - 1] = 1\n",
        "\n",
        "        # quiz phase\n",
        "        else:\n",
        "            # set done flag if at last step\n",
        "            if self._step_count == self._info_steps + self._quiz_steps - 1:\n",
        "                self._done = True\n",
        "            \n",
        "            # sample from intervened distribution\n",
        "            # use previous randomness during sampling id counterfactual\n",
        "            self._obs = sample(\n",
        "                G=self._g,\n",
        "                randomness=self._prev_randomness if self._counterfactual else np.random.uniform(size=self._n),\n",
        "                intervention={self._interv_n: self._quiz_intervention},\n",
        "                mu=self._mu,\n",
        "                var=self._var\n",
        "            )[self._n_unobserved:]\n",
        "\n",
        "            # reward is either a penalty if info phase action is chosen\n",
        "            # or is the value of the chosen node\n",
        "            self._reward = self._obs[action - self._n_observed] if action > self._n_observed else self._info_in_quiz_penalty\n",
        "\n",
        "            # set observation in quiz steps to 0s so that agent cant learn more\n",
        "            # about the CGM during quiz stage\n",
        "            self._obs = np.zeros_like(self._obs)\n",
        "\n",
        "            # chose intervention for next step\n",
        "            self._interv_n = np.random.randint(low=1, high=self._n)\n",
        "            self._interv[self._interv_n - 1] = 1\n",
        "\n",
        "        # create values to return and update step count\n",
        "        info = {\"cgm\": self._g, \"randomness\": self._randomness}\n",
        "        state = np.concatenate([self._obs, self._interv, self._prev_action_oh, np.array([self._prev_reward])])\n",
        "        self._step_count += 1\n",
        "\n",
        "        return state, self._reward, self._done, info\n",
        "    \n",
        "    def reset(self, graphs=None):\n",
        "\n",
        "        # load graphs if specified\n",
        "        if graphs is not None:\n",
        "            self._graphs = graphs\n",
        "            self._i = 0\n",
        "\n",
        "        # reset step count to 0\n",
        "        self._step_count = 0\n",
        "        \n",
        "        # get next graph in dataset\n",
        "        self._g = self._graphs[self._i]\n",
        "\n",
        "        # compute means and covariance matrix for joint gaussian distribution\n",
        "        # induced by the selected graphical model. This is done by directly\n",
        "        # sampling from the graphical model. TODO: Compute covariance matrix\n",
        "        # from graphical model rather than from samples.\n",
        "        if self._action_class in [\"conditional\", \"random conditional\"]:\n",
        "            s = np.stack([sample(self._g) for _ in range(500)]).T\n",
        "            self._means = np.mean(s, axis=1)\n",
        "            self._cov = np.cov(s)\n",
        "\n",
        "        # update dataset index. If end of dataset is reached, then cycle back\n",
        "        self._i += 1\n",
        "        if self._i >= len(self._graphs):\n",
        "            self._i = 0\n",
        "        \n",
        "        # get initial observation\n",
        "        self._randomness = np.random.uniform(size=self._n)\n",
        "        self._obs = sample(\n",
        "            G=self._g,\n",
        "            randomness=self._randomness,\n",
        "            intervention={},\n",
        "            mu=self._mu,\n",
        "            var=self._var,\n",
        "        )[self._n_unobserved:]\n",
        "        self._interv = np.zeros(self._n_observed)\n",
        "        self._action_oh = np.zeros(self.action_space.n)\n",
        "        self._reward = 0\n",
        "        self._done = False\n",
        "        op =  np.concatenate([self._obs, self._interv, self._action_oh, np.array([self._reward])])\n",
        "        return op\n",
        "\n",
        "\n",
        "# test env\n",
        "envs = {\n",
        "    \"observational\": CGMEnv(train_g, action_class=\"observational\"),\n",
        "    \"conditional\": CGMEnv(train_g, action_class=\"conditional\"),\n",
        "    \"random conditional\": CGMEnv(train_g, action_class=\"random conditional\"),\n",
        "    \"interventional\": CGMEnv(train_g, action_class=\"interventional\"),\n",
        "    \"random interventional\": CGMEnv(train_g, action_class=\"random interventional\"),\n",
        "    \"observational + counterfactual\": CGMEnv(train_g, action_class=\"observational\", counterfactual=True),\n",
        "    \"conditional + counterfactual\": CGMEnv(train_g, action_class=\"conditional\", counterfactual=True),\n",
        "    \"random conditional + counterfactual\": CGMEnv(train_g, action_class=\"random conditional\", counterfactual=True),\n",
        "    \"interventional + counterfactual\": CGMEnv(train_g, action_class=\"interventional\", counterfactual=True),\n",
        "    \"random interventional + counterfactual\": CGMEnv(train_g, action_class=\"random interventional\", counterfactual=True),\n",
        "}\n",
        "\n",
        "for n, env in envs.items():\n",
        "    env.reset()\n",
        "    for _ in range(5):\n",
        "        env.step(0)"
      ],
      "execution_count": null,
      "outputs": []
    },
    {
      "cell_type": "markdown",
      "metadata": {
        "id": "4jPU8OkXz-r0"
      },
      "source": [
        "# RL Agent\n",
        "\n",
        "\n",
        "We use an LSTM based Actor Critic model trained using Proximal Policy Optimisation as our RL model. \n"
      ]
    },
    {
      "cell_type": "markdown",
      "metadata": {
        "id": "QdX3VZHJFTyh"
      },
      "source": [
        "## LSTM\n",
        "\n",
        "\n",
        "Long Short Term Memory models are a tye of Recurrent Neural Network (RNN) architeture. Given a hidden state and input, the LSTM will give an output and the next hidden state."
      ]
    },
    {
      "cell_type": "markdown",
      "metadata": {
        "id": "fx066ASLNFfy"
      },
      "source": [
        "![image.png](data:image/png;base64,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)"
      ]
    },
    {
      "cell_type": "markdown",
      "metadata": {
        "id": "pxCFm3eHFU_s"
      },
      "source": [
        "## PPO\n",
        "\n",
        "Proximal Policy Optimization is a type of Reinforcement Learning algorithm, which directly optimizes the policy network by computing a policy gradient with the help of a critic network. PPO ensures that the updated policy does not stray too far from the original policy.  "
      ]
    },
    {
      "cell_type": "markdown",
      "metadata": {
        "id": "cFiS-uwiFV8X"
      },
      "source": [
        "## Meta Learning\n",
        "\n",
        "By using this specific arhitecture, we create two levels of learning. The inner loop in the hidden states of the LSTM where the agent learns about and adapts to the causal model being presented in the episode. And the outer loop as the RL algorithm which drives the meta objective of learning to learn from interactions about the causal structure.\n",
        "\n",
        "We can few the information phase the the train part and quiz phase as the test part with the training dataset being the meta train and the testing dataset being the meta test."
      ]
    },
    {
      "cell_type": "code",
      "metadata": {
        "id": "ZbMRnn-vz-n7"
      },
      "source": [
        "class Discrete_LSTM_AC(nn.Module):\n",
        "    def __init__(self, input_size, n_actions, hidden_size):\n",
        "        \"\"\" LSTM based Actor Critic for discrete action spaces \"\"\"\n",
        "\n",
        "        super(Discrete_LSTM_AC, self).__init__()\n",
        "\n",
        "        self.input_size = input_size\n",
        "        self.n_actions = n_actions\n",
        "        self.hidden_size = hidden_size\n",
        "\n",
        "        self.lstm  = nn.LSTM(input_size, hidden_size).to(torch.double)\n",
        "        self.fc_pi = nn.Linear(hidden_size, n_actions).to(torch.double)\n",
        "        self.fc_v  = nn.Linear(hidden_size, 1).to(torch.double)\n",
        "        self.data = []\n",
        "\n",
        "    def log_pi(self, x, hidden):\n",
        "        \"\"\" Get log probabilities for each action given an observation and hidden state\n",
        "\n",
        "        Args:\n",
        "            x (torch.Tensor): observation\n",
        "            hidden (torch.Tensor): hidden state to condition on\n",
        "\n",
        "        Returns: \n",
        "            torch.Tensor, torch.Tensor: log probabilities and next hidden state\n",
        "        \"\"\"\n",
        "        x = x.view(-1, 1, self.input_size)\n",
        "        x, lstm_hidden = self.lstm(x, hidden)\n",
        "        x = self.fc_pi(x)\n",
        "        return x, lstm_hidden\n",
        "    \n",
        "    def v(self, x, hidden):\n",
        "        \"\"\" Get value for an observation and hidden state\n",
        "\n",
        "        Args:\n",
        "            x (torch.Tensor): observation\n",
        "            hidden (torch.Tensor): hidden state to condition on\n",
        "\n",
        "        Returns: \n",
        "            torch.Tensor: value for state\n",
        "        \"\"\"\n",
        "        x = x.view(-1, 1, self.input_size)\n",
        "        x, lstm_hidden = self.lstm(x, hidden)\n",
        "        v = self.fc_v(x)\n",
        "        return v      \n",
        "\n",
        "    def init_hidden(self, device=torch.device(\"cpu\"), dtype=torch.double):\n",
        "        \"\"\" Get initial hidden state \"\"\"\n",
        "        return (torch.zeros([1, 1, self.hidden_size], device=device, dtype=dtype), torch.zeros([1, 1, self.hidden_size], device=device, dtype=dtype))\n",
        "\n",
        "    def save(self, path):\n",
        "        \"\"\" Save model to path \"\"\"\n",
        "        torch.save(self.state_dict(), path)\n",
        "    \n",
        "    def load(self, path):\n",
        "        \"\"\" Load model from path \"\"\"\n",
        "        self.load_state_dict(torch.load(path))\n",
        "\n",
        "\n",
        "def make_batch(data, device=torch.device(\"cpu\"), dtype=torch.double):\n",
        "    \"\"\" Make batch from list of transition \n",
        "    \n",
        "    Adapted from https://github.com/seungeunrho/minimalRL/blob/master/ppo-lstm.py#L48\n",
        "    \"\"\"\n",
        "    s_lst, a_lst, r_lst, s_prime_lst, prob_a_lst, h_in_lst, h_out_lst, done_lst = [], [], [], [], [], [], [], []\n",
        "    for transition in data:\n",
        "        s, a, r, s_prime, prob_a, h_in, h_out, done = transition\n",
        "        \n",
        "        s_lst.append(s)\n",
        "        a_lst.append([a])\n",
        "        r_lst.append([r])\n",
        "        s_prime_lst.append(s_prime)\n",
        "        prob_a_lst.append([prob_a])\n",
        "        h_in_lst.append(h_in)\n",
        "        h_out_lst.append(h_out)\n",
        "        done_mask = 0 if done else 1\n",
        "        done_lst.append([done_mask])\n",
        "        \n",
        "    s,a,r,s_prime,done_mask,prob_a = torch.tensor(s_lst), torch.tensor(a_lst), \\\n",
        "                                        torch.tensor(r_lst), torch.tensor(s_prime_lst), \\\n",
        "                                        torch.tensor(done_lst), torch.tensor(prob_a_lst)\n",
        "\n",
        "    s,a,r,s_prime,done_mask,prob_a = [t.to(device).to(dtype) for t in [s,a,r,s_prime,done_mask,prob_a]]\n",
        "\n",
        "    return s,a,r,s_prime, done_mask, prob_a, h_in_lst[0], h_out_lst[0]\n",
        "\n",
        "\n",
        "def ppo(\n",
        "    env,\n",
        "    model,\n",
        "    epochs=10_000,\n",
        "    episodes_per_epoch=5,\n",
        "    updates_per_epoch=5,\n",
        "    lr=3e-4,\n",
        "    value_loss_weight=0.2,\n",
        "    entropy_weight_init=0,\n",
        "    entropy_weight_decay=0,\n",
        "    gamma=0.9,\n",
        "    lmbda=0.95,\n",
        "    eps_clip=0.1,\n",
        "    max_steps=500,\n",
        "    log_path=None,\n",
        "    seed=None,\n",
        "    verbose=False,\n",
        "    device=torch.device(\"cuda\" if torch.cuda.is_available() else \"cpu\"),\n",
        "    dtype=torch.double,\n",
        "):\n",
        "    \"\"\" Train an Actor Critic model using Proximal Policy Optimization\n",
        "\n",
        "    References:\n",
        "        Schulman et. al. Proximal Policy Optimization Algorithms\n",
        "            (https://arxiv.org/abs/1707.06347)\n",
        "\n",
        "    Args:\n",
        "        env (gym.Env): Environment to train model on\n",
        "        model (torch.nn.Module): Model to train\n",
        "        epochs (int): Number of epochs to train for. Default: 10_000 \n",
        "        episodes_per_epoch (int): Number of episodes to sample in each epoch.\n",
        "            Defaults: 5\n",
        "        updates_per_epoch (int): Number of updates in each epoch.\n",
        "            Defaults: 5\n",
        "        lr (float): Learning rate. Default: 3e-4\n",
        "        value_loss_weight (float): Weight given to value loss in overall loss.\n",
        "            Default: 0.2\n",
        "        entropy_weight_init (float): Initial weight given to entropy in overall \n",
        "            loss. Default: 0\n",
        "        entropy_weight_decay (float): Decay multiplier for entropy weight.\n",
        "            Default: 0\n",
        "        gamma (float): Discount factor. Default: 0.9\n",
        "        lmbda (float): Lambda for GAE. Default: 0.95\n",
        "        eps_clip (float): Values to clip ratio. Default: 0.1\n",
        "        max_steps (int): Maximum number of steps in each episode . Default 500.\n",
        "        log_path (str | None): Path to store logs\n",
        "            Default: None (don't log) \n",
        "        seed (int | None): Seed for RNGs. Default: None (don't seed)\n",
        "        verbose (bool): Whether to print logs. Default: False\n",
        "        device (torch.device): Device to train model on. \n",
        "            Default: torch.device(\"cuda\" if torch.cuda.is_available() else \"cpu\")\n",
        "        dtype (torch.dtype): Data type to tain model in. Default: torch.double\n",
        "    \"\"\"\n",
        "\n",
        "    start_time = datetime.now()\n",
        "\n",
        "    # get hyperparamaters\n",
        "    hp = locals()\n",
        "\n",
        "    # seed\n",
        "    if seed is not None:\n",
        "        random.seed(seed)\n",
        "        np.random.seed(seed)\n",
        "        torch.manual_seed(seed)\n",
        "        env.seed(seed)\n",
        "        env.action_space.seed(seed)\n",
        "        env.observation_space.seed(seed)\n",
        "\n",
        "    # set up logging\n",
        "    writer = None\n",
        "    if log_path is not None:\n",
        "        log_path = Path(log_path).joinpath(f\"{start_time:%d%m%y%H%M%S}\")\n",
        "        log_path.joinpath(\"weights\").mkdir(exist_ok=False, parents=True)\n",
        "        writer = torch.utils.tensorboard.SummaryWriter(log_path)\n",
        "\n",
        "    # print config\n",
        "    print(\n",
        "        f\"Start time: {start_time:%d%m%y %H%M%S}\\n\"\n",
        "        f\"Observation Space: {env.observation_space}\\n\"\n",
        "        f\"Action Space: {env.action_space}\\n\"\n",
        "        f\"Model: {model}\\n\"\n",
        "        f\"Logging to: {log_path}\\n\"\n",
        "        f\"Hyperparameters: \\n{hp}\\n\"\n",
        "    )\n",
        "\n",
        "    # prepare to start train loop\n",
        "    model.to(device).to(dtype)\n",
        "    score = 0.0\n",
        "    steps = 0\n",
        "    entropy_weight = entropy_weight_init\n",
        "    optimizer = torch.optim.Adam(model.parameters(), lr=lr)\n",
        "        \n",
        "    for e in range(epochs):\n",
        "\n",
        "        # collect trajectories\n",
        "        data = []\n",
        "        for _ in range(episodes_per_epoch):\n",
        "            h_out = model.init_hidden(device=device, dtype=dtype)\n",
        "            s = env.reset()\n",
        "            rt = 0\n",
        "            ep_len = 0\n",
        "            for t in range(max_steps):\n",
        "                h_in = h_out\n",
        "                logits, h_out = model.log_pi(torch.tensor(s, device=device, dtype=dtype), h_in)\n",
        "                logits = logits.view(-1)\n",
        "                m = torch.distributions.Categorical(logits=logits)\n",
        "                a = m.sample()\n",
        "                s_prime, r, done, info = env.step(a.item())\n",
        "                data.append((s, a, r/100.0, s_prime, m.log_prob(a).item(), h_in, h_out, done))\n",
        "                s = s_prime\n",
        "                steps += 1\n",
        "                ep_len += 1\n",
        "                rt += r\n",
        "                if done:\n",
        "                    break\n",
        "                    \n",
        "            score += rt\n",
        "            \n",
        "            if writer is not None:\n",
        "                writer.add_scalar(\"reward\", rt, steps)\n",
        "                writer.add_scalar(\"debug/episode_len\", ep_len, steps)\n",
        "\n",
        "        # get batch\n",
        "        s,a,r,s_prime,done_mask, log_prob_a, (h1_in, h2_in), (h1_out, h2_out) = make_batch(data, device, dtype)\n",
        "        first_hidden  = (h1_in.detach(), h2_in.detach())\n",
        "        second_hidden = (h1_out.detach(), h2_out.detach())\n",
        "\n",
        "        # update weights\n",
        "        for i in range(updates_per_epoch):\n",
        "            v_prime = model.v(s_prime, second_hidden).squeeze(1)\n",
        "            td_target = r + gamma * v_prime * done_mask\n",
        "            v_s = model.v(s, first_hidden).squeeze(1)\n",
        "            delta = td_target - v_s\n",
        "            delta = delta.detach().cpu().numpy()\n",
        "            \n",
        "            advantage_lst = []\n",
        "            advantage = 0.0\n",
        "            for item in delta[::-1]:\n",
        "                advantage = gamma * lmbda * advantage + item[0]\n",
        "                advantage_lst.append([advantage])\n",
        "            advantage_lst.reverse()\n",
        "            advantage = torch.tensor(advantage_lst, device=device, dtype=torch.double)\n",
        "\n",
        "            logits, _ = model.log_pi(s, first_hidden)\n",
        "            # log_pi_a = log_pi.squeeze(1).gather(1,a)\n",
        "            curr_dist = torch.distributions.Categorical(logits=logits)\n",
        "            curr_log_prob_a = curr_dist.log_prob(a)\n",
        "            ratio = torch.exp(curr_log_prob_a - log_prob_a)\n",
        "            entropy = torch.mean(curr_dist.entropy())\n",
        "            approx_kl = torch.mean(log_prob_a - curr_log_prob_a)\n",
        "\n",
        "            surr1 = ratio * advantage\n",
        "            surr2 = torch.clamp(ratio, 1-eps_clip, 1+eps_clip) * advantage\n",
        "\n",
        "            policy_loss = torch.mean(-torch.min(surr1, surr2))\n",
        "            value_loss = torch.mean(F.smooth_l1_loss(v_s, td_target.detach()))\n",
        "            loss = policy_loss + value_loss_weight * value_loss - entropy_weight * entropy \n",
        "\n",
        "            optimizer.zero_grad()\n",
        "            loss.backward(retain_graph=True)\n",
        "            optimizer.step()\n",
        "        \n",
        "        # update entropy weight\n",
        "        entropy_weight *= entropy_weight_decay\n",
        "\n",
        "        # logging\n",
        "        if writer is not None:\n",
        "            writer.add_scalar(\"loss/policy_loss\", policy_loss.item(), steps)\n",
        "            writer.add_scalar(\"loss/value_loss\", value_loss.item(), steps)\n",
        "            writer.add_scalar(\"debug/entropy\", entropy.item(), steps)\n",
        "            writer.add_scalar(\"debug/approx_kl\", approx_kl.item(), steps)\n",
        "\n",
        "        if verbose and ((e == 0) or ((e+1) % (epochs // 100) == 0)):\n",
        "            print(\n",
        "                f\"[{(datetime.now()-start_time).seconds} seconds] \"\n",
        "                f\"Epoch {e+1}: \"\n",
        "                f\"Reward = {(score / ((e+1) * episodes_per_epoch)):.4f}\"\n",
        "            )\n",
        "            score = 0.0\n",
        "\n",
        "        # save weights\n",
        "        if log_path is not None and (e+1) % (epochs // 10) == 0:\n",
        "            model.save(log_path.joinpath(f\"weights/{e+1}.pt\"))\n",
        "\n",
        "    if log_path is not None:\n",
        "        model.save(log_path.joinpath(f\"final_weights.pt\"))\n",
        "\n",
        "    env.close()\n",
        "    print(f\"Finished training in {(datetime.now() - start_time).seconds} seconds\")\n",
        "\n",
        "\n",
        "def test_discrete_ac(\n",
        "    env, \n",
        "    model, \n",
        "    episodes, \n",
        "    device=torch.device(\"cuda\" if torch.cuda.is_available() else \"cpu\"), \n",
        "    dtype=torch.double,\n",
        "):\n",
        "    \"\"\" Test model on environment for given number of episodes \"\"\"\n",
        "\n",
        "    model.to(device).to(dtype)\n",
        "    rf = 0   \n",
        "\n",
        "    for _ in range(episodes):\n",
        "        h = model.init_hidden(device=device, dtype=dtype)\n",
        "        s = env.reset()\n",
        "        done = False\n",
        "        rt = 0\n",
        "\n",
        "        while not done:\n",
        "            logits, h = model.log_pi(torch.tensor(s, device=device, dtype=dtype), h)\n",
        "            s, r, done, info = env.step(torch.distributions.Categorical(logits=logits.view(-1)).sample().item())\n",
        "            rt += r\n",
        "            if done:\n",
        "                break\n",
        "    \n",
        "        rf += rt\n",
        "\n",
        "    env.close()\n",
        "\n",
        "    return rf/episodes"
      ],
      "execution_count": null,
      "outputs": []
    },
    {
      "cell_type": "markdown",
      "metadata": {
        "id": "pqqAmKywbK3U"
      },
      "source": [
        "# Experiments"
      ]
    },
    {
      "cell_type": "code",
      "metadata": {
        "id": "TnHmhR7yKFQf"
      },
      "source": [
        "results = {}"
      ],
      "execution_count": null,
      "outputs": []
    },
    {
      "cell_type": "code",
      "metadata": {
        "colab": {
          "base_uri": "https://localhost:8080/",
          "height": 1000,
          "referenced_widgets": [
            "1d8e35cd65d84ca2901ff2ef0ff0276c",
            "252a5cde04854e498e29e6f396154203",
            "2f594bc532c4472f87b431b410a7a211",
            "602686483c764885b518ccae7652cb83",
            "469220695c0044149cb550c7594b74ab",
            "560e37ffb1974abbb008b0b11ff65236",
            "67387216068642c4a4c91e6e58cb8a99",
            "244023a1954e42bba89a7c9d313e83fb",
            "3fd3debb2ff24a04aee8efd97abadc87",
            "7d833ba3278e4b2cbee6f2acbe8029c8",
            "61bc81f099374eabbbe4a1d21042c05d",
            "ed986d2d58b843639c5382decc5979df",
            "0fdf552f8c1c44a4877d3d51a5bfda8f",
            "f41a973ffc494c77b706c55dd063b260",
            "ceb8c90c9dd94865aa16413f63b74123",
            "d7f048c51f81428588c70ae5febc15d8",
            "6ed318ed27234d50987ac52bd5c82a99",
            "65d6eda84323402081ee1e8bf41d912b",
            "da9b129c96b445e4995814023bdbe495",
            "c47729f798bc4be08beb9d5ab5abbda0",
            "7dd44d4e4dd2478b9db549ede348a930",
            "b74c06fcb77a4009a607fd59a8c63a89",
            "c38e8214d5c647a9acb9f25b60624c01",
            "9909572e9c274ecbbfb2e12ae64d3f8c",
            "d47a7a20e6ba472fa8628d41e5876bbd",
            "037f49cf1183419fb98c40c0c2cf69ac",
            "d28c2d896a874c97b2baa87fb3f53dae",
            "7cf89dc1b02b4d2c8f14ca388a4d8875",
            "0547500330e642d69d0282e1db73b3ed",
            "857a6a13d1504d8d8f6593efc97b54d1",
            "2455b8060e3445f8aba0d44145a379dd",
            "eef629ec67bc43e0b98e116112a95608",
            "01980e9df8d74024aa8ecd071ae7f027",
            "d3d2e678026547138d7cb781ca46089c",
            "0e0a9d3616cf491588fe038e0721229b",
            "188f9b8f1c044ef08cf537c8aa6fa037",
            "8eea46351c5b4f99be79011c403edcba",
            "ad282fa52c1a478e81e354241e6368f8",
            "6db06290509e497c8c27a002d92976bb",
            "fbedabfa2da640d4b39d9358b09f200b",
            "a5893657d94a4691a2f286d4d9781dfd",
            "888dc65f53e643a4a86d0f768311efa3",
            "7a6bb51520bc49a4a97800603ad13be7",
            "1ffa1849aa2f41e4bac13aa522fa846e",
            "3ccd80927e204b22b29619554dc8794c",
            "f63ca9217d974f8697fc7b4e4b268ed2",
            "017db2e22c3f430ba6e63a49a33aed68",
            "839d6b9a274245bc8e6e3863cf6c0d8f"
          ]
        },
        "id": "-uy7sGPBbMB6",
        "outputId": "b6794177-aeef-4cd0-81d8-d8edbaf7a67d"
      },
      "source": [
        "exps = {\n",
        "    \"observational\": CGMEnv(train_g, action_class=\"observational\"),\n",
        "    # \"conditional\": CGMEnv(train_g, action_class=\"conditional\"),\n",
        "    # \"random conditional\": CGMEnv(train_g, action_class=\"random conditional\"),\n",
        "    \"interventional\": CGMEnv(train_g, action_class=\"interventional\"),\n",
        "    \"random interventional\": CGMEnv(train_g, action_class=\"random interventional\"),\n",
        "    \"observational + counterfactual\": CGMEnv(train_g, action_class=\"observational\", counterfactual=True),\n",
        "    # \"conditional + counterfactual\": CGMEnv(train_g, action_class=\"conditional\", counterfactual=True),\n",
        "    # \"random conditional + counterfactual\": CGMEnv(train_g, action_class=\"random conditional\", counterfactual=True),\n",
        "    \"interventional + counterfactual\": CGMEnv(train_g, action_class=\"interventional\", counterfactual=True),\n",
        "    \"random interventional + counterfactual\": CGMEnv(train_g, action_class=\"random interventional\", counterfactual=True),\n",
        "}\n",
        "\n",
        "train_epochs = 10_000\n",
        "test_episodes = 3000\n",
        "\n",
        "for exp_name, env in exps.items():\n",
        "    print(f\"Running experiment: {exp_name}\")\n",
        "\n",
        "    model = Discrete_LSTM_AC(input_size=env.observation_space.shape[0], n_actions=env.action_space.n, hidden_size=192)\n",
        "    wandb.init(project='causal-meta-rl', group=exp_name, entity='atharv', sync_tensorboard=True)\n",
        "    wandb.watch(model)\n",
        "    ppo(env, model, epochs=train_epochs, log_path=wandb.run.dir, seed=seed)\n",
        "    env.reset(graphs=test_g)\n",
        "    test_score = test_discrete_ac(env, model, episodes=test_episodes)\n",
        "    wandb.log({\"test_score\": test_score})\n",
        "    wandb.finish()\n",
        "\n",
        "    results[exp_name] = test_score\n",
        "\n",
        "pd.DataFrame(results.items(), columns=[\"Experiment\", \"Test Score\"])"
      ],
      "execution_count": null,
      "outputs": [
        {
          "output_type": "stream",
          "text": [
            "Running experiment: observational\n"
          ],
          "name": "stdout"
        },
        {
          "output_type": "display_data",
          "data": {
            "text/html": [
              "\n",
              "                Tracking run with wandb version 0.10.28<br/>\n",
              "                Syncing run <strong style=\"color:#cdcd00\">dashing-armadillo-26</strong> to <a href=\"https://wandb.ai\" target=\"_blank\">Weights & Biases</a> <a href=\"https://docs.wandb.com/integrations/jupyter.html\" target=\"_blank\">(Documentation)</a>.<br/>\n",
              "                Project page: <a href=\"https://wandb.ai/atharv/causal-meta-rl\" target=\"_blank\">https://wandb.ai/atharv/causal-meta-rl</a><br/>\n",
              "                Run page: <a href=\"https://wandb.ai/atharv/causal-meta-rl/runs/24k3z0ca\" target=\"_blank\">https://wandb.ai/atharv/causal-meta-rl/runs/24k3z0ca</a><br/>\n",
              "                Run data is saved locally in <code>/content/wandb/run-20210502_210243-24k3z0ca</code><br/><br/>\n",
              "            "
            ],
            "text/plain": [
              "<IPython.core.display.HTML object>"
            ]
          },
          "metadata": {
            "tags": []
          }
        },
        {
          "output_type": "stream",
          "text": [
            "\u001b[34m\u001b[1mwandb\u001b[0m: \u001b[33mWARNING\u001b[0m When using several event log directories, please call wandb.tensorboard.patch(root_logdir=\"...\") before wandb.init\n"
          ],
          "name": "stderr"
        },
        {
          "output_type": "stream",
          "text": [
            "Start time: 020521 210245\n",
            "Observation Space: Box(inf, inf, (17,), float32)\n",
            "Action Space: Discrete(8)\n",
            "Model: Discrete_LSTM_AC(\n",
            "  (lstm): LSTM(17, 192)\n",
            "  (fc_pi): Linear(in_features=192, out_features=8, bias=True)\n",
            "  (fc_v): Linear(in_features=192, out_features=1, bias=True)\n",
            ")\n",
            "Logging to: /content/wandb/run-20210502_210243-24k3z0ca/files/020521210245\n",
            "Hyperparameters: \n",
            "{'env': <__main__.CGMEnv object at 0x7f7d60546410>, 'model': Discrete_LSTM_AC(\n",
            "  (lstm): LSTM(17, 192)\n",
            "  (fc_pi): Linear(in_features=192, out_features=8, bias=True)\n",
            "  (fc_v): Linear(in_features=192, out_features=1, bias=True)\n",
            "), 'epochs': 10000, 'episodes_per_epoch': 5, 'updates_per_epoch': 5, 'lr': 0.0003, 'value_loss_weight': 0.2, 'gamma': 0.9, 'lmbda': 0.95, 'eps_clip': 0.1, 'max_steps': 500, 'log_path': '/content/wandb/run-20210502_210243-24k3z0ca/files', 'seed': 42, 'verbose': False, 'device': device(type='cuda'), 'dtype': torch.float64, 'start_time': datetime.datetime(2021, 5, 2, 21, 2, 45, 704777)}\n",
            "\n",
            "Finished training in 681 seconds\n"
          ],
          "name": "stdout"
        },
        {
          "output_type": "display_data",
          "data": {
            "text/html": [
              "<br/>Waiting for W&B process to finish, PID 2876<br/>Program ended successfully."
            ],
            "text/plain": [
              "<IPython.core.display.HTML object>"
            ]
          },
          "metadata": {
            "tags": []
          }
        },
        {
          "output_type": "display_data",
          "data": {
            "application/vnd.jupyter.widget-view+json": {
              "model_id": "1d8e35cd65d84ca2901ff2ef0ff0276c",
              "version_major": 2,
              "version_minor": 0
            },
            "text/plain": [
              "VBox(children=(Label(value=' 12.64MB of 12.64MB uploaded (0.00MB deduped)\\r'), FloatProgress(value=1.0, max=1.…"
            ]
          },
          "metadata": {
            "tags": []
          }
        },
        {
          "output_type": "display_data",
          "data": {
            "text/html": [
              "Find user logs for this run at: <code>/content/wandb/run-20210502_210243-24k3z0ca/logs/debug.log</code>"
            ],
            "text/plain": [
              "<IPython.core.display.HTML object>"
            ]
          },
          "metadata": {
            "tags": []
          }
        },
        {
          "output_type": "display_data",
          "data": {
            "text/html": [
              "Find internal logs for this run at: <code>/content/wandb/run-20210502_210243-24k3z0ca/logs/debug-internal.log</code>"
            ],
            "text/plain": [
              "<IPython.core.display.HTML object>"
            ]
          },
          "metadata": {
            "tags": []
          }
        },
        {
          "output_type": "display_data",
          "data": {
            "text/html": [
              "<h3>Run summary:</h3><br/><style>\n",
              "    table.wandb td:nth-child(1) { padding: 0 10px; text-align: right }\n",
              "    </style><table class=\"wandb\">\n",
              "<tr><td>global_step</td><td>249875</td></tr><tr><td>_timestamp</td><td>1619990046.32488</td></tr><tr><td>reward</td><td>0.09809</td></tr><tr><td>debug/episode_len</td><td>5.0</td></tr><tr><td>_step</td><td>49975</td></tr><tr><td>loss/policy_loss</td><td>0.04587</td></tr><tr><td>loss/value_loss</td><td>0.00011</td></tr><tr><td>debug/entropy</td><td>0.2333</td></tr><tr><td>debug/approx_kl</td><td>0.00162</td></tr><tr><td>test_score</td><td>0.53483</td></tr><tr><td>_runtime</td><td>696</td></tr></table>"
            ],
            "text/plain": [
              "<IPython.core.display.HTML object>"
            ]
          },
          "metadata": {
            "tags": []
          }
        },
        {
          "output_type": "display_data",
          "data": {
            "text/html": [
              "<h3>Run history:</h3><br/><style>\n",
              "    table.wandb td:nth-child(1) { padding: 0 10px; text-align: right }\n",
              "    </style><table class=\"wandb\">\n",
              "<tr><td>global_step</td><td>▁▁▁▂▂▂▂▂▂▃▃▃▃▃▃▄▄▄▄▄▅▅▅▅▅▅▆▆▆▆▆▇▇▇▇▇▇███</td></tr><tr><td>_timestamp</td><td>▁▁▁▁▂▂▂▂▂▂▂▂▄▄▄▄▄▄▄▅▅▅▅▅▅▅▅▇▇▇▇▇▇▇██████</td></tr><tr><td>reward</td><td>▆▄▆▄▄▆▄▄▃▆▄▆▆▆▄▁▆▆▄▆▄▆▃▅█▅█▅▆▃▆▆▅▆▆▄▃▄▃▅</td></tr><tr><td>debug/episode_len</td><td>▁▁▁▁▁▁▁▁▁▁▁▁▁▁▁▁▁▁▁▁▁▁▁▁▁▁▁▁▁▁▁▁▁▁▁▁▁▁▁▁</td></tr><tr><td>_step</td><td>▁▁▁▂▂▂▂▂▂▃▃▃▃▃▃▄▄▄▄▄▅▅▅▅▅▅▆▆▆▆▆▇▇▇▇▇▇███</td></tr><tr><td>loss/policy_loss</td><td>▆█▄▄▄▇▄▆▆▅▅▄▄▆▆▆▅▅▇▇▅▂▆▆▂▅▅▁▃▅▃▆▅▇▆▆▇▆▅▅</td></tr><tr><td>loss/value_loss</td><td>▂▄▁▂▁▁▂▁▁▁▁▁▁▁▁▂▂▂▁▁▁▂▂▂▂▁▂█▁▁▂▂▁▂▁▁▁▂▁▁</td></tr><tr><td>debug/entropy</td><td>█▇▆▅▆▅▄▅▅▅▃▄▄▅▆▄▄▃▃▂▃▂▁▂▁▂▃▁▂▃▃▂▂▂▁▂▁▂▂▂</td></tr><tr><td>debug/approx_kl</td><td>█▆▃▅▅▅▅▅▅▅▄▁█▃▅▄▆▃▄▅▅▅▅▄▃▃▄▄▆▅▃▅▃▅▄▃▃▆▇▁</td></tr><tr><td>test_score</td><td>▁</td></tr><tr><td>_runtime</td><td>▁</td></tr></table><br/>"
            ],
            "text/plain": [
              "<IPython.core.display.HTML object>"
            ]
          },
          "metadata": {
            "tags": []
          }
        },
        {
          "output_type": "display_data",
          "data": {
            "text/html": [
              "Synced 5 W&B file(s), 1 media file(s), 0 artifact file(s) and 13 other file(s)"
            ],
            "text/plain": [
              "<IPython.core.display.HTML object>"
            ]
          },
          "metadata": {
            "tags": []
          }
        },
        {
          "output_type": "display_data",
          "data": {
            "text/html": [
              "\n",
              "                    <br/>Synced <strong style=\"color:#cdcd00\">dashing-armadillo-26</strong>: <a href=\"https://wandb.ai/atharv/causal-meta-rl/runs/24k3z0ca\" target=\"_blank\">https://wandb.ai/atharv/causal-meta-rl/runs/24k3z0ca</a><br/>\n",
              "                "
            ],
            "text/plain": [
              "<IPython.core.display.HTML object>"
            ]
          },
          "metadata": {
            "tags": []
          }
        },
        {
          "output_type": "stream",
          "text": [
            "Running experiment: interventional\n"
          ],
          "name": "stdout"
        },
        {
          "output_type": "display_data",
          "data": {
            "text/html": [
              "\n",
              "                Tracking run with wandb version 0.10.28<br/>\n",
              "                Syncing run <strong style=\"color:#cdcd00\">usual-music-27</strong> to <a href=\"https://wandb.ai\" target=\"_blank\">Weights & Biases</a> <a href=\"https://docs.wandb.com/integrations/jupyter.html\" target=\"_blank\">(Documentation)</a>.<br/>\n",
              "                Project page: <a href=\"https://wandb.ai/atharv/causal-meta-rl\" target=\"_blank\">https://wandb.ai/atharv/causal-meta-rl</a><br/>\n",
              "                Run page: <a href=\"https://wandb.ai/atharv/causal-meta-rl/runs/27l78ylf\" target=\"_blank\">https://wandb.ai/atharv/causal-meta-rl/runs/27l78ylf</a><br/>\n",
              "                Run data is saved locally in <code>/content/wandb/run-20210502_211429-27l78ylf</code><br/><br/>\n",
              "            "
            ],
            "text/plain": [
              "<IPython.core.display.HTML object>"
            ]
          },
          "metadata": {
            "tags": []
          }
        },
        {
          "output_type": "stream",
          "text": [
            "\u001b[34m\u001b[1mwandb\u001b[0m: \u001b[33mWARNING\u001b[0m When using several event log directories, please call wandb.tensorboard.patch(root_logdir=\"...\") before wandb.init\n"
          ],
          "name": "stderr"
        },
        {
          "output_type": "stream",
          "text": [
            "Start time: 020521 211431\n",
            "Observation Space: Box(inf, inf, (17,), float32)\n",
            "Action Space: Discrete(8)\n",
            "Model: Discrete_LSTM_AC(\n",
            "  (lstm): LSTM(17, 192)\n",
            "  (fc_pi): Linear(in_features=192, out_features=8, bias=True)\n",
            "  (fc_v): Linear(in_features=192, out_features=1, bias=True)\n",
            ")\n",
            "Logging to: /content/wandb/run-20210502_211429-27l78ylf/files/020521211431\n",
            "Hyperparameters: \n",
            "{'env': <__main__.CGMEnv object at 0x7f7d60546190>, 'model': Discrete_LSTM_AC(\n",
            "  (lstm): LSTM(17, 192)\n",
            "  (fc_pi): Linear(in_features=192, out_features=8, bias=True)\n",
            "  (fc_v): Linear(in_features=192, out_features=1, bias=True)\n",
            "), 'epochs': 10000, 'episodes_per_epoch': 5, 'updates_per_epoch': 5, 'lr': 0.0003, 'value_loss_weight': 0.2, 'gamma': 0.9, 'lmbda': 0.95, 'eps_clip': 0.1, 'max_steps': 500, 'log_path': '/content/wandb/run-20210502_211429-27l78ylf/files', 'seed': 42, 'verbose': False, 'device': device(type='cuda'), 'dtype': torch.float64, 'start_time': datetime.datetime(2021, 5, 2, 21, 14, 31, 842114)}\n",
            "\n",
            "Finished training in 663 seconds\n"
          ],
          "name": "stdout"
        },
        {
          "output_type": "display_data",
          "data": {
            "text/html": [
              "<br/>Waiting for W&B process to finish, PID 3062<br/>Program ended successfully."
            ],
            "text/plain": [
              "<IPython.core.display.HTML object>"
            ]
          },
          "metadata": {
            "tags": []
          }
        },
        {
          "output_type": "display_data",
          "data": {
            "application/vnd.jupyter.widget-view+json": {
              "model_id": "3fd3debb2ff24a04aee8efd97abadc87",
              "version_major": 2,
              "version_minor": 0
            },
            "text/plain": [
              "VBox(children=(Label(value=' 13.14MB of 13.14MB uploaded (0.00MB deduped)\\r'), FloatProgress(value=1.0, max=1.…"
            ]
          },
          "metadata": {
            "tags": []
          }
        },
        {
          "output_type": "display_data",
          "data": {
            "text/html": [
              "Find user logs for this run at: <code>/content/wandb/run-20210502_211429-27l78ylf/logs/debug.log</code>"
            ],
            "text/plain": [
              "<IPython.core.display.HTML object>"
            ]
          },
          "metadata": {
            "tags": []
          }
        },
        {
          "output_type": "display_data",
          "data": {
            "text/html": [
              "Find internal logs for this run at: <code>/content/wandb/run-20210502_211429-27l78ylf/logs/debug-internal.log</code>"
            ],
            "text/plain": [
              "<IPython.core.display.HTML object>"
            ]
          },
          "metadata": {
            "tags": []
          }
        },
        {
          "output_type": "display_data",
          "data": {
            "text/html": [
              "<h3>Run summary:</h3><br/><style>\n",
              "    table.wandb td:nth-child(1) { padding: 0 10px; text-align: right }\n",
              "    </style><table class=\"wandb\">\n",
              "<tr><td>global_step</td><td>249950</td></tr><tr><td>_timestamp</td><td>1619990735.63875</td></tr><tr><td>reward</td><td>0.08402</td></tr><tr><td>debug/episode_len</td><td>5.0</td></tr><tr><td>_step</td><td>49990</td></tr><tr><td>loss/policy_loss</td><td>0.03542</td></tr><tr><td>loss/value_loss</td><td>0.00014</td></tr><tr><td>debug/entropy</td><td>0.0478</td></tr><tr><td>debug/approx_kl</td><td>-0.00033</td></tr><tr><td>test_score</td><td>0.93363</td></tr><tr><td>_runtime</td><td>679</td></tr></table>"
            ],
            "text/plain": [
              "<IPython.core.display.HTML object>"
            ]
          },
          "metadata": {
            "tags": []
          }
        },
        {
          "output_type": "display_data",
          "data": {
            "text/html": [
              "<h3>Run history:</h3><br/><style>\n",
              "    table.wandb td:nth-child(1) { padding: 0 10px; text-align: right }\n",
              "    </style><table class=\"wandb\">\n",
              "<tr><td>global_step</td><td>▁▁▁▂▂▂▂▂▂▃▃▃▃▃▃▄▄▄▄▄▅▅▅▅▅▅▆▆▆▆▆▇▇▇▇▇▇███</td></tr><tr><td>_timestamp</td><td>▁▂▂▂▂▂▂▂▃▃▃▃▃▃▃▃▅▅▅▅▅▅▅▅▆▆▆▆▆▆▆▇▇▇▇▇▇▇▇█</td></tr><tr><td>reward</td><td>▁▂▇▅▅▇▅▅▇▇▅▅▇▅▅▂▇▅▅▇▅▇▅▅█▅█▅▇▄▇▇▅▇▇▅▅▅▄▅</td></tr><tr><td>debug/episode_len</td><td>▁▁▁▁▁▁▁▁▁▁▁▁▁▁▁▁▁▁▁▁▁▁▁▁▁▁▁▁▁▁▁▁▁▁▁▁▁▁▁▁</td></tr><tr><td>_step</td><td>▁▁▁▂▂▂▂▂▂▃▃▃▃▃▃▄▄▄▄▄▅▅▅▅▅▅▆▆▆▆▆▇▇▇▇▇▇███</td></tr><tr><td>loss/policy_loss</td><td>▃▄▄▃▆▁▆▅▆▅▅▄▃█▃█▅▅▅▅▅▃▆▅▃▃▃▅▄▇▃▇▅▇▅▅▅▇▆▆</td></tr><tr><td>loss/value_loss</td><td>▆▅▆▄▂▇▃▂▄▂▁▃▅█▁▄▃▂▁▁▁▂▃▅▂▆▅▇▄▅▃▂▂▂▂▂▁▄▂▁</td></tr><tr><td>debug/entropy</td><td>█▇▆▄▄▃▃▂▂▂▁▁▁▁▁▁▁▂▂▂▂▁▁▁▁▁▁▁▁▁▁▂▁▁▁▁▁▁▁▁</td></tr><tr><td>debug/approx_kl</td><td>▄▄▃▆▁▃▇▆▅▃▅▄▅▅▄▄▄▅▄▅▄▄▆▅▃▅▄▄▅▇▄█▅▆▅▅▄▄▄▅</td></tr><tr><td>test_score</td><td>▁</td></tr><tr><td>_runtime</td><td>▁</td></tr></table><br/>"
            ],
            "text/plain": [
              "<IPython.core.display.HTML object>"
            ]
          },
          "metadata": {
            "tags": []
          }
        },
        {
          "output_type": "display_data",
          "data": {
            "text/html": [
              "Synced 5 W&B file(s), 1 media file(s), 0 artifact file(s) and 13 other file(s)"
            ],
            "text/plain": [
              "<IPython.core.display.HTML object>"
            ]
          },
          "metadata": {
            "tags": []
          }
        },
        {
          "output_type": "display_data",
          "data": {
            "text/html": [
              "\n",
              "                    <br/>Synced <strong style=\"color:#cdcd00\">usual-music-27</strong>: <a href=\"https://wandb.ai/atharv/causal-meta-rl/runs/27l78ylf\" target=\"_blank\">https://wandb.ai/atharv/causal-meta-rl/runs/27l78ylf</a><br/>\n",
              "                "
            ],
            "text/plain": [
              "<IPython.core.display.HTML object>"
            ]
          },
          "metadata": {
            "tags": []
          }
        },
        {
          "output_type": "stream",
          "text": [
            "Running experiment: random interventional\n"
          ],
          "name": "stdout"
        },
        {
          "output_type": "display_data",
          "data": {
            "text/html": [
              "\n",
              "                Tracking run with wandb version 0.10.28<br/>\n",
              "                Syncing run <strong style=\"color:#cdcd00\">mild-leaf-28</strong> to <a href=\"https://wandb.ai\" target=\"_blank\">Weights & Biases</a> <a href=\"https://docs.wandb.com/integrations/jupyter.html\" target=\"_blank\">(Documentation)</a>.<br/>\n",
              "                Project page: <a href=\"https://wandb.ai/atharv/causal-meta-rl\" target=\"_blank\">https://wandb.ai/atharv/causal-meta-rl</a><br/>\n",
              "                Run page: <a href=\"https://wandb.ai/atharv/causal-meta-rl/runs/3dopjsk9\" target=\"_blank\">https://wandb.ai/atharv/causal-meta-rl/runs/3dopjsk9</a><br/>\n",
              "                Run data is saved locally in <code>/content/wandb/run-20210502_212558-3dopjsk9</code><br/><br/>\n",
              "            "
            ],
            "text/plain": [
              "<IPython.core.display.HTML object>"
            ]
          },
          "metadata": {
            "tags": []
          }
        },
        {
          "output_type": "stream",
          "text": [
            "\u001b[34m\u001b[1mwandb\u001b[0m: \u001b[33mWARNING\u001b[0m When using several event log directories, please call wandb.tensorboard.patch(root_logdir=\"...\") before wandb.init\n"
          ],
          "name": "stderr"
        },
        {
          "output_type": "stream",
          "text": [
            "Start time: 020521 212600\n",
            "Observation Space: Box(inf, inf, (17,), float32)\n",
            "Action Space: Discrete(8)\n",
            "Model: Discrete_LSTM_AC(\n",
            "  (lstm): LSTM(17, 192)\n",
            "  (fc_pi): Linear(in_features=192, out_features=8, bias=True)\n",
            "  (fc_v): Linear(in_features=192, out_features=1, bias=True)\n",
            ")\n",
            "Logging to: /content/wandb/run-20210502_212558-3dopjsk9/files/020521212600\n",
            "Hyperparameters: \n",
            "{'env': <__main__.CGMEnv object at 0x7f7d60546890>, 'model': Discrete_LSTM_AC(\n",
            "  (lstm): LSTM(17, 192)\n",
            "  (fc_pi): Linear(in_features=192, out_features=8, bias=True)\n",
            "  (fc_v): Linear(in_features=192, out_features=1, bias=True)\n",
            "), 'epochs': 10000, 'episodes_per_epoch': 5, 'updates_per_epoch': 5, 'lr': 0.0003, 'value_loss_weight': 0.2, 'gamma': 0.9, 'lmbda': 0.95, 'eps_clip': 0.1, 'max_steps': 500, 'log_path': '/content/wandb/run-20210502_212558-3dopjsk9/files', 'seed': 42, 'verbose': False, 'device': device(type='cuda'), 'dtype': torch.float64, 'start_time': datetime.datetime(2021, 5, 2, 21, 26, 0, 250947)}\n",
            "\n",
            "Finished training in 673 seconds\n"
          ],
          "name": "stdout"
        },
        {
          "output_type": "display_data",
          "data": {
            "text/html": [
              "<br/>Waiting for W&B process to finish, PID 3260<br/>Program ended successfully."
            ],
            "text/plain": [
              "<IPython.core.display.HTML object>"
            ]
          },
          "metadata": {
            "tags": []
          }
        },
        {
          "output_type": "display_data",
          "data": {
            "application/vnd.jupyter.widget-view+json": {
              "model_id": "6ed318ed27234d50987ac52bd5c82a99",
              "version_major": 2,
              "version_minor": 0
            },
            "text/plain": [
              "VBox(children=(Label(value=' 12.85MB of 12.85MB uploaded (0.00MB deduped)\\r'), FloatProgress(value=1.0, max=1.…"
            ]
          },
          "metadata": {
            "tags": []
          }
        },
        {
          "output_type": "display_data",
          "data": {
            "text/html": [
              "Find user logs for this run at: <code>/content/wandb/run-20210502_212558-3dopjsk9/logs/debug.log</code>"
            ],
            "text/plain": [
              "<IPython.core.display.HTML object>"
            ]
          },
          "metadata": {
            "tags": []
          }
        },
        {
          "output_type": "display_data",
          "data": {
            "text/html": [
              "Find internal logs for this run at: <code>/content/wandb/run-20210502_212558-3dopjsk9/logs/debug-internal.log</code>"
            ],
            "text/plain": [
              "<IPython.core.display.HTML object>"
            ]
          },
          "metadata": {
            "tags": []
          }
        },
        {
          "output_type": "display_data",
          "data": {
            "text/html": [
              "<h3>Run summary:</h3><br/><style>\n",
              "    table.wandb td:nth-child(1) { padding: 0 10px; text-align: right }\n",
              "    </style><table class=\"wandb\">\n",
              "<tr><td>global_step</td><td>249995</td></tr><tr><td>_timestamp</td><td>1619991433.87579</td></tr><tr><td>reward</td><td>0.04981</td></tr><tr><td>debug/episode_len</td><td>5.0</td></tr><tr><td>_step</td><td>49999</td></tr><tr><td>loss/policy_loss</td><td>-0.01553</td></tr><tr><td>loss/value_loss</td><td>0.00027</td></tr><tr><td>debug/entropy</td><td>1.01264</td></tr><tr><td>debug/approx_kl</td><td>-0.01501</td></tr><tr><td>test_score</td><td>0.83285</td></tr><tr><td>_runtime</td><td>688</td></tr></table>"
            ],
            "text/plain": [
              "<IPython.core.display.HTML object>"
            ]
          },
          "metadata": {
            "tags": []
          }
        },
        {
          "output_type": "display_data",
          "data": {
            "text/html": [
              "<h3>Run history:</h3><br/><style>\n",
              "    table.wandb td:nth-child(1) { padding: 0 10px; text-align: right }\n",
              "    </style><table class=\"wandb\">\n",
              "<tr><td>global_step</td><td>▁▁▁▂▂▂▂▂▂▃▃▃▃▃▃▄▄▄▄▄▅▅▅▅▅▅▆▆▆▆▆▇▇▇▇▇▇███</td></tr><tr><td>_timestamp</td><td>▁▁▁▁▁▂▂▂▂▂▂▂▂▄▄▄▄▄▄▄▅▅▅▅▅▅▅▅▇▇▇▇▇▇▇█████</td></tr><tr><td>reward</td><td>▃██▆▃▃▆▆███▆▆▆█▁▆▆▆▆▆█▆▆█▃▆▆▆▃▆█▆▆▆█▃▆▃▆</td></tr><tr><td>debug/episode_len</td><td>▁▁▁▁▁▁▁▁▁▁▁▁▁▁▁▁▁▁▁▁▁▁▁▁▁▁▁▁▁▁▁▁▁▁▁▁▁▁▁▁</td></tr><tr><td>_step</td><td>▁▁▁▂▂▂▂▂▂▃▃▃▃▃▃▄▄▄▄▄▅▅▅▅▅▅▆▆▆▆▆▇▇▇▇▇▇███</td></tr><tr><td>loss/policy_loss</td><td>▂▂▅▃▆▁▄▅▃▆▄▄▅▆▁▄█▃▂▅▆▄▃▆▂▅▆▄▄▄▅▅█▅▃▃▄▄▇▄</td></tr><tr><td>loss/value_loss</td><td>▇█▄▄▃▇▂▂▄▇▂▂▂▃▅▂█▃▃▅▄▂▄▃▄▁▄▃▃▁▄▃█▃▁▂▃▄▅▂</td></tr><tr><td>debug/entropy</td><td>█▇▅▄▄▄▃▃▂▂▂▂▃▂▄▃▃▄▅▄▃▃▂▄▄▄▄▄▄▄▄▃▁▃▃▂▁▃▃▃</td></tr><tr><td>debug/approx_kl</td><td>▅▃▃▄▇▂▃▇▄▁▂▃▄▄▃▃▆▂▂▃▄▄▁▄▃▃▅▃▃▄▅▅▅▄▃▂▃▃█▄</td></tr><tr><td>test_score</td><td>▁</td></tr><tr><td>_runtime</td><td>▁</td></tr></table><br/>"
            ],
            "text/plain": [
              "<IPython.core.display.HTML object>"
            ]
          },
          "metadata": {
            "tags": []
          }
        },
        {
          "output_type": "display_data",
          "data": {
            "text/html": [
              "Synced 5 W&B file(s), 1 media file(s), 0 artifact file(s) and 13 other file(s)"
            ],
            "text/plain": [
              "<IPython.core.display.HTML object>"
            ]
          },
          "metadata": {
            "tags": []
          }
        },
        {
          "output_type": "display_data",
          "data": {
            "text/html": [
              "\n",
              "                    <br/>Synced <strong style=\"color:#cdcd00\">mild-leaf-28</strong>: <a href=\"https://wandb.ai/atharv/causal-meta-rl/runs/3dopjsk9\" target=\"_blank\">https://wandb.ai/atharv/causal-meta-rl/runs/3dopjsk9</a><br/>\n",
              "                "
            ],
            "text/plain": [
              "<IPython.core.display.HTML object>"
            ]
          },
          "metadata": {
            "tags": []
          }
        },
        {
          "output_type": "stream",
          "text": [
            "Running experiment: observational + counterfactual\n"
          ],
          "name": "stdout"
        },
        {
          "output_type": "display_data",
          "data": {
            "text/html": [
              "\n",
              "                Tracking run with wandb version 0.10.28<br/>\n",
              "                Syncing run <strong style=\"color:#cdcd00\">twilight-sun-29</strong> to <a href=\"https://wandb.ai\" target=\"_blank\">Weights & Biases</a> <a href=\"https://docs.wandb.com/integrations/jupyter.html\" target=\"_blank\">(Documentation)</a>.<br/>\n",
              "                Project page: <a href=\"https://wandb.ai/atharv/causal-meta-rl\" target=\"_blank\">https://wandb.ai/atharv/causal-meta-rl</a><br/>\n",
              "                Run page: <a href=\"https://wandb.ai/atharv/causal-meta-rl/runs/3qr02aee\" target=\"_blank\">https://wandb.ai/atharv/causal-meta-rl/runs/3qr02aee</a><br/>\n",
              "                Run data is saved locally in <code>/content/wandb/run-20210502_213736-3qr02aee</code><br/><br/>\n",
              "            "
            ],
            "text/plain": [
              "<IPython.core.display.HTML object>"
            ]
          },
          "metadata": {
            "tags": []
          }
        },
        {
          "output_type": "stream",
          "text": [
            "\u001b[34m\u001b[1mwandb\u001b[0m: \u001b[33mWARNING\u001b[0m When using several event log directories, please call wandb.tensorboard.patch(root_logdir=\"...\") before wandb.init\n"
          ],
          "name": "stderr"
        },
        {
          "output_type": "stream",
          "text": [
            "Start time: 020521 213738\n",
            "Observation Space: Box(inf, inf, (17,), float32)\n",
            "Action Space: Discrete(8)\n",
            "Model: Discrete_LSTM_AC(\n",
            "  (lstm): LSTM(17, 192)\n",
            "  (fc_pi): Linear(in_features=192, out_features=8, bias=True)\n",
            "  (fc_v): Linear(in_features=192, out_features=1, bias=True)\n",
            ")\n",
            "Logging to: /content/wandb/run-20210502_213736-3qr02aee/files/020521213738\n",
            "Hyperparameters: \n",
            "{'env': <__main__.CGMEnv object at 0x7f7d60546350>, 'model': Discrete_LSTM_AC(\n",
            "  (lstm): LSTM(17, 192)\n",
            "  (fc_pi): Linear(in_features=192, out_features=8, bias=True)\n",
            "  (fc_v): Linear(in_features=192, out_features=1, bias=True)\n",
            "), 'epochs': 10000, 'episodes_per_epoch': 5, 'updates_per_epoch': 5, 'lr': 0.0003, 'value_loss_weight': 0.2, 'gamma': 0.9, 'lmbda': 0.95, 'eps_clip': 0.1, 'max_steps': 500, 'log_path': '/content/wandb/run-20210502_213736-3qr02aee/files', 'seed': 42, 'verbose': False, 'device': device(type='cuda'), 'dtype': torch.float64, 'start_time': datetime.datetime(2021, 5, 2, 21, 37, 38, 362145)}\n",
            "\n",
            "Finished training in 668 seconds\n"
          ],
          "name": "stdout"
        },
        {
          "output_type": "display_data",
          "data": {
            "text/html": [
              "<br/>Waiting for W&B process to finish, PID 3460<br/>Program ended successfully."
            ],
            "text/plain": [
              "<IPython.core.display.HTML object>"
            ]
          },
          "metadata": {
            "tags": []
          }
        },
        {
          "output_type": "display_data",
          "data": {
            "application/vnd.jupyter.widget-view+json": {
              "model_id": "d47a7a20e6ba472fa8628d41e5876bbd",
              "version_major": 2,
              "version_minor": 0
            },
            "text/plain": [
              "VBox(children=(Label(value=' 12.97MB of 12.97MB uploaded (0.00MB deduped)\\r'), FloatProgress(value=1.0, max=1.…"
            ]
          },
          "metadata": {
            "tags": []
          }
        },
        {
          "output_type": "display_data",
          "data": {
            "text/html": [
              "Find user logs for this run at: <code>/content/wandb/run-20210502_213736-3qr02aee/logs/debug.log</code>"
            ],
            "text/plain": [
              "<IPython.core.display.HTML object>"
            ]
          },
          "metadata": {
            "tags": []
          }
        },
        {
          "output_type": "display_data",
          "data": {
            "text/html": [
              "Find internal logs for this run at: <code>/content/wandb/run-20210502_213736-3qr02aee/logs/debug-internal.log</code>"
            ],
            "text/plain": [
              "<IPython.core.display.HTML object>"
            ]
          },
          "metadata": {
            "tags": []
          }
        },
        {
          "output_type": "display_data",
          "data": {
            "text/html": [
              "<h3>Run summary:</h3><br/><style>\n",
              "    table.wandb td:nth-child(1) { padding: 0 10px; text-align: right }\n",
              "    </style><table class=\"wandb\">\n",
              "<tr><td>global_step</td><td>249905</td></tr><tr><td>_timestamp</td><td>1619992126.13794</td></tr><tr><td>reward</td><td>-0.05718</td></tr><tr><td>debug/episode_len</td><td>5.0</td></tr><tr><td>_step</td><td>49981</td></tr><tr><td>loss/policy_loss</td><td>0.00757</td></tr><tr><td>loss/value_loss</td><td>8e-05</td></tr><tr><td>debug/entropy</td><td>0.52916</td></tr><tr><td>debug/approx_kl</td><td>0.03759</td></tr><tr><td>test_score</td><td>0.80643</td></tr><tr><td>_runtime</td><td>683</td></tr></table>"
            ],
            "text/plain": [
              "<IPython.core.display.HTML object>"
            ]
          },
          "metadata": {
            "tags": []
          }
        },
        {
          "output_type": "display_data",
          "data": {
            "text/html": [
              "<h3>Run history:</h3><br/><style>\n",
              "    table.wandb td:nth-child(1) { padding: 0 10px; text-align: right }\n",
              "    </style><table class=\"wandb\">\n",
              "<tr><td>global_step</td><td>▁▁▁▂▂▂▂▂▂▃▃▃▃▃▃▄▄▄▄▄▅▅▅▅▅▅▆▆▆▆▆▇▇▇▇▇▇███</td></tr><tr><td>_timestamp</td><td>▁▁▂▂▂▂▂▂▂▄▄▄▄▄▄▄▄▅▅▅▅▅▅▅▇▇▇▇▇▇▇▇████████</td></tr><tr><td>reward</td><td>█▃▆▆█▆▆▆▆▆▅█▆▆▆▁▆█▆▆▆▃▆██▆▃▆▃▆▆▆███▆▆▆▆█</td></tr><tr><td>debug/episode_len</td><td>▁▁▁▁▁▁▁▁▁▁▁▁▁▁▁▁▁▁▁▁▁▁▁▁▁▁▁▁▁▁▁▁▁▁▁▁▁▁▁▁</td></tr><tr><td>_step</td><td>▁▁▁▂▂▂▂▂▂▃▃▃▃▃▃▄▄▄▄▄▅▅▅▅▅▅▆▆▆▆▆▇▇▇▇▇▇███</td></tr><tr><td>loss/policy_loss</td><td>▁▆▂▅▅▄▄▂▅▆▄▄▃▅▆▃▃▆▆▆▅▄▅▇▅▅█▄▆▃▄▅▄▇▃▅▅▇▃▅</td></tr><tr><td>loss/value_loss</td><td>▂▃▂▄▃▁▁▆▁▃▂▁▂▁▅▂▂▃▃▁▁▂▁▃█▃▃▁▂▂▂▁▃▃▁▂▂▃▁▁</td></tr><tr><td>debug/entropy</td><td>█▇▅▆▆▆▅▆▅▄▄▅▄▅▃▂▂▂▄▃▃▃▂▄▃▂▂▂▂▁▁▂▂▃▁▂▂▂▂▂</td></tr><tr><td>debug/approx_kl</td><td>▇▃▂▁▅▃▃▃▄▁▁▃▃▃▄▃▂▃▃▂█▄▃▂▅▅▅▃▄▂▃▄▂▅▄▃▅▄▆▅</td></tr><tr><td>test_score</td><td>▁</td></tr><tr><td>_runtime</td><td>▁</td></tr></table><br/>"
            ],
            "text/plain": [
              "<IPython.core.display.HTML object>"
            ]
          },
          "metadata": {
            "tags": []
          }
        },
        {
          "output_type": "display_data",
          "data": {
            "text/html": [
              "Synced 5 W&B file(s), 1 media file(s), 0 artifact file(s) and 13 other file(s)"
            ],
            "text/plain": [
              "<IPython.core.display.HTML object>"
            ]
          },
          "metadata": {
            "tags": []
          }
        },
        {
          "output_type": "display_data",
          "data": {
            "text/html": [
              "\n",
              "                    <br/>Synced <strong style=\"color:#cdcd00\">twilight-sun-29</strong>: <a href=\"https://wandb.ai/atharv/causal-meta-rl/runs/3qr02aee\" target=\"_blank\">https://wandb.ai/atharv/causal-meta-rl/runs/3qr02aee</a><br/>\n",
              "                "
            ],
            "text/plain": [
              "<IPython.core.display.HTML object>"
            ]
          },
          "metadata": {
            "tags": []
          }
        },
        {
          "output_type": "stream",
          "text": [
            "Running experiment: interventional + counterfactual\n"
          ],
          "name": "stdout"
        },
        {
          "output_type": "display_data",
          "data": {
            "text/html": [
              "\n",
              "                Tracking run with wandb version 0.10.28<br/>\n",
              "                Syncing run <strong style=\"color:#cdcd00\">sage-dragon-30</strong> to <a href=\"https://wandb.ai\" target=\"_blank\">Weights & Biases</a> <a href=\"https://docs.wandb.com/integrations/jupyter.html\" target=\"_blank\">(Documentation)</a>.<br/>\n",
              "                Project page: <a href=\"https://wandb.ai/atharv/causal-meta-rl\" target=\"_blank\">https://wandb.ai/atharv/causal-meta-rl</a><br/>\n",
              "                Run page: <a href=\"https://wandb.ai/atharv/causal-meta-rl/runs/1y2gv5d5\" target=\"_blank\">https://wandb.ai/atharv/causal-meta-rl/runs/1y2gv5d5</a><br/>\n",
              "                Run data is saved locally in <code>/content/wandb/run-20210502_214908-1y2gv5d5</code><br/><br/>\n",
              "            "
            ],
            "text/plain": [
              "<IPython.core.display.HTML object>"
            ]
          },
          "metadata": {
            "tags": []
          }
        },
        {
          "output_type": "stream",
          "text": [
            "\u001b[34m\u001b[1mwandb\u001b[0m: \u001b[33mWARNING\u001b[0m When using several event log directories, please call wandb.tensorboard.patch(root_logdir=\"...\") before wandb.init\n"
          ],
          "name": "stderr"
        },
        {
          "output_type": "stream",
          "text": [
            "Start time: 020521 214910\n",
            "Observation Space: Box(inf, inf, (17,), float32)\n",
            "Action Space: Discrete(8)\n",
            "Model: Discrete_LSTM_AC(\n",
            "  (lstm): LSTM(17, 192)\n",
            "  (fc_pi): Linear(in_features=192, out_features=8, bias=True)\n",
            "  (fc_v): Linear(in_features=192, out_features=1, bias=True)\n",
            ")\n",
            "Logging to: /content/wandb/run-20210502_214908-1y2gv5d5/files/020521214910\n",
            "Hyperparameters: \n",
            "{'env': <__main__.CGMEnv object at 0x7f7d60660190>, 'model': Discrete_LSTM_AC(\n",
            "  (lstm): LSTM(17, 192)\n",
            "  (fc_pi): Linear(in_features=192, out_features=8, bias=True)\n",
            "  (fc_v): Linear(in_features=192, out_features=1, bias=True)\n",
            "), 'epochs': 10000, 'episodes_per_epoch': 5, 'updates_per_epoch': 5, 'lr': 0.0003, 'value_loss_weight': 0.2, 'gamma': 0.9, 'lmbda': 0.95, 'eps_clip': 0.1, 'max_steps': 500, 'log_path': '/content/wandb/run-20210502_214908-1y2gv5d5/files', 'seed': 42, 'verbose': False, 'device': device(type='cuda'), 'dtype': torch.float64, 'start_time': datetime.datetime(2021, 5, 2, 21, 49, 10, 867370)}\n",
            "\n",
            "Finished training in 663 seconds\n"
          ],
          "name": "stdout"
        },
        {
          "output_type": "display_data",
          "data": {
            "text/html": [
              "<br/>Waiting for W&B process to finish, PID 3548<br/>Program ended successfully."
            ],
            "text/plain": [
              "<IPython.core.display.HTML object>"
            ]
          },
          "metadata": {
            "tags": []
          }
        },
        {
          "output_type": "display_data",
          "data": {
            "application/vnd.jupyter.widget-view+json": {
              "model_id": "01980e9df8d74024aa8ecd071ae7f027",
              "version_major": 2,
              "version_minor": 0
            },
            "text/plain": [
              "VBox(children=(Label(value=' 13.13MB of 13.13MB uploaded (0.00MB deduped)\\r'), FloatProgress(value=1.0, max=1.…"
            ]
          },
          "metadata": {
            "tags": []
          }
        },
        {
          "output_type": "display_data",
          "data": {
            "text/html": [
              "Find user logs for this run at: <code>/content/wandb/run-20210502_214908-1y2gv5d5/logs/debug.log</code>"
            ],
            "text/plain": [
              "<IPython.core.display.HTML object>"
            ]
          },
          "metadata": {
            "tags": []
          }
        },
        {
          "output_type": "display_data",
          "data": {
            "text/html": [
              "Find internal logs for this run at: <code>/content/wandb/run-20210502_214908-1y2gv5d5/logs/debug-internal.log</code>"
            ],
            "text/plain": [
              "<IPython.core.display.HTML object>"
            ]
          },
          "metadata": {
            "tags": []
          }
        },
        {
          "output_type": "display_data",
          "data": {
            "text/html": [
              "<h3>Run summary:</h3><br/><style>\n",
              "    table.wandb td:nth-child(1) { padding: 0 10px; text-align: right }\n",
              "    </style><table class=\"wandb\">\n",
              "<tr><td>global_step</td><td>249955</td></tr><tr><td>_timestamp</td><td>1619992814.09621</td></tr><tr><td>reward</td><td>0.12075</td></tr><tr><td>debug/episode_len</td><td>5.0</td></tr><tr><td>_step</td><td>49991</td></tr><tr><td>loss/policy_loss</td><td>-0.05047</td></tr><tr><td>loss/value_loss</td><td>0.00034</td></tr><tr><td>debug/entropy</td><td>0.18235</td></tr><tr><td>debug/approx_kl</td><td>-0.04975</td></tr><tr><td>test_score</td><td>1.50799</td></tr><tr><td>_runtime</td><td>678</td></tr></table>"
            ],
            "text/plain": [
              "<IPython.core.display.HTML object>"
            ]
          },
          "metadata": {
            "tags": []
          }
        },
        {
          "output_type": "display_data",
          "data": {
            "text/html": [
              "<h3>Run history:</h3><br/><style>\n",
              "    table.wandb td:nth-child(1) { padding: 0 10px; text-align: right }\n",
              "    </style><table class=\"wandb\">\n",
              "<tr><td>global_step</td><td>▁▁▁▂▂▂▂▂▂▃▃▃▃▃▃▄▄▄▄▄▅▅▅▅▅▅▆▆▆▆▆▇▇▇▇▇▇███</td></tr><tr><td>_timestamp</td><td>▁▁▁▁▁▁▁▂▂▂▂▂▂▂▄▄▄▄▄▄▄▄▅▅▅▅▅▅▅▇▇▇▇▇▇▇▇███</td></tr><tr><td>reward</td><td>▄▅▄▆▇▅▆▆▁▅▅▆▆▇▆▅▆▇▆▆▆▇▆▇▇▇▆▆█▆▆▇▇▇▇▇▆▆▆▇</td></tr><tr><td>debug/episode_len</td><td>▁▁▁▁▁▁▁▁▁▁▁▁▁▁▁▁▁▁▁▁▁▁▁▁▁▁▁▁▁▁▁▁▁▁▁▁▁▁▁▁</td></tr><tr><td>_step</td><td>▁▁▁▂▂▂▂▂▂▃▃▃▃▃▃▄▄▄▄▄▅▅▅▅▅▅▆▆▆▆▆▇▇▇▇▇▇███</td></tr><tr><td>loss/policy_loss</td><td>▁▃▆▅▂▆▁▃▅▃▄▄█▆▃▇▃▃▃▆▄▄▄▅▃▅▄▁▅▄▃▄▄▆▃▄▃▆▂▆</td></tr><tr><td>loss/value_loss</td><td>▄▃▃▂▂▄▆▃▂▁▁▁▆▃▁█▁▁▂▁▂▁▁▁▁▁▂▂▂▂▁▁▂▂▂▁▁▂▁▁</td></tr><tr><td>debug/entropy</td><td>█▇▆▆▅▅▃▄▄▄▃▂▂▂▂▂▂▂▂▂▂▂▂▂▁▂▂▂▂▁▁▂▁▂▁▁▁▁▁▁</td></tr><tr><td>debug/approx_kl</td><td>▁▁▁▁▁▁▁▁█▁▁▁▁▁▁▁▁▁▁▁▁▁▁▁▁▁▁▁▁▁▁▁▁▁▁▁▁▁▁▁</td></tr><tr><td>test_score</td><td>▁</td></tr><tr><td>_runtime</td><td>▁</td></tr></table><br/>"
            ],
            "text/plain": [
              "<IPython.core.display.HTML object>"
            ]
          },
          "metadata": {
            "tags": []
          }
        },
        {
          "output_type": "display_data",
          "data": {
            "text/html": [
              "Synced 5 W&B file(s), 1 media file(s), 0 artifact file(s) and 13 other file(s)"
            ],
            "text/plain": [
              "<IPython.core.display.HTML object>"
            ]
          },
          "metadata": {
            "tags": []
          }
        },
        {
          "output_type": "display_data",
          "data": {
            "text/html": [
              "\n",
              "                    <br/>Synced <strong style=\"color:#cdcd00\">sage-dragon-30</strong>: <a href=\"https://wandb.ai/atharv/causal-meta-rl/runs/1y2gv5d5\" target=\"_blank\">https://wandb.ai/atharv/causal-meta-rl/runs/1y2gv5d5</a><br/>\n",
              "                "
            ],
            "text/plain": [
              "<IPython.core.display.HTML object>"
            ]
          },
          "metadata": {
            "tags": []
          }
        },
        {
          "output_type": "stream",
          "text": [
            "Running experiment: random interventional + counterfactual\n"
          ],
          "name": "stdout"
        },
        {
          "output_type": "display_data",
          "data": {
            "text/html": [
              "\n",
              "                Tracking run with wandb version 0.10.28<br/>\n",
              "                Syncing run <strong style=\"color:#cdcd00\">pious-grass-31</strong> to <a href=\"https://wandb.ai\" target=\"_blank\">Weights & Biases</a> <a href=\"https://docs.wandb.com/integrations/jupyter.html\" target=\"_blank\">(Documentation)</a>.<br/>\n",
              "                Project page: <a href=\"https://wandb.ai/atharv/causal-meta-rl\" target=\"_blank\">https://wandb.ai/atharv/causal-meta-rl</a><br/>\n",
              "                Run page: <a href=\"https://wandb.ai/atharv/causal-meta-rl/runs/1ktvzawl\" target=\"_blank\">https://wandb.ai/atharv/causal-meta-rl/runs/1ktvzawl</a><br/>\n",
              "                Run data is saved locally in <code>/content/wandb/run-20210502_220035-1ktvzawl</code><br/><br/>\n",
              "            "
            ],
            "text/plain": [
              "<IPython.core.display.HTML object>"
            ]
          },
          "metadata": {
            "tags": []
          }
        },
        {
          "output_type": "stream",
          "text": [
            "\u001b[34m\u001b[1mwandb\u001b[0m: \u001b[33mWARNING\u001b[0m When using several event log directories, please call wandb.tensorboard.patch(root_logdir=\"...\") before wandb.init\n"
          ],
          "name": "stderr"
        },
        {
          "output_type": "stream",
          "text": [
            "Start time: 020521 220038\n",
            "Observation Space: Box(inf, inf, (17,), float32)\n",
            "Action Space: Discrete(8)\n",
            "Model: Discrete_LSTM_AC(\n",
            "  (lstm): LSTM(17, 192)\n",
            "  (fc_pi): Linear(in_features=192, out_features=8, bias=True)\n",
            "  (fc_v): Linear(in_features=192, out_features=1, bias=True)\n",
            ")\n",
            "Logging to: /content/wandb/run-20210502_220035-1ktvzawl/files/020521220038\n",
            "Hyperparameters: \n",
            "{'env': <__main__.CGMEnv object at 0x7f7d60641e90>, 'model': Discrete_LSTM_AC(\n",
            "  (lstm): LSTM(17, 192)\n",
            "  (fc_pi): Linear(in_features=192, out_features=8, bias=True)\n",
            "  (fc_v): Linear(in_features=192, out_features=1, bias=True)\n",
            "), 'epochs': 10000, 'episodes_per_epoch': 5, 'updates_per_epoch': 5, 'lr': 0.0003, 'value_loss_weight': 0.2, 'gamma': 0.9, 'lmbda': 0.95, 'eps_clip': 0.1, 'max_steps': 500, 'log_path': '/content/wandb/run-20210502_220035-1ktvzawl/files', 'seed': 42, 'verbose': False, 'device': device(type='cuda'), 'dtype': torch.float64, 'start_time': datetime.datetime(2021, 5, 2, 22, 0, 38, 152225)}\n",
            "\n",
            "Finished training in 667 seconds\n"
          ],
          "name": "stdout"
        },
        {
          "output_type": "display_data",
          "data": {
            "text/html": [
              "<br/>Waiting for W&B process to finish, PID 3614<br/>Program ended successfully."
            ],
            "text/plain": [
              "<IPython.core.display.HTML object>"
            ]
          },
          "metadata": {
            "tags": []
          }
        },
        {
          "output_type": "display_data",
          "data": {
            "application/vnd.jupyter.widget-view+json": {
              "model_id": "a5893657d94a4691a2f286d4d9781dfd",
              "version_major": 2,
              "version_minor": 0
            },
            "text/plain": [
              "VBox(children=(Label(value=' 13.02MB of 13.02MB uploaded (0.00MB deduped)\\r'), FloatProgress(value=1.0, max=1.…"
            ]
          },
          "metadata": {
            "tags": []
          }
        },
        {
          "output_type": "display_data",
          "data": {
            "text/html": [
              "Find user logs for this run at: <code>/content/wandb/run-20210502_220035-1ktvzawl/logs/debug.log</code>"
            ],
            "text/plain": [
              "<IPython.core.display.HTML object>"
            ]
          },
          "metadata": {
            "tags": []
          }
        },
        {
          "output_type": "display_data",
          "data": {
            "text/html": [
              "Find internal logs for this run at: <code>/content/wandb/run-20210502_220035-1ktvzawl/logs/debug-internal.log</code>"
            ],
            "text/plain": [
              "<IPython.core.display.HTML object>"
            ]
          },
          "metadata": {
            "tags": []
          }
        },
        {
          "output_type": "display_data",
          "data": {
            "text/html": [
              "<h3>Run summary:</h3><br/><style>\n",
              "    table.wandb td:nth-child(1) { padding: 0 10px; text-align: right }\n",
              "    </style><table class=\"wandb\">\n",
              "<tr><td>global_step</td><td>249875</td></tr><tr><td>_timestamp</td><td>1619993505.30625</td></tr><tr><td>reward</td><td>0.1183</td></tr><tr><td>debug/episode_len</td><td>5.0</td></tr><tr><td>_step</td><td>49975</td></tr><tr><td>loss/policy_loss</td><td>-0.01159</td></tr><tr><td>loss/value_loss</td><td>5e-05</td></tr><tr><td>debug/entropy</td><td>0.34321</td></tr><tr><td>debug/approx_kl</td><td>0.0123</td></tr><tr><td>test_score</td><td>0.21907</td></tr><tr><td>_runtime</td><td>683</td></tr></table>"
            ],
            "text/plain": [
              "<IPython.core.display.HTML object>"
            ]
          },
          "metadata": {
            "tags": []
          }
        },
        {
          "output_type": "display_data",
          "data": {
            "text/html": [
              "<h3>Run history:</h3><br/><style>\n",
              "    table.wandb td:nth-child(1) { padding: 0 10px; text-align: right }\n",
              "    </style><table class=\"wandb\">\n",
              "<tr><td>global_step</td><td>▁▁▁▂▂▂▂▂▂▃▃▃▃▃▃▄▄▄▄▄▅▅▅▅▅▅▆▆▆▆▆▇▇▇▇▇▇███</td></tr><tr><td>_timestamp</td><td>▁▁▁▁▂▂▂▂▂▂▂▄▄▄▄▄▄▄▄▅▅▅▅▅▅▅▇▇▇▇▇▇▇▇██████</td></tr><tr><td>reward</td><td>▃█▃▆▆▆▆▆▆█▃█▆▆█▁▆█▆▆▆▃▆▆▆▆▆▆█▃▆▆▆█▆▆▆▆█▆</td></tr><tr><td>debug/episode_len</td><td>▁▁▁▁▁▁▁▁▁▁▁▁▁▁▁▁▁▁▁▁▁▁▁▁▁▁▁▁▁▁▁▁▁▁▁▁▁▁▁▁</td></tr><tr><td>_step</td><td>▁▁▁▂▂▂▂▂▂▃▃▃▃▃▃▄▄▄▄▄▅▅▅▅▅▅▆▆▆▆▆▇▇▇▇▇▇███</td></tr><tr><td>loss/policy_loss</td><td>▄▅▅▆▂▃▅▅▅▃▆▆▄▇▄▄▅▃▄▄▄▁▅▅▁▄█▄▄▃▄▃▄▆▃▄▃▃▄▃</td></tr><tr><td>loss/value_loss</td><td>▃▇▃▃▂▂▄█▁▃▄▃▂▃▃▂▂▂▂▂▂▆▂▄▃▁▇▁▃▁▃▁▃▃▂▁▄▃▃▂</td></tr><tr><td>debug/entropy</td><td>█▇▆▆▆▅▄▄▄▄▄▄▄▃▂▂▃▃▂▂▃▃▂▃▂▂▂▂▁▁▂▃▃▂▁▂▂▁▁▂</td></tr><tr><td>debug/approx_kl</td><td>█▇▆▅▃▁▆▆▃▆▆▄▅▄▄▇▆▅▄▄▆▆▄▅▄▃▇▅▅▄▅▃▅▅▄▄▄▅▅▄</td></tr><tr><td>test_score</td><td>▁</td></tr><tr><td>_runtime</td><td>▁</td></tr></table><br/>"
            ],
            "text/plain": [
              "<IPython.core.display.HTML object>"
            ]
          },
          "metadata": {
            "tags": []
          }
        },
        {
          "output_type": "display_data",
          "data": {
            "text/html": [
              "Synced 5 W&B file(s), 1 media file(s), 0 artifact file(s) and 13 other file(s)"
            ],
            "text/plain": [
              "<IPython.core.display.HTML object>"
            ]
          },
          "metadata": {
            "tags": []
          }
        },
        {
          "output_type": "display_data",
          "data": {
            "text/html": [
              "\n",
              "                    <br/>Synced <strong style=\"color:#cdcd00\">pious-grass-31</strong>: <a href=\"https://wandb.ai/atharv/causal-meta-rl/runs/1ktvzawl\" target=\"_blank\">https://wandb.ai/atharv/causal-meta-rl/runs/1ktvzawl</a><br/>\n",
              "                "
            ],
            "text/plain": [
              "<IPython.core.display.HTML object>"
            ]
          },
          "metadata": {
            "tags": []
          }
        },
        {
          "output_type": "execute_result",
          "data": {
            "text/html": [
              "<div>\n",
              "<style scoped>\n",
              "    .dataframe tbody tr th:only-of-type {\n",
              "        vertical-align: middle;\n",
              "    }\n",
              "\n",
              "    .dataframe tbody tr th {\n",
              "        vertical-align: top;\n",
              "    }\n",
              "\n",
              "    .dataframe thead th {\n",
              "        text-align: right;\n",
              "    }\n",
              "</style>\n",
              "<table border=\"1\" class=\"dataframe\">\n",
              "  <thead>\n",
              "    <tr style=\"text-align: right;\">\n",
              "      <th></th>\n",
              "      <th>Experiment</th>\n",
              "      <th>Test Score</th>\n",
              "    </tr>\n",
              "  </thead>\n",
              "  <tbody>\n",
              "    <tr>\n",
              "      <th>0</th>\n",
              "      <td>observational</td>\n",
              "      <td>0.534833</td>\n",
              "    </tr>\n",
              "    <tr>\n",
              "      <th>1</th>\n",
              "      <td>interventional</td>\n",
              "      <td>0.933632</td>\n",
              "    </tr>\n",
              "    <tr>\n",
              "      <th>2</th>\n",
              "      <td>random interventional</td>\n",
              "      <td>0.832851</td>\n",
              "    </tr>\n",
              "    <tr>\n",
              "      <th>3</th>\n",
              "      <td>observational + counterfactual</td>\n",
              "      <td>0.806432</td>\n",
              "    </tr>\n",
              "    <tr>\n",
              "      <th>4</th>\n",
              "      <td>interventional + counterfactual</td>\n",
              "      <td>1.507985</td>\n",
              "    </tr>\n",
              "    <tr>\n",
              "      <th>5</th>\n",
              "      <td>random interventional + counterfactual</td>\n",
              "      <td>0.219075</td>\n",
              "    </tr>\n",
              "  </tbody>\n",
              "</table>\n",
              "</div>"
            ],
            "text/plain": [
              "                               Experiment  Test Score\n",
              "0                           observational    0.534833\n",
              "1                          interventional    0.933632\n",
              "2                   random interventional    0.832851\n",
              "3          observational + counterfactual    0.806432\n",
              "4         interventional + counterfactual    1.507985\n",
              "5  random interventional + counterfactual    0.219075"
            ]
          },
          "metadata": {
            "tags": []
          },
          "execution_count": 12
        }
      ]
    },
    {
      "cell_type": "markdown",
      "metadata": {
        "id": "U-E2SCpLKUsE"
      },
      "source": [
        "# Results"
      ]
    },
    {
      "cell_type": "code",
      "metadata": {
        "colab": {
          "base_uri": "https://localhost:8080/",
          "height": 264
        },
        "id": "PQLRTN5hIuGb",
        "outputId": "cb610800-96aa-4417-828d-7e3c90e272c2"
      },
      "source": [
        "pd.DataFrame(results.items(), columns=[\"Experiment\", \"Test Score\"]).plot.barh(x=\"Experiment\", y=\"Test Score\", color=[\"green\", \"red\", \"blue\"])\n",
        "plt.grid()"
      ],
      "execution_count": null,
      "outputs": [
        {
          "output_type": "display_data",
          "data": {
            "image/png": "[encoded data removed]",
            "text/plain": [
              "<Figure size 432x288 with 1 Axes>"
            ]
          },
          "metadata": {
            "tags": []
          }
        }
      ]
    },
    {
      "cell_type": "markdown",
      "metadata": {
        "id": "MQdkzZ-UKWm2"
      },
      "source": [
        "Coming back to the two main claims that we wanted to test - \n",
        "\n",
        "1. Does the agent learn to infer the causal structure for a given problem? From the above results, the agent clearly achieves a positive reward in all setings. Hence we can claim that Meta RL does learn to estimate causal effects.\n",
        "\n",
        "\n",
        "2. Does the agent learn to usefully interact with the envrionment? In both the interventional and interventional-counterfactual cases, we can see that the active agent performs better than the random agent. This shows that the agent does learn to make useful interactions witht he environment to make causal inferences\n",
        "\n",
        "We can also see that the agent perfoms better in the interventional settings than the observational one since it receives much more information about the underlying structure by observing results of interventions"
      ]
    },
    {
      "cell_type": "markdown",
      "metadata": {
        "id": "J_FAt-u6sQC3"
      },
      "source": [
        "## Pearl's Causal Hierarchy\n",
        "\n",
        "These experiments can be linked to PCH. Our Meta RL alogirthm is sucessfully able to reason about interventions and countefactuals. We could say that the ability to reason about counterfactuals arises from being able learn about the causal structure of the environment during info phase. It needs to be explored whether such ability would hold for more complex environments."
      ]
    },
    {
      "cell_type": "markdown",
      "metadata": {
        "id": "SVg4rwF6sSkZ"
      },
      "source": [
        "![image.png](data:image/png;base64,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)\n",
        "\n",
        "Source: https://causalai.net/r60.pdf\n",
        "\n"
      ]
    },
    {
      "cell_type": "markdown",
      "metadata": {
        "id": "sZnhoJYvL6eC"
      },
      "source": [
        "# Ablations"
      ]
    },
    {
      "cell_type": "markdown",
      "metadata": {
        "id": "CxEHQZo6L8wX"
      },
      "source": [
        "## Size 10 DAGs"
      ]
    },
    {
      "cell_type": "code",
      "metadata": {
        "colab": {
          "base_uri": "https://localhost:8080/",
          "height": 392
        },
        "id": "od-yE2rdMHmE",
        "outputId": "964af3ff-df2c-4d46-8298-b0193aa231ee"
      },
      "source": [
        "# download pre made dataset. This can be created from scratch in the cell below\n",
        "\n",
        "!wget -q http://threewisemonkeys-as.github.io/files/causal-meta-rl/graphs_dataset_n10_10k.pkl\n",
        "!wget -q http://threewisemonkeys-as.github.io/files/causal-meta-rl/eq_classes_n10_10k.pkl\n",
        "\n",
        "# # create data (takes ~1 hr on colab)\n",
        "# data2 = generate_data_randomly(10, 10_000)\n",
        "# eq_classes2 = partition(data2)\n",
        "\n",
        "# load data\n",
        "data2 = pickle.load(open(\"graphs_dataset_n10_10k.pkl\", \"rb\"))\n",
        "eq_classes2 = pickle.load(open(\"eq_classes_n10_10k.pkl\", \"rb\"))\n",
        "\n",
        "print(f\"Number of total graphs: {len(data2)}\")\n",
        "print(f\"Number of equivalence classes of graphs: {len(eq_classes2)}\")\n",
        "\n",
        "train_g2, test_g2 = split_train_test(eq_classes2, 1000)\n",
        "print(f\"Train: {len(train_g2)} | Test: {len(test_g2)}\")\n",
        "\n",
        "g2 = data2[0]\n",
        "print(\"Visualisation -\")\n",
        "nx.draw(g2, with_labels=True)"
      ],
      "execution_count": null,
      "outputs": [
        {
          "output_type": "stream",
          "text": [
            "Number of total graphs: 10000\n",
            "Number of equivalence classes of graphs: 10000\n",
            "Train: 9000 | Test: 1000\n",
            "Visualisation -\n"
          ],
          "name": "stdout"
        },
        {
          "output_type": "display_data",
          "data": {
            "image/png": "[encoded data removed]",
            "text/plain": [
              "<Figure size 432x288 with 1 Axes>"
            ]
          },
          "metadata": {
            "tags": []
          }
        }
      ]
    },
    {
      "cell_type": "code",
      "metadata": {
        "id": "KBk1xv6Arqap"
      },
      "source": [
        "results2 = {}"
      ],
      "execution_count": null,
      "outputs": []
    },
    {
      "cell_type": "code",
      "metadata": {
        "colab": {
          "base_uri": "https://localhost:8080/",
          "height": 1000,
          "referenced_widgets": [
            "a3951feec46345a69973c4ea0f2cc2ff",
            "7bf2f69c7f6744d4b8894f329c00d499",
            "ba23cacf584b4d65910a8a0a8a4642b1",
            "ebdcc89c9acc479388988a1667b31d37",
            "2bee9cb74b234e69bad6fdfc797aba4f",
            "24a102b7784a4b8a884604f7b2cd804d",
            "17393d07cc30446193c9c9a2d4920e0a",
            "df9c8e95a1614b23aca80e1888494259",
            "53d47b3e7606407c87600c22a67b881d",
            "e41d469a073f4d3c9c6f68e9a82d6fd7",
            "a5a38b5a672c4e02a832649dc4698050",
            "bff4d2b455d140eba469d9fd6f4f19c2",
            "7c5d628487874c9bb9d7d88eab8a7166",
            "d03d159218154ce3bff6aa1e4f3e6f22",
            "f7b5eaeac8fb47e98242f476f63b6288",
            "9fbf8b0d979e42b09700330904c34eac",
            "1b5c88fe951747cfa6003a5266b3c23f",
            "e8ab43fe5620448ebecbe0e333de5fbd",
            "2766a97b542e4935ae96d2263f11780b",
            "10adc8ef0a444563b82f31290abe0f2d",
            "7529e6404071422ba1f3da90fa3c73f6",
            "8e3bd0d73c0b412b9e5597b3abb94d4e",
            "c77fccee1095427d82c9503550768916",
            "86fda3202aca4cafac6bd075c4b9cf5f",
            "8215cd6cb4ed48f79da8203de5760325",
            "971facbcd4cd440791d3ac635e5931a2",
            "80422341fcda4614aa500b680519f6cb",
            "a3df5d0440eb4d9ab464797816ec9a9b",
            "37f60378196a4983886342da8e18f4ed",
            "77e1ecfaa651411bbab46ba72d7767c9",
            "fde187cae667436bb63343cf3259ab04",
            "b5fe4e1aa5304b76aca7319179241878"
          ]
        },
        "id": "gBuuZjOTMx5v",
        "outputId": "50c12ec4-6e6f-4be6-dde2-09afce6524a7"
      },
      "source": [
        "exps = {\n",
        "    \"observational (n=10)\": {\"env\": CGMEnv(train_g2, action_class=\"observational\", n=10), \"train_epochs\": 10_000, \"hidden_size\": 256, \"ewi\": 0, \"ewd\": 0},\n",
        "    \"observational (n=10, info_steps=9)\":{\"env\":  CGMEnv(train_g2, action_class=\"observational\", n=10, info_steps=9), \"train_epochs\": 10_000, \"hidden_size\": 256, \"ewi\": 0, \"ewd\": 0},\n",
        "    # \"conditional\": {\"env\": CGMEnv(train_g2, action_class=\"conditional\", n=10), \"train_epochs\": 10_000, \"hidden_size\": 256, \"ewi\": 0, \"ewd\": 0},\n",
        "    # \"random conditional\": {\"env\": CGMEnv(train_g2, action_class=\"random conditional\", n=10), \"train_epochs\": 10_000, \"hidden_size\": 256, \"ewi\": 0, \"ewd\": 0},\n",
        "    \"interventional (n=10)\": {\"env\": CGMEnv(train_g2, action_class=\"interventional\", n=10), \"train_epochs\": 15_000, \"hidden_size\": 256, \"ewi\": 0, \"ewd\": 0},\n",
        "    \"interventional (n=10, info_steps=9)\": {\"env\": CGMEnv(train_g2, action_class=\"interventional\", n=10, info_steps=9), \"train_epochs\": 15_000, \"hidden_size\": 256, \"ewi\": 1, \"ewd\": 0.9995},\n",
        "    # \"random interventional\": {\"env\": CGMEnv(train_g2, action_class=\"random interventional\", n=10), \"train_epochs\": 10_000, \"hidden_size\": 256, \"ewi\": 0, \"ewd\": 0},\n",
        "    # \"observational + counterfactual\": {\"env\": CGMEnv(train_g2, action_class=\"observational\", counterfactual=True, n=10), \"train_epochs\": 10_000, \"hidden_size\": 256, \"ewi\": 0, \"ewd\": 0},\n",
        "    # \"conditional + counterfactual\": {\"env\": CGMEnv(train_g2, action_class=\"conditional\", counterfactual=True, n=10), \"train_epochs\": 10_000, \"hidden_size\": 256, \"ewi\": 0, \"ewd\": 0},\n",
        "    # \"random conditional + counterfactual\": {\"env\": CGMEnv(train_g2, action_class=\"random conditional\", counterfactual=True, n=10), \"train_epochs\": 10_000, \"hidden_size\": 256, \"ewi\": 0, \"ewd\": 0},\n",
        "    # \"interventional + counterfactual\": {\"env\": CGMEnv(train_g2, action_class=\"interventional\", counterfactual=True, n=10), \"train_epochs\": 10_000, \"hidden_size\": 256, \"ewi\": 0, \"ewd\": 0},\n",
        "    # \"random interventional + counterfactual\": {\"env\": CGMEnv(train_g2, action_class=\"random interventional\", counterfactual=True, n=10), \"train_epochs\": 10_000, \"hidden_size\": 256, \"ewi\": 0, \"ewd\": 0},\n",
        "}\n",
        "\n",
        "test_episodes = 1000\n",
        "\n",
        "for exp_name, config in exps.items():\n",
        "    env = config[\"env\"]\n",
        "    model = Discrete_LSTM_AC(input_size=env.observation_space.shape[0], n_actions=env.action_space.n, hidden_size=config[\"hidden_size\"])\n",
        "    wandb.init(project='causal-meta-rl', group=exp_name, entity='atharv', sync_tensorboard=True)\n",
        "    wandb.watch(model)\n",
        "    print(f\"Running experiment: {exp_name}\")\n",
        "    ppo(env, model, epochs=config[\"train_epochs\"], entropy_weight_init=config[\"ewi\"], entropy_weight_decay=config[\"ewd\"], log_path=wandb.run.dir, seed=seed)\n",
        "    env.reset(graphs=test_g2)\n",
        "    test_score = test_discrete_ac(env, model, episodes=test_episodes)\n",
        "    print(f\"Test score: {test_score}\")\n",
        "    wandb.log({\"test_score\": test_score})\n",
        "    wandb.finish()\n",
        "    results2[exp_name] = test_score\n",
        "\n",
        "pd.DataFrame(results2.items(), columns=[\"Experiment\", \"Test Score\"])\n"
      ],
      "execution_count": null,
      "outputs": [
        {
          "output_type": "display_data",
          "data": {
            "application/javascript": [
              "\n",
              "        window._wandbApiKey = new Promise((resolve, reject) => {\n",
              "            function loadScript(url) {\n",
              "            return new Promise(function(resolve, reject) {\n",
              "                let newScript = document.createElement(\"script\");\n",
              "                newScript.onerror = reject;\n",
              "                newScript.onload = resolve;\n",
              "                document.body.appendChild(newScript);\n",
              "                newScript.src = url;\n",
              "            });\n",
              "            }\n",
              "            loadScript(\"https://cdn.jsdelivr.net/npm/postmate/build/postmate.min.js\").then(() => {\n",
              "            const iframe = document.createElement('iframe')\n",
              "            iframe.style.cssText = \"width:0;height:0;border:none\"\n",
              "            document.body.appendChild(iframe)\n",
              "            const handshake = new Postmate({\n",
              "                container: iframe,\n",
              "                url: 'https://wandb.ai/authorize'\n",
              "            });\n",
              "            const timeout = setTimeout(() => reject(\"Couldn't auto authenticate\"), 5000)\n",
              "            handshake.then(function(child) {\n",
              "                child.on('authorize', data => {\n",
              "                    clearTimeout(timeout)\n",
              "                    resolve(data)\n",
              "                });\n",
              "            });\n",
              "            })\n",
              "        });\n",
              "    "
            ],
            "text/plain": [
              "<IPython.core.display.Javascript object>"
            ]
          },
          "metadata": {
            "tags": []
          }
        },
        {
          "output_type": "stream",
          "text": [
            "\u001b[34m\u001b[1mwandb\u001b[0m: Appending key for api.wandb.ai to your netrc file: /root/.netrc\n"
          ],
          "name": "stderr"
        },
        {
          "output_type": "display_data",
          "data": {
            "text/html": [
              "\n",
              "                Tracking run with wandb version 0.10.29<br/>\n",
              "                Syncing run <strong style=\"color:#cdcd00\">azure-cosmos-61</strong> to <a href=\"https://wandb.ai\" target=\"_blank\">Weights & Biases</a> <a href=\"https://docs.wandb.com/integrations/jupyter.html\" target=\"_blank\">(Documentation)</a>.<br/>\n",
              "                Project page: <a href=\"https://wandb.ai/atharv/causal-meta-rl\" target=\"_blank\">https://wandb.ai/atharv/causal-meta-rl</a><br/>\n",
              "                Run page: <a href=\"https://wandb.ai/atharv/causal-meta-rl/runs/3i6ja53q\" target=\"_blank\">https://wandb.ai/atharv/causal-meta-rl/runs/3i6ja53q</a><br/>\n",
              "                Run data is saved locally in <code>/content/wandb/run-20210506_114810-3i6ja53q</code><br/><br/>\n",
              "            "
            ],
            "text/plain": [
              "<IPython.core.display.HTML object>"
            ]
          },
          "metadata": {
            "tags": []
          }
        },
        {
          "output_type": "stream",
          "text": [
            "Running experiment: observational (n=10)\n",
            "Start time: 060521 114813\n",
            "Observation Space: Box(inf, inf, (37,), float32)\n",
            "Action Space: Discrete(18)\n",
            "Model: Discrete_LSTM_AC(\n",
            "  (lstm): LSTM(37, 256)\n",
            "  (fc_pi): Linear(in_features=256, out_features=18, bias=True)\n",
            "  (fc_v): Linear(in_features=256, out_features=1, bias=True)\n",
            ")\n",
            "Logging to: /content/wandb/run-20210506_114810-3i6ja53q/files/060521114813\n",
            "Hyperparameters: \n",
            "{'env': <__main__.CGMEnv object at 0x7f031e886e90>, 'model': Discrete_LSTM_AC(\n",
            "  (lstm): LSTM(37, 256)\n",
            "  (fc_pi): Linear(in_features=256, out_features=18, bias=True)\n",
            "  (fc_v): Linear(in_features=256, out_features=1, bias=True)\n",
            "), 'epochs': 10000, 'episodes_per_epoch': 5, 'updates_per_epoch': 5, 'lr': 0.0003, 'value_loss_weight': 0.2, 'entropy_weight_init': 0, 'entropy_weight_decay': 0, 'gamma': 0.9, 'lmbda': 0.95, 'eps_clip': 0.1, 'max_steps': 500, 'log_path': '/content/wandb/run-20210506_114810-3i6ja53q/files', 'seed': 42, 'verbose': False, 'device': device(type='cuda'), 'dtype': torch.float64, 'start_time': datetime.datetime(2021, 5, 6, 11, 48, 13, 407775)}\n",
            "\n",
            "Finished training in 1851 seconds\n",
            "Test score: 0.7208614098142071\n"
          ],
          "name": "stdout"
        },
        {
          "output_type": "display_data",
          "data": {
            "text/html": [
              "<br/>Waiting for W&B process to finish, PID 156<br/>Program ended successfully."
            ],
            "text/plain": [
              "<IPython.core.display.HTML object>"
            ]
          },
          "metadata": {
            "tags": []
          }
        },
        {
          "output_type": "display_data",
          "data": {
            "application/vnd.jupyter.widget-view+json": {
              "model_id": "a3951feec46345a69973c4ea0f2cc2ff",
              "version_major": 2,
              "version_minor": 0
            },
            "text/plain": [
              "VBox(children=(Label(value=' 13.81MB of 13.81MB uploaded (0.00MB deduped)\\r'), FloatProgress(value=1.0, max=1.…"
            ]
          },
          "metadata": {
            "tags": []
          }
        },
        {
          "output_type": "display_data",
          "data": {
            "text/html": [
              "Find user logs for this run at: <code>/content/wandb/run-20210506_114810-3i6ja53q/logs/debug.log</code>"
            ],
            "text/plain": [
              "<IPython.core.display.HTML object>"
            ]
          },
          "metadata": {
            "tags": []
          }
        },
        {
          "output_type": "display_data",
          "data": {
            "text/html": [
              "Find internal logs for this run at: <code>/content/wandb/run-20210506_114810-3i6ja53q/logs/debug-internal.log</code>"
            ],
            "text/plain": [
              "<IPython.core.display.HTML object>"
            ]
          },
          "metadata": {
            "tags": []
          }
        },
        {
          "output_type": "display_data",
          "data": {
            "text/html": [
              "<h3>Run summary:</h3><br/><style>\n",
              "    table.wandb td:nth-child(1) { padding: 0 10px; text-align: right }\n",
              "    </style><table class=\"wandb\">\n",
              "<tr><td>global_step</td><td>249975</td></tr><tr><td>_timestamp</td><td>1620303544.45145</td></tr><tr><td>reward</td><td>-0.00647</td></tr><tr><td>debug/episode_len</td><td>5.0</td></tr><tr><td>_step</td><td>49995</td></tr><tr><td>loss/policy_loss</td><td>-0.0852</td></tr><tr><td>loss/value_loss</td><td>0.00063</td></tr><tr><td>debug/entropy</td><td>0.5484</td></tr><tr><td>debug/approx_kl</td><td>-0.05519</td></tr><tr><td>test_score</td><td>0.72086</td></tr><tr><td>_runtime</td><td>1872</td></tr></table>"
            ],
            "text/plain": [
              "<IPython.core.display.HTML object>"
            ]
          },
          "metadata": {
            "tags": []
          }
        },
        {
          "output_type": "display_data",
          "data": {
            "text/html": [
              "<h3>Run history:</h3><br/><style>\n",
              "    table.wandb td:nth-child(1) { padding: 0 10px; text-align: right }\n",
              "    </style><table class=\"wandb\">\n",
              "<tr><td>global_step</td><td>▁▁▁▂▂▂▂▂▂▃▃▃▃▃▃▄▄▄▄▄▅▅▅▅▅▅▆▆▆▆▆▇▇▇▇▇▇███</td></tr><tr><td>_timestamp</td><td>▁▁▁▁▂▂▂▃▃▃▃▃▃▃▃▃▄▄▅▅▅▅▅▅▅▅▆▆▆▇▇▇▇▇▇▇▇███</td></tr><tr><td>reward</td><td>▃▃▃▃▂▅▂▅▃▃▅▅▁▇▃▂▄▄▂▂▃▄▃█▂▄▄▂▂▅▆▂▂▄▃▄▂▄▄▂</td></tr><tr><td>debug/episode_len</td><td>▁▁▁▁▁▁▁▁▁▁▁▁▁▁▁▁▁▁▁▁▁▁▁▁▁▁▁▁▁▁▁▁▁▁▁▁▁▁▁▁</td></tr><tr><td>_step</td><td>▁▁▁▂▂▂▂▂▂▃▃▃▃▃▃▄▄▄▄▄▅▅▅▅▅▅▆▆▆▆▆▇▇▇▇▇▇███</td></tr><tr><td>loss/policy_loss</td><td>▆▅▄▆▇█▇▄▂▆▇▇▅▆▇▆▇▇▅▇▁▆▅▅▇▃▇▅▄▅▅▅▇▅▇▇▆▇▅▆</td></tr><tr><td>loss/value_loss</td><td>▁▁▂▁▁▂▁▂▃▁▂▂▅▁▃▁▂▃▂▁█▁▂▃▁▂▁▂▂▁▃▂▁▂▁▂▃▁▁▁</td></tr><tr><td>debug/entropy</td><td>█▇▆▆▇▆▆▆▅▆▅▆▆▆▄▅▅▄▄▆▄▄▅▄▃▃▂▁▂▂▁▂▁▂▁▂▂▁▁▁</td></tr><tr><td>debug/approx_kl</td><td>▂▁▃▄▂▃▂▂▃█▄▃▅▄▄▂▄▂▃▄▂▃▃▂▄▃▅▄▃▃▃▃▄▃▆▅▂▄▃▆</td></tr><tr><td>test_score</td><td>▁</td></tr><tr><td>_runtime</td><td>▁</td></tr></table><br/>"
            ],
            "text/plain": [
              "<IPython.core.display.HTML object>"
            ]
          },
          "metadata": {
            "tags": []
          }
        },
        {
          "output_type": "display_data",
          "data": {
            "text/html": [
              "Synced 5 W&B file(s), 1 media file(s), 0 artifact file(s) and 13 other file(s)"
            ],
            "text/plain": [
              "<IPython.core.display.HTML object>"
            ]
          },
          "metadata": {
            "tags": []
          }
        },
        {
          "output_type": "display_data",
          "data": {
            "text/html": [
              "\n",
              "                    <br/>Synced <strong style=\"color:#cdcd00\">azure-cosmos-61</strong>: <a href=\"https://wandb.ai/atharv/causal-meta-rl/runs/3i6ja53q\" target=\"_blank\">https://wandb.ai/atharv/causal-meta-rl/runs/3i6ja53q</a><br/>\n",
              "                "
            ],
            "text/plain": [
              "<IPython.core.display.HTML object>"
            ]
          },
          "metadata": {
            "tags": []
          }
        },
        {
          "output_type": "stream",
          "text": [
            "\u001b[34m\u001b[1mwandb\u001b[0m: Currently logged in as: \u001b[33matharv\u001b[0m (use `wandb login --relogin` to force relogin)\n"
          ],
          "name": "stderr"
        },
        {
          "output_type": "display_data",
          "data": {
            "text/html": [
              "\n",
              "                Tracking run with wandb version 0.10.29<br/>\n",
              "                Syncing run <strong style=\"color:#cdcd00\">major-frost-62</strong> to <a href=\"https://wandb.ai\" target=\"_blank\">Weights & Biases</a> <a href=\"https://docs.wandb.com/integrations/jupyter.html\" target=\"_blank\">(Documentation)</a>.<br/>\n",
              "                Project page: <a href=\"https://wandb.ai/atharv/causal-meta-rl\" target=\"_blank\">https://wandb.ai/atharv/causal-meta-rl</a><br/>\n",
              "                Run page: <a href=\"https://wandb.ai/atharv/causal-meta-rl/runs/394sybmd\" target=\"_blank\">https://wandb.ai/atharv/causal-meta-rl/runs/394sybmd</a><br/>\n",
              "                Run data is saved locally in <code>/content/wandb/run-20210506_121933-394sybmd</code><br/><br/>\n",
              "            "
            ],
            "text/plain": [
              "<IPython.core.display.HTML object>"
            ]
          },
          "metadata": {
            "tags": []
          }
        },
        {
          "output_type": "stream",
          "text": [
            "\u001b[34m\u001b[1mwandb\u001b[0m: \u001b[33mWARNING\u001b[0m When using several event log directories, please call wandb.tensorboard.patch(root_logdir=\"...\") before wandb.init\n"
          ],
          "name": "stderr"
        },
        {
          "output_type": "stream",
          "text": [
            "Running experiment: observational (n=10, info_steps=9)\n",
            "Start time: 060521 121936\n",
            "Observation Space: Box(inf, inf, (37,), float32)\n",
            "Action Space: Discrete(18)\n",
            "Model: Discrete_LSTM_AC(\n",
            "  (lstm): LSTM(37, 256)\n",
            "  (fc_pi): Linear(in_features=256, out_features=18, bias=True)\n",
            "  (fc_v): Linear(in_features=256, out_features=1, bias=True)\n",
            ")\n",
            "Logging to: /content/wandb/run-20210506_121933-394sybmd/files/060521121936\n",
            "Hyperparameters: \n",
            "{'env': <__main__.CGMEnv object at 0x7f0380db1fd0>, 'model': Discrete_LSTM_AC(\n",
            "  (lstm): LSTM(37, 256)\n",
            "  (fc_pi): Linear(in_features=256, out_features=18, bias=True)\n",
            "  (fc_v): Linear(in_features=256, out_features=1, bias=True)\n",
            "), 'epochs': 10000, 'episodes_per_epoch': 5, 'updates_per_epoch': 5, 'lr': 0.0003, 'value_loss_weight': 0.2, 'entropy_weight_init': 0, 'entropy_weight_decay': 0, 'gamma': 0.9, 'lmbda': 0.95, 'eps_clip': 0.1, 'max_steps': 500, 'log_path': '/content/wandb/run-20210506_121933-394sybmd/files', 'seed': 42, 'verbose': False, 'device': device(type='cuda'), 'dtype': torch.float64, 'start_time': datetime.datetime(2021, 5, 6, 12, 19, 36, 186279)}\n",
            "\n",
            "Finished training in 3238 seconds\n",
            "Test score: -1.1110121914937026\n"
          ],
          "name": "stdout"
        },
        {
          "output_type": "display_data",
          "data": {
            "text/html": [
              "<br/>Waiting for W&B process to finish, PID 256<br/>Program ended successfully."
            ],
            "text/plain": [
              "<IPython.core.display.HTML object>"
            ]
          },
          "metadata": {
            "tags": []
          }
        },
        {
          "output_type": "display_data",
          "data": {
            "application/vnd.jupyter.widget-view+json": {
              "model_id": "53d47b3e7606407c87600c22a67b881d",
              "version_major": 2,
              "version_minor": 0
            },
            "text/plain": [
              "VBox(children=(Label(value=' 11.84MB of 11.84MB uploaded (0.00MB deduped)\\r'), FloatProgress(value=1.0, max=1.…"
            ]
          },
          "metadata": {
            "tags": []
          }
        },
        {
          "output_type": "display_data",
          "data": {
            "text/html": [
              "Find user logs for this run at: <code>/content/wandb/run-20210506_121933-394sybmd/logs/debug.log</code>"
            ],
            "text/plain": [
              "<IPython.core.display.HTML object>"
            ]
          },
          "metadata": {
            "tags": []
          }
        },
        {
          "output_type": "display_data",
          "data": {
            "text/html": [
              "Find internal logs for this run at: <code>/content/wandb/run-20210506_121933-394sybmd/logs/debug-internal.log</code>"
            ],
            "text/plain": [
              "<IPython.core.display.HTML object>"
            ]
          },
          "metadata": {
            "tags": []
          }
        },
        {
          "output_type": "display_data",
          "data": {
            "text/html": [
              "<h3>Run summary:</h3><br/><style>\n",
              "    table.wandb td:nth-child(1) { padding: 0 10px; text-align: right }\n",
              "    </style><table class=\"wandb\">\n",
              "<tr><td>global_step</td><td>500000</td></tr><tr><td>_timestamp</td><td>1620306814.4817</td></tr><tr><td>reward</td><td>-4.91726</td></tr><tr><td>debug/episode_len</td><td>10.0</td></tr><tr><td>_step</td><td>50000</td></tr><tr><td>loss/policy_loss</td><td>-0.10221</td></tr><tr><td>loss/value_loss</td><td>0.00606</td></tr><tr><td>debug/entropy</td><td>2.47095</td></tr><tr><td>debug/approx_kl</td><td>0.00522</td></tr><tr><td>test_score</td><td>-1.11101</td></tr><tr><td>_runtime</td><td>3275</td></tr></table>"
            ],
            "text/plain": [
              "<IPython.core.display.HTML object>"
            ]
          },
          "metadata": {
            "tags": []
          }
        },
        {
          "output_type": "display_data",
          "data": {
            "text/html": [
              "<h3>Run history:</h3><br/><style>\n",
              "    table.wandb td:nth-child(1) { padding: 0 10px; text-align: right }\n",
              "    </style><table class=\"wandb\">\n",
              "<tr><td>global_step</td><td>▁▁▁▂▂▂▂▂▂▃▃▃▃▃▃▄▄▄▄▄▅▅▅▅▅▅▆▆▆▆▆▇▇▇▇▇▇███</td></tr><tr><td>_timestamp</td><td>▁▁▁▂▂▂▂▂▂▃▃▃▃▃▄▄▄▄▄▄▅▅▅▅▅▅▆▆▆▆▆▇▇▇▇▇▇███</td></tr><tr><td>reward</td><td>▁▂▃▃▃▄▂▃▃▂▃▅▃▃▃▃▃▃▃▁▃▃▅▄▃▃▁▁█▂▃▂▅▃▃▂▁▄▃▁</td></tr><tr><td>debug/episode_len</td><td>▁▁▁▁▁▁▁▁▁▁▁▁▁▁▁▁▁▁▁▁▁▁▁▁▁▁▁▁▁▁▁▁▁▁▁▁▁▁▁▁</td></tr><tr><td>_step</td><td>▁▁▁▂▂▂▂▂▂▃▃▃▃▃▃▄▄▄▄▄▅▅▅▅▅▅▆▆▆▆▆▇▇▇▇▇▇███</td></tr><tr><td>loss/policy_loss</td><td>▅▅▅▅▅▅▅▅▅▆▇▆█▄▆▅▅▄▅▅▅▄▆▅▅▅▄▆▆▅▃▁▄▅▅▅▅▆▅▃</td></tr><tr><td>loss/value_loss</td><td>▁▁▁▁▁▁▁▁▁▁▂▂▃▂▂▁▂▃▁▁▁▁▃▁▁▁▁▁▂▂▄█▃▁▁▂▁▁▁▃</td></tr><tr><td>debug/entropy</td><td>▆▇▅▅█▇▆▆▇▆▆▂▆██▇▇▆▆▆▆▇▆▅▇▅▆▅█▇▆▅▁▆▄▅▇▂▇▆</td></tr><tr><td>debug/approx_kl</td><td>▂▇▃▄▃▄▅▃▇█▆▅▇▃▄▅▃▅▅█▄▁▂▆▆▅▄▄▅▁▃▄▅▄▄▅▂▄▆▂</td></tr><tr><td>test_score</td><td>▁</td></tr><tr><td>_runtime</td><td>▁</td></tr></table><br/>"
            ],
            "text/plain": [
              "<IPython.core.display.HTML object>"
            ]
          },
          "metadata": {
            "tags": []
          }
        },
        {
          "output_type": "display_data",
          "data": {
            "text/html": [
              "Synced 5 W&B file(s), 1 media file(s), 0 artifact file(s) and 13 other file(s)"
            ],
            "text/plain": [
              "<IPython.core.display.HTML object>"
            ]
          },
          "metadata": {
            "tags": []
          }
        },
        {
          "output_type": "display_data",
          "data": {
            "text/html": [
              "\n",
              "                    <br/>Synced <strong style=\"color:#cdcd00\">major-frost-62</strong>: <a href=\"https://wandb.ai/atharv/causal-meta-rl/runs/394sybmd\" target=\"_blank\">https://wandb.ai/atharv/causal-meta-rl/runs/394sybmd</a><br/>\n",
              "                "
            ],
            "text/plain": [
              "<IPython.core.display.HTML object>"
            ]
          },
          "metadata": {
            "tags": []
          }
        },
        {
          "output_type": "display_data",
          "data": {
            "text/html": [
              "\n",
              "                Tracking run with wandb version 0.10.29<br/>\n",
              "                Syncing run <strong style=\"color:#cdcd00\">true-sunset-63</strong> to <a href=\"https://wandb.ai\" target=\"_blank\">Weights & Biases</a> <a href=\"https://docs.wandb.com/integrations/jupyter.html\" target=\"_blank\">(Documentation)</a>.<br/>\n",
              "                Project page: <a href=\"https://wandb.ai/atharv/causal-meta-rl\" target=\"_blank\">https://wandb.ai/atharv/causal-meta-rl</a><br/>\n",
              "                Run page: <a href=\"https://wandb.ai/atharv/causal-meta-rl/runs/17l1e619\" target=\"_blank\">https://wandb.ai/atharv/causal-meta-rl/runs/17l1e619</a><br/>\n",
              "                Run data is saved locally in <code>/content/wandb/run-20210506_131419-17l1e619</code><br/><br/>\n",
              "            "
            ],
            "text/plain": [
              "<IPython.core.display.HTML object>"
            ]
          },
          "metadata": {
            "tags": []
          }
        },
        {
          "output_type": "stream",
          "text": [
            "\u001b[34m\u001b[1mwandb\u001b[0m: \u001b[33mWARNING\u001b[0m When using several event log directories, please call wandb.tensorboard.patch(root_logdir=\"...\") before wandb.init\n"
          ],
          "name": "stderr"
        },
        {
          "output_type": "stream",
          "text": [
            "Running experiment: interventional (n=10)\n",
            "Start time: 060521 131422\n",
            "Observation Space: Box(inf, inf, (37,), float32)\n",
            "Action Space: Discrete(18)\n",
            "Model: Discrete_LSTM_AC(\n",
            "  (lstm): LSTM(37, 256)\n",
            "  (fc_pi): Linear(in_features=256, out_features=18, bias=True)\n",
            "  (fc_v): Linear(in_features=256, out_features=1, bias=True)\n",
            ")\n",
            "Logging to: /content/wandb/run-20210506_131419-17l1e619/files/060521131422\n",
            "Hyperparameters: \n",
            "{'env': <__main__.CGMEnv object at 0x7f031e88ee50>, 'model': Discrete_LSTM_AC(\n",
            "  (lstm): LSTM(37, 256)\n",
            "  (fc_pi): Linear(in_features=256, out_features=18, bias=True)\n",
            "  (fc_v): Linear(in_features=256, out_features=1, bias=True)\n",
            "), 'epochs': 15000, 'episodes_per_epoch': 5, 'updates_per_epoch': 5, 'lr': 0.0003, 'value_loss_weight': 0.2, 'entropy_weight_init': 0, 'entropy_weight_decay': 0, 'gamma': 0.9, 'lmbda': 0.95, 'eps_clip': 0.1, 'max_steps': 500, 'log_path': '/content/wandb/run-20210506_131419-17l1e619/files', 'seed': 42, 'verbose': False, 'device': device(type='cuda'), 'dtype': torch.float64, 'start_time': datetime.datetime(2021, 5, 6, 13, 14, 22, 254277)}\n",
            "\n",
            "Finished training in 2521 seconds\n",
            "Test score: 0.38212364491862133\n"
          ],
          "name": "stdout"
        },
        {
          "output_type": "display_data",
          "data": {
            "text/html": [
              "<br/>Waiting for W&B process to finish, PID 417<br/>Program ended successfully."
            ],
            "text/plain": [
              "<IPython.core.display.HTML object>"
            ]
          },
          "metadata": {
            "tags": []
          }
        },
        {
          "output_type": "display_data",
          "data": {
            "application/vnd.jupyter.widget-view+json": {
              "model_id": "1b5c88fe951747cfa6003a5266b3c23f",
              "version_minor": 0,
              "version_major": 2
            },
            "text/plain": [
              "VBox(children=(Label(value=' 18.31MB of 18.31MB uploaded (0.00MB deduped)\\r'), FloatProgress(value=1.0, max=1.…"
            ]
          },
          "metadata": {
            "tags": []
          }
        },
        {
          "output_type": "display_data",
          "data": {
            "text/html": [
              "Find user logs for this run at: <code>/content/wandb/run-20210506_131419-17l1e619/logs/debug.log</code>"
            ],
            "text/plain": [
              "<IPython.core.display.HTML object>"
            ]
          },
          "metadata": {
            "tags": []
          }
        },
        {
          "output_type": "display_data",
          "data": {
            "text/html": [
              "Find internal logs for this run at: <code>/content/wandb/run-20210506_131419-17l1e619/logs/debug-internal.log</code>"
            ],
            "text/plain": [
              "<IPython.core.display.HTML object>"
            ]
          },
          "metadata": {
            "tags": []
          }
        },
        {
          "output_type": "display_data",
          "data": {
            "text/html": [
              "<h3>Run summary:</h3><br/><style>\n",
              "    table.wandb td:nth-child(1) { padding: 0 10px; text-align: right }\n",
              "    </style><table class=\"wandb\">\n",
              "<tr><td>global_step</td><td>374950</td></tr><tr><td>_timestamp</td><td>1620309383.18777</td></tr><tr><td>reward</td><td>0.09389</td></tr><tr><td>debug/episode_len</td><td>5.0</td></tr><tr><td>_step</td><td>74990</td></tr><tr><td>loss/policy_loss</td><td>0.02779</td></tr><tr><td>loss/value_loss</td><td>0.00067</td></tr><tr><td>debug/entropy</td><td>0.0102</td></tr><tr><td>debug/approx_kl</td><td>0.00012</td></tr><tr><td>test_score</td><td>0.38212</td></tr><tr><td>_runtime</td><td>2539</td></tr></table>"
            ],
            "text/plain": [
              "<IPython.core.display.HTML object>"
            ]
          },
          "metadata": {
            "tags": []
          }
        },
        {
          "output_type": "display_data",
          "data": {
            "text/html": [
              "<h3>Run history:</h3><br/><style>\n",
              "    table.wandb td:nth-child(1) { padding: 0 10px; text-align: right }\n",
              "    </style><table class=\"wandb\">\n",
              "<tr><td>global_step</td><td>▁▁▁▁▂▂▂▂▂▃▃▃▃▃▃▄▄▄▄▄▅▅▅▅▅▅▆▆▆▆▆▇▇▇▇▇▇███</td></tr><tr><td>_timestamp</td><td>▁▁▁▁▂▂▂▂▂▂▃▃▃▃▃▄▄▄▄▄▄▅▅▅▅▅▆▆▆▆▆▇▇▇▇▇▇███</td></tr><tr><td>reward</td><td>▃▁▇▅▅▄▄▇▄▆▃▆▆▄▄▄▄▄▄▇▅▆▆▄▄▆▆▇▅▆█▅▇▅▇█▆▇▄▇</td></tr><tr><td>debug/episode_len</td><td>▁▁▁▁▁▁▁▁▁▁▁▁▁▁▁▁▁▁▁▁▁▁▁▁▁▁▁▁▁▁▁▁▁▁▁▁▁▁▁▁</td></tr><tr><td>_step</td><td>▁▁▁▁▂▂▂▂▂▃▃▃▃▃▃▄▄▄▄▄▅▅▅▅▅▅▆▆▆▆▆▇▇▇▇▇▇███</td></tr><tr><td>loss/policy_loss</td><td>▃▂▂▃▅▃▃▄▄▄▄▅▅▄▄▄▄▄▅▇▂▂▄█▄▆▇▂▆▅▅▅▄▁▄▁▄▆▂▄</td></tr><tr><td>loss/value_loss</td><td>▂▃█▂▂▃▃▂▅▁▁▄▁▁▁▁▁▁▁▁▂▂▁▂▂▂▂▃▂▁▁▁▁▁▁▂▁▁▁▁</td></tr><tr><td>debug/entropy</td><td>█▇▃▄▄▄▂▂▂▂▂▂▂▁▁▁▁▁▂▂▂▂▁▂▁▁▁▁▁▁▁▁▁▁▁▁▁▁▁▁</td></tr><tr><td>debug/approx_kl</td><td>▁▂▂▂▂▁▁▁▁▁▁▁▁▅▁▄▅█▁▁▁▁▁▁▂▁▁▁▁▁▁▁▁▁▁▁▁▁▁▁</td></tr><tr><td>test_score</td><td>▁</td></tr><tr><td>_runtime</td><td>▁</td></tr></table><br/>"
            ],
            "text/plain": [
              "<IPython.core.display.HTML object>"
            ]
          },
          "metadata": {
            "tags": []
          }
        },
        {
          "output_type": "display_data",
          "data": {
            "text/html": [
              "Synced 5 W&B file(s), 1 media file(s), 0 artifact file(s) and 13 other file(s)"
            ],
            "text/plain": [
              "<IPython.core.display.HTML object>"
            ]
          },
          "metadata": {
            "tags": []
          }
        },
        {
          "output_type": "display_data",
          "data": {
            "text/html": [
              "\n",
              "                    <br/>Synced <strong style=\"color:#cdcd00\">true-sunset-63</strong>: <a href=\"https://wandb.ai/atharv/causal-meta-rl/runs/17l1e619\" target=\"_blank\">https://wandb.ai/atharv/causal-meta-rl/runs/17l1e619</a><br/>\n",
              "                "
            ],
            "text/plain": [
              "<IPython.core.display.HTML object>"
            ]
          },
          "metadata": {
            "tags": []
          }
        },
        {
          "output_type": "display_data",
          "data": {
            "text/html": [
              "\n",
              "                Tracking run with wandb version 0.10.29<br/>\n",
              "                Syncing run <strong style=\"color:#cdcd00\">wild-puddle-64</strong> to <a href=\"https://wandb.ai\" target=\"_blank\">Weights & Biases</a> <a href=\"https://docs.wandb.com/integrations/jupyter.html\" target=\"_blank\">(Documentation)</a>.<br/>\n",
              "                Project page: <a href=\"https://wandb.ai/atharv/causal-meta-rl\" target=\"_blank\">https://wandb.ai/atharv/causal-meta-rl</a><br/>\n",
              "                Run page: <a href=\"https://wandb.ai/atharv/causal-meta-rl/runs/dwiwv424\" target=\"_blank\">https://wandb.ai/atharv/causal-meta-rl/runs/dwiwv424</a><br/>\n",
              "                Run data is saved locally in <code>/content/wandb/run-20210506_135648-dwiwv424</code><br/><br/>\n",
              "            "
            ],
            "text/plain": [
              "<IPython.core.display.HTML object>"
            ]
          },
          "metadata": {
            "tags": []
          }
        },
        {
          "output_type": "stream",
          "text": [
            "\u001b[34m\u001b[1mwandb\u001b[0m: \u001b[33mWARNING\u001b[0m When using several event log directories, please call wandb.tensorboard.patch(root_logdir=\"...\") before wandb.init\n"
          ],
          "name": "stderr"
        },
        {
          "output_type": "stream",
          "text": [
            "Running experiment: interventional (n=10, info_steps=9)\n",
            "Start time: 060521 135651\n",
            "Observation Space: Box(inf, inf, (37,), float32)\n",
            "Action Space: Discrete(18)\n",
            "Model: Discrete_LSTM_AC(\n",
            "  (lstm): LSTM(37, 256)\n",
            "  (fc_pi): Linear(in_features=256, out_features=18, bias=True)\n",
            "  (fc_v): Linear(in_features=256, out_features=1, bias=True)\n",
            ")\n",
            "Logging to: /content/wandb/run-20210506_135648-dwiwv424/files/060521135651\n",
            "Hyperparameters: \n",
            "{'env': <__main__.CGMEnv object at 0x7f031e88e790>, 'model': Discrete_LSTM_AC(\n",
            "  (lstm): LSTM(37, 256)\n",
            "  (fc_pi): Linear(in_features=256, out_features=18, bias=True)\n",
            "  (fc_v): Linear(in_features=256, out_features=1, bias=True)\n",
            "), 'epochs': 15000, 'episodes_per_epoch': 5, 'updates_per_epoch': 5, 'lr': 0.0003, 'value_loss_weight': 0.2, 'entropy_weight_init': 1, 'entropy_weight_decay': 0.9995, 'gamma': 0.9, 'lmbda': 0.95, 'eps_clip': 0.1, 'max_steps': 500, 'log_path': '/content/wandb/run-20210506_135648-dwiwv424/files', 'seed': 42, 'verbose': False, 'device': device(type='cuda'), 'dtype': torch.float64, 'start_time': datetime.datetime(2021, 5, 6, 13, 56, 51, 415183)}\n",
            "\n",
            "Finished training in 4334 seconds\n",
            "Test score: -0.25303393647332456\n"
          ],
          "name": "stdout"
        },
        {
          "output_type": "display_data",
          "data": {
            "text/html": [
              "<br/>Waiting for W&B process to finish, PID 498<br/>Program ended successfully."
            ],
            "text/plain": [
              "<IPython.core.display.HTML object>"
            ]
          },
          "metadata": {
            "tags": []
          }
        },
        {
          "output_type": "display_data",
          "data": {
            "application/vnd.jupyter.widget-view+json": {
              "model_id": "8215cd6cb4ed48f79da8203de5760325",
              "version_minor": 0,
              "version_major": 2
            },
            "text/plain": [
              "VBox(children=(Label(value=' 18.22MB of 18.22MB uploaded (0.00MB deduped)\\r'), FloatProgress(value=1.0, max=1.…"
            ]
          },
          "metadata": {
            "tags": []
          }
        },
        {
          "output_type": "display_data",
          "data": {
            "text/html": [
              "Find user logs for this run at: <code>/content/wandb/run-20210506_135648-dwiwv424/logs/debug.log</code>"
            ],
            "text/plain": [
              "<IPython.core.display.HTML object>"
            ]
          },
          "metadata": {
            "tags": []
          }
        },
        {
          "output_type": "display_data",
          "data": {
            "text/html": [
              "Find internal logs for this run at: <code>/content/wandb/run-20210506_135648-dwiwv424/logs/debug-internal.log</code>"
            ],
            "text/plain": [
              "<IPython.core.display.HTML object>"
            ]
          },
          "metadata": {
            "tags": []
          }
        },
        {
          "output_type": "display_data",
          "data": {
            "text/html": [
              "<h3>Run summary:</h3><br/><style>\n",
              "    table.wandb td:nth-child(1) { padding: 0 10px; text-align: right }\n",
              "    </style><table class=\"wandb\">\n",
              "<tr><td>global_step</td><td>750000</td></tr><tr><td>_timestamp</td><td>1620313745.89596</td></tr><tr><td>reward</td><td>-14.98453</td></tr><tr><td>debug/episode_len</td><td>10.0</td></tr><tr><td>_step</td><td>75000</td></tr><tr><td>loss/policy_loss</td><td>-0.03203</td></tr><tr><td>loss/value_loss</td><td>0.00043</td></tr><tr><td>debug/entropy</td><td>1.64768</td></tr><tr><td>debug/approx_kl</td><td>-0.01059</td></tr><tr><td>test_score</td><td>-0.25303</td></tr><tr><td>_runtime</td><td>4364</td></tr></table>"
            ],
            "text/plain": [
              "<IPython.core.display.HTML object>"
            ]
          },
          "metadata": {
            "tags": []
          }
        },
        {
          "output_type": "display_data",
          "data": {
            "text/html": [
              "<h3>Run history:</h3><br/><style>\n",
              "    table.wandb td:nth-child(1) { padding: 0 10px; text-align: right }\n",
              "    </style><table class=\"wandb\">\n",
              "<tr><td>global_step</td><td>▁▁▁▁▂▂▂▂▂▃▃▃▃▃▃▄▄▄▄▄▅▅▅▅▅▅▆▆▆▆▆▇▇▇▇▇▇███</td></tr><tr><td>_timestamp</td><td>▁▁▁▁▂▂▂▂▂▂▃▃▃▃▄▄▄▄▄▄▅▅▅▅▅▅▆▆▆▆▆▇▇▇▇▇▇███</td></tr><tr><td>reward</td><td>▂▂▄▃▂▃▃▂▃▁▃▄▂▅▃▄▅▅▇▄▆▅▆▆▄▆█▆▆▅▆▅▆▆▆▆▅▅▅▄</td></tr><tr><td>debug/episode_len</td><td>▁▁▁▁▁▁▁▁▁▁▁▁▁▁▁▁▁▁▁▁▁▁▁▁▁▁▁▁▁▁▁▁▁▁▁▁▁▁▁▁</td></tr><tr><td>_step</td><td>▁▁▁▁▂▂▂▂▂▃▃▃▃▃▃▄▄▄▄▄▅▅▅▅▅▅▆▆▆▆▆▇▇▇▇▇▇███</td></tr><tr><td>loss/policy_loss</td><td>▅▅▅▅▁▂▄▆█▅▆▇▄▅▅▆▆▅▆▅▅▅▅▅▆▅▅▅▅▅▅▅▅▅▅▅▅▅▅▅</td></tr><tr><td>loss/value_loss</td><td>▁▁▁▁█▆▆▅█▂▃▃▂▁▁▁▁▁▁▁▁▁▁▁▁▁▁▁▁▁▁▁▁▁▁▁▁▁▁▁</td></tr><tr><td>debug/entropy</td><td>█████▇█▇▇█████▇▇▇▆▆▅▅▅▅▄▄▄▄▃▃▃▃▃▃▃▂▂▂▁▁▁</td></tr><tr><td>debug/approx_kl</td><td>▄▄▄▄▁▃▅▃▆▅▄▆▃▃▄▆▆▄▇▃▃▆▆▆█▆▆▂▄▃▅▆▃▃▄▄▃▆▃▆</td></tr><tr><td>test_score</td><td>▁</td></tr><tr><td>_runtime</td><td>▁</td></tr></table><br/>"
            ],
            "text/plain": [
              "<IPython.core.display.HTML object>"
            ]
          },
          "metadata": {
            "tags": []
          }
        },
        {
          "output_type": "display_data",
          "data": {
            "text/html": [
              "Synced 5 W&B file(s), 1 media file(s), 0 artifact file(s) and 13 other file(s)"
            ],
            "text/plain": [
              "<IPython.core.display.HTML object>"
            ]
          },
          "metadata": {
            "tags": []
          }
        },
        {
          "output_type": "display_data",
          "data": {
            "text/html": [
              "\n",
              "                    <br/>Synced <strong style=\"color:#cdcd00\">wild-puddle-64</strong>: <a href=\"https://wandb.ai/atharv/causal-meta-rl/runs/dwiwv424\" target=\"_blank\">https://wandb.ai/atharv/causal-meta-rl/runs/dwiwv424</a><br/>\n",
              "                "
            ],
            "text/plain": [
              "<IPython.core.display.HTML object>"
            ]
          },
          "metadata": {
            "tags": []
          }
        },
        {
          "output_type": "execute_result",
          "data": {
            "text/html": [
              "<div>\n",
              "<style scoped>\n",
              "    .dataframe tbody tr th:only-of-type {\n",
              "        vertical-align: middle;\n",
              "    }\n",
              "\n",
              "    .dataframe tbody tr th {\n",
              "        vertical-align: top;\n",
              "    }\n",
              "\n",
              "    .dataframe thead th {\n",
              "        text-align: right;\n",
              "    }\n",
              "</style>\n",
              "<table border=\"1\" class=\"dataframe\">\n",
              "  <thead>\n",
              "    <tr style=\"text-align: right;\">\n",
              "      <th></th>\n",
              "      <th>Experiment</th>\n",
              "      <th>Test Score</th>\n",
              "    </tr>\n",
              "  </thead>\n",
              "  <tbody>\n",
              "    <tr>\n",
              "      <th>0</th>\n",
              "      <td>observational (n=10)</td>\n",
              "      <td>0.720861</td>\n",
              "    </tr>\n",
              "    <tr>\n",
              "      <th>1</th>\n",
              "      <td>observational (n=10, info_steps=9)</td>\n",
              "      <td>-1.111012</td>\n",
              "    </tr>\n",
              "    <tr>\n",
              "      <th>2</th>\n",
              "      <td>interventional (n=10)</td>\n",
              "      <td>0.382124</td>\n",
              "    </tr>\n",
              "    <tr>\n",
              "      <th>3</th>\n",
              "      <td>interventional (n=10, info_steps=9)</td>\n",
              "      <td>-0.253034</td>\n",
              "    </tr>\n",
              "  </tbody>\n",
              "</table>\n",
              "</div>"
            ],
            "text/plain": [
              "                            Experiment  Test Score\n",
              "0                 observational (n=10)    0.720861\n",
              "1   observational (n=10, info_steps=9)   -1.111012\n",
              "2                interventional (n=10)    0.382124\n",
              "3  interventional (n=10, info_steps=9)   -0.253034"
            ]
          },
          "metadata": {
            "tags": []
          },
          "execution_count": 12
        }
      ]
    },
    {
      "cell_type": "code",
      "metadata": {
        "id": "AV800FltMx5z",
        "colab": {
          "base_uri": "https://localhost:8080/",
          "height": 265
        },
        "outputId": "1deccddb-1d8f-422c-a5a2-16da9d775a35"
      },
      "source": [
        "pd.DataFrame(results2.items(), columns=[\"Experiment\", \"Test Score\"]).plot.barh(x=\"Experiment\", y=\"Test Score\", color=[\"green\", \"red\", \"blue\"])\n",
        "plt.grid()"
      ],
      "execution_count": null,
      "outputs": [
        {
          "output_type": "display_data",
          "data": {
            "image/png": "[encoded data removed]",
            "text/plain": [
              "<Figure size 432x288 with 1 Axes>"
            ]
          },
          "metadata": {
            "tags": [],
            "needs_background": "light"
          }
        }
      ]
    },
    {
      "cell_type": "markdown",
      "metadata": {
        "id": "PdbzD5X5PLSx"
      },
      "source": [
        "Note that the performance of the agent trained on environment with `n_steps=9` is temperamental. A previous run resulted in agent getting consistent positive rewards - \n"
      ]
    },
    {
      "cell_type": "markdown",
      "metadata": {
        "id": "WwSah05YRd8c"
      },
      "source": [
        "![image.png](data:image/png;base64,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)"
      ]
    },
    {
      "cell_type": "markdown",
      "metadata": {
        "id": "xdMZw-x3Q_zw"
      },
      "source": [
        "All runs can be found at - https://wandb.ai/atharv/causal-meta-rl"
      ]
    },
    {
      "cell_type": "markdown",
      "metadata": {
        "id": "G_FVRfnh0wpA"
      },
      "source": [
        "## `var=0.5`"
      ]
    },
    {
      "cell_type": "code",
      "metadata": {
        "colab": {
          "base_uri": "https://localhost:8080/",
          "height": 1000,
          "referenced_widgets": [
            "075b0376358c4be68ef5a6cceb8f3d0b",
            "75213ac48b3f4919ab4f496b05589568",
            "21202d90ea41444a9cec6b8d2b5ce670",
            "c6deee2fd2c948f896108cd212c96273",
            "dd7caa28da8744468941f2d7c680b11d",
            "4d331b29a6404c69b48f89e4c2b6f1a7",
            "78e5da96ea11419bb1b697610b135589",
            "04069b1b1bcf4952b5e33cc196931ab3",
            "08ec6edd0ad94b22ae9229c75fef620d",
            "a6bb75d1052844daa5278f3c429afec7",
            "2410c30257fb4bf98063b04fe9209f21",
            "74c0027787dd4463b02d7a2011bc8627",
            "3acba8f6b26046a1b1dc891c6a8ebf81",
            "93c055b963bf40c2a9a2a35e053e6acf",
            "19b62da871cd447891c78a3e475993e4",
            "9bc7e4120bde4195bba9d277198cd1d5",
            "5fe61421479e4ea685a297235cd1309b",
            "0e393409447b43d18de003880d9fc129",
            "bfdfec175fbe44b480a4f57a73143099",
            "aa537a0acec94939b0b77b8aa2e42908",
            "57b460d6456e4984bbafa0d6e0765060",
            "49bd99a6a1b74fb78a4bf9722f96ec0f",
            "9d1e3fd8eabb470fb1975e053761f6e8",
            "14672928e18a43278a09a8826d096e63",
            "805e4eb852354c8da74a9ae3e210bb94",
            "371f6b91becc4845b6a9686475fb08d1",
            "5c754523a9fe4818a42224ca27f78b75",
            "5d101cbaee5a4f0abe0917b1bf4a46de",
            "9282c05151c64729a3e792ef6d9290bf",
            "dd24dfa48a4d485294ed65061b26137c",
            "470fddc18638479daad1e06bbc618976",
            "8fa5906f83cd4e5f87e08b7bbba58c05"
          ]
        },
        "id": "0LJx5CpO0Ugd",
        "outputId": "3f1dbf33-6bf6-4e48-bbb8-2b370f75fa8c"
      },
      "source": [
        "results = {}\n",
        "exps = {\n",
        "    \"observational (var=0.5)\": CGMEnv(train_g, action_class=\"observational\", var=0.5),\n",
        "    \"interventional (var=0.5)\": CGMEnv(train_g, action_class=\"interventional\", var=0.5),\n",
        "    \"interventional + counterfactual (var=0.5)\": CGMEnv(train_g, action_class=\"interventional\", counterfactual=True, var=0.5),\n",
        "}\n",
        "\n",
        "train_epochs = 10_000\n",
        "test_episodes = 3000\n",
        "\n",
        "for exp_name, env in exps.items():\n",
        "\n",
        "    model = Discrete_LSTM_AC(input_size=env.observation_space.shape[0], n_actions=env.action_space.n, hidden_size=192)\n",
        "    wandb.init(project='causal-meta-rl', group=exp_name, entity='atharv', sync_tensorboard=True)\n",
        "    wandb.watch(model)\n",
        "    print(f\"Running experiment: {exp_name}\")\n",
        "    ppo(env, model, epochs=train_epochs, log_path=wandb.run.dir, seed=seed)\n",
        "    env.reset(graphs=test_g)\n",
        "    test_score = test_discrete_ac(env, model, episodes=test_episodes)\n",
        "    wandb.log({\"test_score\": test_score})\n",
        "    wandb.finish()\n",
        "\n",
        "    results[exp_name] = test_score\n",
        "\n",
        "print(pd.DataFrame(results.items(), columns=[\"Experiment\", \"Test Score\"]))\n",
        "pd.DataFrame(results.items(), columns=[\"Experiment\", \"Test Score\"]).plot.barh(x=\"Experiment\", y=\"Test Score\", color=[\"green\", \"red\", \"blue\"])\n",
        "plt.grid()"
      ],
      "execution_count": null,
      "outputs": [
        {
          "output_type": "display_data",
          "data": {
            "text/html": [
              "Finishing last run (ID:8riahu7l) before initializing another..."
            ],
            "text/plain": [
              "<IPython.core.display.HTML object>"
            ]
          },
          "metadata": {
            "tags": []
          }
        },
        {
          "output_type": "display_data",
          "data": {
            "text/html": [
              "<br/>Waiting for W&B process to finish, PID 277<br/>Program ended successfully."
            ],
            "text/plain": [
              "<IPython.core.display.HTML object>"
            ]
          },
          "metadata": {
            "tags": []
          }
        },
        {
          "output_type": "display_data",
          "data": {
            "application/vnd.jupyter.widget-view+json": {
              "model_id": "075b0376358c4be68ef5a6cceb8f3d0b",
              "version_minor": 0,
              "version_major": 2
            },
            "text/plain": [
              "VBox(children=(Label(value=' 0.01MB of 0.01MB uploaded (0.00MB deduped)\\r'), FloatProgress(value=1.0, max=1.0)…"
            ]
          },
          "metadata": {
            "tags": []
          }
        },
        {
          "output_type": "display_data",
          "data": {
            "text/html": [
              "Find user logs for this run at: <code>/content/wandb/run-20210507_075738-8riahu7l/logs/debug.log</code>"
            ],
            "text/plain": [
              "<IPython.core.display.HTML object>"
            ]
          },
          "metadata": {
            "tags": []
          }
        },
        {
          "output_type": "display_data",
          "data": {
            "text/html": [
              "Find internal logs for this run at: <code>/content/wandb/run-20210507_075738-8riahu7l/logs/debug-internal.log</code>"
            ],
            "text/plain": [
              "<IPython.core.display.HTML object>"
            ]
          },
          "metadata": {
            "tags": []
          }
        },
        {
          "output_type": "display_data",
          "data": {
            "text/html": [
              "<h3>Run summary:</h3><br/><style>\n",
              "    table.wandb td:nth-child(1) { padding: 0 10px; text-align: right }\n",
              "    </style><table class=\"wandb\">\n",
              "<tr><td>global_step</td><td>3135</td></tr><tr><td>_timestamp</td><td>1620374279.13445</td></tr><tr><td>reward</td><td>-10.0</td></tr><tr><td>debug/episode_len</td><td>5.0</td></tr><tr><td>_step</td><td>626</td></tr><tr><td>loss/policy_loss</td><td>0.01456</td></tr><tr><td>loss/value_loss</td><td>0.00097</td></tr><tr><td>debug/entropy</td><td>2.00539</td></tr><tr><td>debug/approx_kl</td><td>0.02269</td></tr></table>"
            ],
            "text/plain": [
              "<IPython.core.display.HTML object>"
            ]
          },
          "metadata": {
            "tags": []
          }
        },
        {
          "output_type": "display_data",
          "data": {
            "text/html": [
              "<h3>Run history:</h3><br/><style>\n",
              "    table.wandb td:nth-child(1) { padding: 0 10px; text-align: right }\n",
              "    </style><table class=\"wandb\">\n",
              "<tr><td>global_step</td><td>▁▁▁▁▂▂▂▂▂▃▃▃▃▃▃▄▄▄▄▄▅▅▅▅▅▅▆▆▆▆▆▇▇▇▇▇▇███</td></tr><tr><td>_timestamp</td><td>▁▁▁▁▁▁▁▁▁▁▁▁▁▁▁▁▁▁▁▁▁▁▁▁▁▁▁▁▁▁▁▁▁▁▁▁▁▁▁▁</td></tr><tr><td>reward</td><td>▁▅▄▄▁▃▁▄▁▁▃▃▃▁▁▁▄▁▃▄▁█▁▁▁▃▁▁▁▄▅▁█▁▄▁▁▆▁▁</td></tr><tr><td>debug/episode_len</td><td>▁▁▁▁▁▁▁▁▁▁▁▁▁▁▁▁▁▁▁▁▁▁▁▁▁▁▁▁▁▁▁▁▁▁▁▁▁▁▁▁</td></tr><tr><td>_step</td><td>▁▁▁▁▂▂▂▂▂▃▃▃▃▃▃▄▄▄▄▄▅▅▅▅▅▅▆▆▆▆▆▇▇▇▇▇▇███</td></tr><tr><td>loss/policy_loss</td><td>█▇▅▄▄▆▄▁▇▃▄▄▅▃▅▄▃▄▄▂▃▃▆▃▄▄▃▆▃▄▃▂▁▄▁▇▃▃▃▄</td></tr><tr><td>loss/value_loss</td><td>█▅▂▂▁▆▂▄▄▁▁▁▂▄▃▂▂▂▁▆▃▆▅▂▁▄▂▄▃▆▂▂▃▄▇▇▃▃▅▄</td></tr><tr><td>debug/entropy</td><td>██████▇▇▇▇▇▆▇▆▆▆▆▆▆▇▆▅▆▇▇▆▃▅▅▆▅▃▂▅▂▃▅▂▁▂</td></tr><tr><td>debug/approx_kl</td><td>▄▄▃▄▄▄▄▁▃▅▁▄▄▄▆▄▄▁▄▅▂▅▃▄▄▄█▅▅▄▄▃▁▄▅▅▃▄▅▁</td></tr></table><br/>"
            ],
            "text/plain": [
              "<IPython.core.display.HTML object>"
            ]
          },
          "metadata": {
            "tags": []
          }
        },
        {
          "output_type": "display_data",
          "data": {
            "text/html": [
              "Synced 5 W&B file(s), 1 media file(s), 0 artifact file(s) and 2 other file(s)"
            ],
            "text/plain": [
              "<IPython.core.display.HTML object>"
            ]
          },
          "metadata": {
            "tags": []
          }
        },
        {
          "output_type": "display_data",
          "data": {
            "text/html": [
              "\n",
              "                    <br/>Synced <strong style=\"color:#cdcd00\">swept-pine-66</strong>: <a href=\"https://wandb.ai/atharv/causal-meta-rl/runs/8riahu7l\" target=\"_blank\">https://wandb.ai/atharv/causal-meta-rl/runs/8riahu7l</a><br/>\n",
              "                "
            ],
            "text/plain": [
              "<IPython.core.display.HTML object>"
            ]
          },
          "metadata": {
            "tags": []
          }
        },
        {
          "output_type": "display_data",
          "data": {
            "text/html": [
              "...Successfully finished last run (ID:8riahu7l). Initializing new run:<br/><br/>"
            ],
            "text/plain": [
              "<IPython.core.display.HTML object>"
            ]
          },
          "metadata": {
            "tags": []
          }
        },
        {
          "output_type": "display_data",
          "data": {
            "text/html": [
              "\n",
              "                Tracking run with wandb version 0.10.29<br/>\n",
              "                Syncing run <strong style=\"color:#cdcd00\">apricot-smoke-67</strong> to <a href=\"https://wandb.ai\" target=\"_blank\">Weights & Biases</a> <a href=\"https://docs.wandb.com/integrations/jupyter.html\" target=\"_blank\">(Documentation)</a>.<br/>\n",
              "                Project page: <a href=\"https://wandb.ai/atharv/causal-meta-rl\" target=\"_blank\">https://wandb.ai/atharv/causal-meta-rl</a><br/>\n",
              "                Run page: <a href=\"https://wandb.ai/atharv/causal-meta-rl/runs/2cth9046\" target=\"_blank\">https://wandb.ai/atharv/causal-meta-rl/runs/2cth9046</a><br/>\n",
              "                Run data is saved locally in <code>/content/wandb/run-20210507_075820-2cth9046</code><br/><br/>\n",
              "            "
            ],
            "text/plain": [
              "<IPython.core.display.HTML object>"
            ]
          },
          "metadata": {
            "tags": []
          }
        },
        {
          "output_type": "stream",
          "text": [
            "\u001b[34m\u001b[1mwandb\u001b[0m: \u001b[33mWARNING\u001b[0m When using several event log directories, please call wandb.tensorboard.patch(root_logdir=\"...\") before wandb.init\n"
          ],
          "name": "stderr"
        },
        {
          "output_type": "stream",
          "text": [
            "Running experiment: observational (var=0.5)\n",
            "Start time: 070521 075833\n",
            "Observation Space: Box(inf, inf, (17,), float32)\n",
            "Action Space: Discrete(8)\n",
            "Model: Discrete_LSTM_AC(\n",
            "  (lstm): LSTM(17, 192)\n",
            "  (fc_pi): Linear(in_features=192, out_features=8, bias=True)\n",
            "  (fc_v): Linear(in_features=192, out_features=1, bias=True)\n",
            ")\n",
            "Logging to: /content/wandb/run-20210507_075820-2cth9046/files/070521075833\n",
            "Hyperparameters: \n",
            "{'env': <__main__.CGMEnv object at 0x7f8495288ed0>, 'model': Discrete_LSTM_AC(\n",
            "  (lstm): LSTM(17, 192)\n",
            "  (fc_pi): Linear(in_features=192, out_features=8, bias=True)\n",
            "  (fc_v): Linear(in_features=192, out_features=1, bias=True)\n",
            "), 'epochs': 10000, 'episodes_per_epoch': 5, 'updates_per_epoch': 5, 'lr': 0.0003, 'value_loss_weight': 0.2, 'entropy_weight_init': 0, 'entropy_weight_decay': 0, 'gamma': 0.9, 'lmbda': 0.95, 'eps_clip': 0.1, 'max_steps': 500, 'log_path': '/content/wandb/run-20210507_075820-2cth9046/files', 'seed': 42, 'verbose': False, 'device': device(type='cuda'), 'dtype': torch.float64, 'start_time': datetime.datetime(2021, 5, 7, 7, 58, 33, 367973)}\n",
            "\n",
            "Finished training in 1171 seconds\n"
          ],
          "name": "stdout"
        },
        {
          "output_type": "display_data",
          "data": {
            "text/html": [
              "<br/>Waiting for W&B process to finish, PID 328<br/>Program ended successfully."
            ],
            "text/plain": [
              "<IPython.core.display.HTML object>"
            ]
          },
          "metadata": {
            "tags": []
          }
        },
        {
          "output_type": "display_data",
          "data": {
            "application/vnd.jupyter.widget-view+json": {
              "model_id": "08ec6edd0ad94b22ae9229c75fef620d",
              "version_minor": 0,
              "version_major": 2
            },
            "text/plain": [
              "VBox(children=(Label(value=' 12.92MB of 12.92MB uploaded (0.00MB deduped)\\r'), FloatProgress(value=1.0, max=1.…"
            ]
          },
          "metadata": {
            "tags": []
          }
        },
        {
          "output_type": "display_data",
          "data": {
            "text/html": [
              "Find user logs for this run at: <code>/content/wandb/run-20210507_075820-2cth9046/logs/debug.log</code>"
            ],
            "text/plain": [
              "<IPython.core.display.HTML object>"
            ]
          },
          "metadata": {
            "tags": []
          }
        },
        {
          "output_type": "display_data",
          "data": {
            "text/html": [
              "Find internal logs for this run at: <code>/content/wandb/run-20210507_075820-2cth9046/logs/debug-internal.log</code>"
            ],
            "text/plain": [
              "<IPython.core.display.HTML object>"
            ]
          },
          "metadata": {
            "tags": []
          }
        },
        {
          "output_type": "display_data",
          "data": {
            "text/html": [
              "<h3>Run summary:</h3><br/><style>\n",
              "    table.wandb td:nth-child(1) { padding: 0 10px; text-align: right }\n",
              "    </style><table class=\"wandb\">\n",
              "<tr><td>global_step</td><td>249960</td></tr><tr><td>_timestamp</td><td>1620375484.3768</td></tr><tr><td>reward</td><td>0.57291</td></tr><tr><td>debug/episode_len</td><td>5.0</td></tr><tr><td>_step</td><td>49992</td></tr><tr><td>loss/policy_loss</td><td>-0.02771</td></tr><tr><td>loss/value_loss</td><td>0.00025</td></tr><tr><td>debug/entropy</td><td>0.54217</td></tr><tr><td>debug/approx_kl</td><td>-0.00613</td></tr><tr><td>test_score</td><td>1.0306</td></tr><tr><td>_runtime</td><td>1193</td></tr></table>"
            ],
            "text/plain": [
              "<IPython.core.display.HTML object>"
            ]
          },
          "metadata": {
            "tags": []
          }
        },
        {
          "output_type": "display_data",
          "data": {
            "text/html": [
              "<h3>Run history:</h3><br/><style>\n",
              "    table.wandb td:nth-child(1) { padding: 0 10px; text-align: right }\n",
              "    </style><table class=\"wandb\">\n",
              "<tr><td>global_step</td><td>▁▁▁▂▂▂▂▂▂▃▃▃▃▃▃▄▄▄▄▄▅▅▅▅▅▅▆▆▆▆▆▇▇▇▇▇▇███</td></tr><tr><td>_timestamp</td><td>▁▂▂▂▂▃▃▃▃▃▃▃▃▃▄▄▄▄▅▅▅▅▅▆▆▆▆▆▆▆▆▇▇▇▇█████</td></tr><tr><td>reward</td><td>█▆▆▅▄▅▄▃▆▄▆▅▆▃▄▁▃▆▄▄▄▃▄▄▄▄▆▄▄▆▆▁▅▅▄▆▅▄▄▄</td></tr><tr><td>debug/episode_len</td><td>▁▁▁▁▁▁▁▁▁▁▁▁▁▁▁▁▁▁▁▁▁▁▁▁▁▁▁▁▁▁▁▁▁▁▁▁▁▁▁▁</td></tr><tr><td>_step</td><td>▁▁▁▂▂▂▂▂▂▃▃▃▃▃▃▄▄▄▄▄▅▅▅▅▅▅▆▆▆▆▆▇▇▇▇▇▇███</td></tr><tr><td>loss/policy_loss</td><td>▃█▆█▅▆▇▅▃▂▂▄▂▅█▄█▅▆▆▆▅▅▄▅▁▆▄▅▅▆▇▅▃▆█▄▆▇▂</td></tr><tr><td>loss/value_loss</td><td>▆▅▃█▂▁▂▂▃▂▂▃▂▃▄▁▃▁▁▂▂▂▃▁▁▄▃▂▁▃▄▃▂▁▂▁▂▁▃▃</td></tr><tr><td>debug/entropy</td><td>█▇▅▄▅▄▄▄▄▃▄▃▄▃▃▃▃▃▄▂▃▃▃▃▁▃▃▂▂▄▂▂▁▂▃▂▂▂▂▁</td></tr><tr><td>debug/approx_kl</td><td>▆▄▅▄▄▃▆▃▄▂▄▅▅▆▇▆▄▂█▅▆▆▃▃▁▄▄▃▄▂▅▃▂▄▄▄▅▇▅▃</td></tr><tr><td>test_score</td><td>▁</td></tr><tr><td>_runtime</td><td>▁</td></tr></table><br/>"
            ],
            "text/plain": [
              "<IPython.core.display.HTML object>"
            ]
          },
          "metadata": {
            "tags": []
          }
        },
        {
          "output_type": "display_data",
          "data": {
            "text/html": [
              "Synced 5 W&B file(s), 1 media file(s), 0 artifact file(s) and 13 other file(s)"
            ],
            "text/plain": [
              "<IPython.core.display.HTML object>"
            ]
          },
          "metadata": {
            "tags": []
          }
        },
        {
          "output_type": "display_data",
          "data": {
            "text/html": [
              "\n",
              "                    <br/>Synced <strong style=\"color:#cdcd00\">apricot-smoke-67</strong>: <a href=\"https://wandb.ai/atharv/causal-meta-rl/runs/2cth9046\" target=\"_blank\">https://wandb.ai/atharv/causal-meta-rl/runs/2cth9046</a><br/>\n",
              "                "
            ],
            "text/plain": [
              "<IPython.core.display.HTML object>"
            ]
          },
          "metadata": {
            "tags": []
          }
        },
        {
          "output_type": "display_data",
          "data": {
            "text/html": [
              "\n",
              "                Tracking run with wandb version 0.10.29<br/>\n",
              "                Syncing run <strong style=\"color:#cdcd00\">rural-eon-68</strong> to <a href=\"https://wandb.ai\" target=\"_blank\">Weights & Biases</a> <a href=\"https://docs.wandb.com/integrations/jupyter.html\" target=\"_blank\">(Documentation)</a>.<br/>\n",
              "                Project page: <a href=\"https://wandb.ai/atharv/causal-meta-rl\" target=\"_blank\">https://wandb.ai/atharv/causal-meta-rl</a><br/>\n",
              "                Run page: <a href=\"https://wandb.ai/atharv/causal-meta-rl/runs/3g0gg3an\" target=\"_blank\">https://wandb.ai/atharv/causal-meta-rl/runs/3g0gg3an</a><br/>\n",
              "                Run data is saved locally in <code>/content/wandb/run-20210507_081832-3g0gg3an</code><br/><br/>\n",
              "            "
            ],
            "text/plain": [
              "<IPython.core.display.HTML object>"
            ]
          },
          "metadata": {
            "tags": []
          }
        },
        {
          "output_type": "stream",
          "text": [
            "\u001b[34m\u001b[1mwandb\u001b[0m: \u001b[33mWARNING\u001b[0m When using several event log directories, please call wandb.tensorboard.patch(root_logdir=\"...\") before wandb.init\n"
          ],
          "name": "stderr"
        },
        {
          "output_type": "stream",
          "text": [
            "Running experiment: interventional (var=0.5)\n",
            "Start time: 070521 081835\n",
            "Observation Space: Box(inf, inf, (17,), float32)\n",
            "Action Space: Discrete(8)\n",
            "Model: Discrete_LSTM_AC(\n",
            "  (lstm): LSTM(17, 192)\n",
            "  (fc_pi): Linear(in_features=192, out_features=8, bias=True)\n",
            "  (fc_v): Linear(in_features=192, out_features=1, bias=True)\n",
            ")\n",
            "Logging to: /content/wandb/run-20210507_081832-3g0gg3an/files/070521081835\n",
            "Hyperparameters: \n",
            "{'env': <__main__.CGMEnv object at 0x7f8495288fd0>, 'model': Discrete_LSTM_AC(\n",
            "  (lstm): LSTM(17, 192)\n",
            "  (fc_pi): Linear(in_features=192, out_features=8, bias=True)\n",
            "  (fc_v): Linear(in_features=192, out_features=1, bias=True)\n",
            "), 'epochs': 10000, 'episodes_per_epoch': 5, 'updates_per_epoch': 5, 'lr': 0.0003, 'value_loss_weight': 0.2, 'entropy_weight_init': 0, 'entropy_weight_decay': 0, 'gamma': 0.9, 'lmbda': 0.95, 'eps_clip': 0.1, 'max_steps': 500, 'log_path': '/content/wandb/run-20210507_081832-3g0gg3an/files', 'seed': 42, 'verbose': False, 'device': device(type='cuda'), 'dtype': torch.float64, 'start_time': datetime.datetime(2021, 5, 7, 8, 18, 35, 580271)}\n",
            "\n",
            "Finished training in 1171 seconds\n"
          ],
          "name": "stdout"
        },
        {
          "output_type": "display_data",
          "data": {
            "text/html": [
              "<br/>Waiting for W&B process to finish, PID 437<br/>Program ended successfully."
            ],
            "text/plain": [
              "<IPython.core.display.HTML object>"
            ]
          },
          "metadata": {
            "tags": []
          }
        },
        {
          "output_type": "display_data",
          "data": {
            "application/vnd.jupyter.widget-view+json": {
              "model_id": "5fe61421479e4ea685a297235cd1309b",
              "version_minor": 0,
              "version_major": 2
            },
            "text/plain": [
              "VBox(children=(Label(value=' 12.85MB of 12.85MB uploaded (0.00MB deduped)\\r'), FloatProgress(value=1.0, max=1.…"
            ]
          },
          "metadata": {
            "tags": []
          }
        },
        {
          "output_type": "display_data",
          "data": {
            "text/html": [
              "Find user logs for this run at: <code>/content/wandb/run-20210507_081832-3g0gg3an/logs/debug.log</code>"
            ],
            "text/plain": [
              "<IPython.core.display.HTML object>"
            ]
          },
          "metadata": {
            "tags": []
          }
        },
        {
          "output_type": "display_data",
          "data": {
            "text/html": [
              "Find internal logs for this run at: <code>/content/wandb/run-20210507_081832-3g0gg3an/logs/debug-internal.log</code>"
            ],
            "text/plain": [
              "<IPython.core.display.HTML object>"
            ]
          },
          "metadata": {
            "tags": []
          }
        },
        {
          "output_type": "display_data",
          "data": {
            "text/html": [
              "<h3>Run summary:</h3><br/><style>\n",
              "    table.wandb td:nth-child(1) { padding: 0 10px; text-align: right }\n",
              "    </style><table class=\"wandb\">\n",
              "<tr><td>global_step</td><td>249905</td></tr><tr><td>_timestamp</td><td>1620376686.27405</td></tr><tr><td>reward</td><td>9.98682</td></tr><tr><td>debug/episode_len</td><td>5.0</td></tr><tr><td>_step</td><td>49981</td></tr><tr><td>loss/policy_loss</td><td>-0.00678</td></tr><tr><td>loss/value_loss</td><td>0.00073</td></tr><tr><td>debug/entropy</td><td>0.45656</td></tr><tr><td>debug/approx_kl</td><td>-0.00786</td></tr><tr><td>test_score</td><td>1.08739</td></tr><tr><td>_runtime</td><td>1192</td></tr></table>"
            ],
            "text/plain": [
              "<IPython.core.display.HTML object>"
            ]
          },
          "metadata": {
            "tags": []
          }
        },
        {
          "output_type": "display_data",
          "data": {
            "text/html": [
              "<h3>Run history:</h3><br/><style>\n",
              "    table.wandb td:nth-child(1) { padding: 0 10px; text-align: right }\n",
              "    </style><table class=\"wandb\">\n",
              "<tr><td>global_step</td><td>▁▁▁▂▂▂▂▂▂▃▃▃▃▃▃▄▄▄▄▄▅▅▅▅▅▅▆▆▆▆▆▇▇▇▇▇▇███</td></tr><tr><td>_timestamp</td><td>▁▁▁▁▂▂▂▂▃▃▃▃▃▃▃▃▃▄▄▄▄▅▅▅▅▆▆▆▆▆▆▆▆▆▇▇▇▇██</td></tr><tr><td>reward</td><td>▁▂▄▅▅▄▅▅▅▅█▆▅▆▅▂▅▄▆▅▅▄▅▅▅▆▇▅▅▆▆▇▅▅▅█▅▅▅▅</td></tr><tr><td>debug/episode_len</td><td>▁▁▁▁▁▁▁▁▁▁▁▁▁▁▁▁▁▁▁▁▁▁▁▁▁▁▁▁▁▁▁▁▁▁▁▁▁▁▁▁</td></tr><tr><td>_step</td><td>▁▁▁▂▂▂▂▂▂▃▃▃▃▃▃▄▄▄▄▄▅▅▅▅▅▅▆▆▆▆▆▇▇▇▇▇▇███</td></tr><tr><td>loss/policy_loss</td><td>▆▄▄▄▅▇▆▄█▇▄▆▅▃▆▆█▆▅▇▅▅▄▅▆▄▁▆█▃▇▆▂▂▆▇▅▄▇▅</td></tr><tr><td>loss/value_loss</td><td>▂▂▃▁▂▁▃▁█▁▁▁▁▁▁▂▃▁▁▂▃▁▁▁▃▁▃▂▂▁▁▁▂▂▁▁▁▁▁▁</td></tr><tr><td>debug/entropy</td><td>█▇▆▅▄▄▄▃▃▃▃▃▂▂▂▂▂▂▁▂▂▁▁▁▁▁▂▁▁▂▁▂▂▂▂▂▃▃▂▂</td></tr><tr><td>debug/approx_kl</td><td>▄▁█▆▅▃█▄▄▅▄▃▆▃▅▂▄▃▄▅▆▄▄▄▄▃▂▄▃▁▄▆▅▃▄▄▄▄▅▃</td></tr><tr><td>test_score</td><td>▁</td></tr><tr><td>_runtime</td><td>▁</td></tr></table><br/>"
            ],
            "text/plain": [
              "<IPython.core.display.HTML object>"
            ]
          },
          "metadata": {
            "tags": []
          }
        },
        {
          "output_type": "display_data",
          "data": {
            "text/html": [
              "Synced 5 W&B file(s), 1 media file(s), 0 artifact file(s) and 13 other file(s)"
            ],
            "text/plain": [
              "<IPython.core.display.HTML object>"
            ]
          },
          "metadata": {
            "tags": []
          }
        },
        {
          "output_type": "display_data",
          "data": {
            "text/html": [
              "\n",
              "                    <br/>Synced <strong style=\"color:#cdcd00\">rural-eon-68</strong>: <a href=\"https://wandb.ai/atharv/causal-meta-rl/runs/3g0gg3an\" target=\"_blank\">https://wandb.ai/atharv/causal-meta-rl/runs/3g0gg3an</a><br/>\n",
              "                "
            ],
            "text/plain": [
              "<IPython.core.display.HTML object>"
            ]
          },
          "metadata": {
            "tags": []
          }
        },
        {
          "output_type": "display_data",
          "data": {
            "text/html": [
              "\n",
              "                Tracking run with wandb version 0.10.29<br/>\n",
              "                Syncing run <strong style=\"color:#cdcd00\">deep-thunder-69</strong> to <a href=\"https://wandb.ai\" target=\"_blank\">Weights & Biases</a> <a href=\"https://docs.wandb.com/integrations/jupyter.html\" target=\"_blank\">(Documentation)</a>.<br/>\n",
              "                Project page: <a href=\"https://wandb.ai/atharv/causal-meta-rl\" target=\"_blank\">https://wandb.ai/atharv/causal-meta-rl</a><br/>\n",
              "                Run page: <a href=\"https://wandb.ai/atharv/causal-meta-rl/runs/3uxrbizc\" target=\"_blank\">https://wandb.ai/atharv/causal-meta-rl/runs/3uxrbizc</a><br/>\n",
              "                Run data is saved locally in <code>/content/wandb/run-20210507_083834-3uxrbizc</code><br/><br/>\n",
              "            "
            ],
            "text/plain": [
              "<IPython.core.display.HTML object>"
            ]
          },
          "metadata": {
            "tags": []
          }
        },
        {
          "output_type": "stream",
          "text": [
            "\u001b[34m\u001b[1mwandb\u001b[0m: \u001b[33mWARNING\u001b[0m When using several event log directories, please call wandb.tensorboard.patch(root_logdir=\"...\") before wandb.init\n"
          ],
          "name": "stderr"
        },
        {
          "output_type": "stream",
          "text": [
            "Running experiment: interventional + counterfactual (var=0.5)\n",
            "Start time: 070521 083837\n",
            "Observation Space: Box(inf, inf, (17,), float32)\n",
            "Action Space: Discrete(8)\n",
            "Model: Discrete_LSTM_AC(\n",
            "  (lstm): LSTM(17, 192)\n",
            "  (fc_pi): Linear(in_features=192, out_features=8, bias=True)\n",
            "  (fc_v): Linear(in_features=192, out_features=1, bias=True)\n",
            ")\n",
            "Logging to: /content/wandb/run-20210507_083834-3uxrbizc/files/070521083837\n",
            "Hyperparameters: \n",
            "{'env': <__main__.CGMEnv object at 0x7f8497c3efd0>, 'model': Discrete_LSTM_AC(\n",
            "  (lstm): LSTM(17, 192)\n",
            "  (fc_pi): Linear(in_features=192, out_features=8, bias=True)\n",
            "  (fc_v): Linear(in_features=192, out_features=1, bias=True)\n",
            "), 'epochs': 10000, 'episodes_per_epoch': 5, 'updates_per_epoch': 5, 'lr': 0.0003, 'value_loss_weight': 0.2, 'entropy_weight_init': 0, 'entropy_weight_decay': 0, 'gamma': 0.9, 'lmbda': 0.95, 'eps_clip': 0.1, 'max_steps': 500, 'log_path': '/content/wandb/run-20210507_083834-3uxrbizc/files', 'seed': 42, 'verbose': False, 'device': device(type='cuda'), 'dtype': torch.float64, 'start_time': datetime.datetime(2021, 5, 7, 8, 38, 37, 776225)}\n",
            "\n",
            "Finished training in 1145 seconds\n"
          ],
          "name": "stdout"
        },
        {
          "output_type": "display_data",
          "data": {
            "text/html": [
              "<br/>Waiting for W&B process to finish, PID 609<br/>Program ended successfully."
            ],
            "text/plain": [
              "<IPython.core.display.HTML object>"
            ]
          },
          "metadata": {
            "tags": []
          }
        },
        {
          "output_type": "display_data",
          "data": {
            "application/vnd.jupyter.widget-view+json": {
              "model_id": "805e4eb852354c8da74a9ae3e210bb94",
              "version_minor": 0,
              "version_major": 2
            },
            "text/plain": [
              "VBox(children=(Label(value=' 12.89MB of 12.89MB uploaded (0.00MB deduped)\\r'), FloatProgress(value=1.0, max=1.…"
            ]
          },
          "metadata": {
            "tags": []
          }
        },
        {
          "output_type": "display_data",
          "data": {
            "text/html": [
              "Find user logs for this run at: <code>/content/wandb/run-20210507_083834-3uxrbizc/logs/debug.log</code>"
            ],
            "text/plain": [
              "<IPython.core.display.HTML object>"
            ]
          },
          "metadata": {
            "tags": []
          }
        },
        {
          "output_type": "display_data",
          "data": {
            "text/html": [
              "Find internal logs for this run at: <code>/content/wandb/run-20210507_083834-3uxrbizc/logs/debug-internal.log</code>"
            ],
            "text/plain": [
              "<IPython.core.display.HTML object>"
            ]
          },
          "metadata": {
            "tags": []
          }
        },
        {
          "output_type": "display_data",
          "data": {
            "text/html": [
              "<h3>Run summary:</h3><br/><style>\n",
              "    table.wandb td:nth-child(1) { padding: 0 10px; text-align: right }\n",
              "    </style><table class=\"wandb\">\n",
              "<tr><td>global_step</td><td>249990</td></tr><tr><td>_timestamp</td><td>1620377863.33784</td></tr><tr><td>reward</td><td>0.27847</td></tr><tr><td>debug/episode_len</td><td>5.0</td></tr><tr><td>_step</td><td>49998</td></tr><tr><td>loss/policy_loss</td><td>0.01303</td></tr><tr><td>loss/value_loss</td><td>0.0004</td></tr><tr><td>debug/entropy</td><td>0.01453</td></tr><tr><td>debug/approx_kl</td><td>0.00028</td></tr><tr><td>test_score</td><td>1.04454</td></tr><tr><td>_runtime</td><td>1167</td></tr></table>"
            ],
            "text/plain": [
              "<IPython.core.display.HTML object>"
            ]
          },
          "metadata": {
            "tags": []
          }
        },
        {
          "output_type": "display_data",
          "data": {
            "text/html": [
              "<h3>Run history:</h3><br/><style>\n",
              "    table.wandb td:nth-child(1) { padding: 0 10px; text-align: right }\n",
              "    </style><table class=\"wandb\">\n",
              "<tr><td>global_step</td><td>▁▁▁▂▂▂▂▂▂▃▃▃▃▃▃▄▄▄▄▄▅▅▅▅▅▅▆▆▆▆▆▇▇▇▇▇▇███</td></tr><tr><td>_timestamp</td><td>▁▁▂▂▂▂▃▃▃▃▃▃▃▃▃▄▄▄▄▄▅▅▅▅▆▆▆▆▆▆▆▆▆▇▇▇▇███</td></tr><tr><td>reward</td><td>▂▂▁▇▇▄▇▄▄▅▄▅▄▅▇▂▅▆▇▅▇▅▄▇▅▇▅█▅▇▇▇▅▇▇▅▇▅▇▇</td></tr><tr><td>debug/episode_len</td><td>▁▁▁▁▁▁▁▁▁▁▁▁▁▁▁▁▁▁▁▁▁▁▁▁▁▁▁▁▁▁▁▁▁▁▁▁▁▁▁▁</td></tr><tr><td>_step</td><td>▁▁▁▂▂▂▂▂▂▃▃▃▃▃▃▄▄▄▄▄▅▅▅▅▅▅▆▆▆▆▆▇▇▇▇▇▇███</td></tr><tr><td>loss/policy_loss</td><td>▆▃▂▅▁▅▆▆▅▇▇▃▆▄▅▄▅▃▅▅▅▅▃█▆▇▅▂▇▅▆▇█▄▂▆▃▅█▄</td></tr><tr><td>loss/value_loss</td><td>▂▂█▁▂▂▁▂▂▂▁▂▂▂▁▃▁▁▁▁▁▁▁▂▁▂▁▃▂▁▁▁▂▁▄▂▂▁▁▁</td></tr><tr><td>debug/entropy</td><td>█▇▆▄▄▅▄▅▄▄▅▄▄▃▂▂▂▂▃▂▂▂▂▂▂▂▂▂▂▁▁▁▁▁▁▁▁▁▁▁</td></tr><tr><td>debug/approx_kl</td><td>▃▂█▄▂▆▃▅▇▂█▃▄▃▄▃▂▂▃▄▃▃▁▄▄▃▂▂▂▂▄▃▂▃▃▃▃▃▄▃</td></tr><tr><td>test_score</td><td>▁</td></tr><tr><td>_runtime</td><td>▁</td></tr></table><br/>"
            ],
            "text/plain": [
              "<IPython.core.display.HTML object>"
            ]
          },
          "metadata": {
            "tags": []
          }
        },
        {
          "output_type": "display_data",
          "data": {
            "text/html": [
              "Synced 5 W&B file(s), 1 media file(s), 0 artifact file(s) and 13 other file(s)"
            ],
            "text/plain": [
              "<IPython.core.display.HTML object>"
            ]
          },
          "metadata": {
            "tags": []
          }
        },
        {
          "output_type": "display_data",
          "data": {
            "text/html": [
              "\n",
              "                    <br/>Synced <strong style=\"color:#cdcd00\">deep-thunder-69</strong>: <a href=\"https://wandb.ai/atharv/causal-meta-rl/runs/3uxrbizc\" target=\"_blank\">https://wandb.ai/atharv/causal-meta-rl/runs/3uxrbizc</a><br/>\n",
              "                "
            ],
            "text/plain": [
              "<IPython.core.display.HTML object>"
            ]
          },
          "metadata": {
            "tags": []
          }
        },
        {
          "output_type": "stream",
          "text": [
            "                                  Experiment  Test Score\n",
            "0                    observational (var=0.5)    1.030599\n",
            "1                   interventional (var=0.5)    1.087387\n",
            "2  interventional + counterfactual (var=0.5)    1.044540\n"
          ],
          "name": "stdout"
        },
        {
          "output_type": "error",
          "ename": "NameError",
          "evalue": "ignored",
          "traceback": [
            "\u001b[0;31m---------------------------------------------------------------------------\u001b[0m",
            "\u001b[0;31mNameError\u001b[0m                                 Traceback (most recent call last)",
            "\u001b[0;32m<ipython-input-14-465a8a59212b>\u001b[0m in \u001b[0;36m<module>\u001b[0;34m()\u001b[0m\n\u001b[1;32m     24\u001b[0m \u001b[0;34m\u001b[0m\u001b[0m\n\u001b[1;32m     25\u001b[0m \u001b[0mprint\u001b[0m\u001b[0;34m(\u001b[0m\u001b[0mpd\u001b[0m\u001b[0;34m.\u001b[0m\u001b[0mDataFrame\u001b[0m\u001b[0;34m(\u001b[0m\u001b[0mresults\u001b[0m\u001b[0;34m.\u001b[0m\u001b[0mitems\u001b[0m\u001b[0;34m(\u001b[0m\u001b[0;34m)\u001b[0m\u001b[0;34m,\u001b[0m \u001b[0mcolumns\u001b[0m\u001b[0;34m=\u001b[0m\u001b[0;34m[\u001b[0m\u001b[0;34m\"Experiment\"\u001b[0m\u001b[0;34m,\u001b[0m \u001b[0;34m\"Test Score\"\u001b[0m\u001b[0;34m]\u001b[0m\u001b[0;34m)\u001b[0m\u001b[0;34m)\u001b[0m\u001b[0;34m\u001b[0m\u001b[0;34m\u001b[0m\u001b[0m\n\u001b[0;32m---> 26\u001b[0;31m \u001b[0mpd\u001b[0m\u001b[0;34m.\u001b[0m\u001b[0mDataFrame\u001b[0m\u001b[0;34m(\u001b[0m\u001b[0mresults2\u001b[0m\u001b[0;34m.\u001b[0m\u001b[0mitems\u001b[0m\u001b[0;34m(\u001b[0m\u001b[0;34m)\u001b[0m\u001b[0;34m,\u001b[0m \u001b[0mcolumns\u001b[0m\u001b[0;34m=\u001b[0m\u001b[0;34m[\u001b[0m\u001b[0;34m\"Experiment\"\u001b[0m\u001b[0;34m,\u001b[0m \u001b[0;34m\"Test Score\"\u001b[0m\u001b[0;34m]\u001b[0m\u001b[0;34m)\u001b[0m\u001b[0;34m.\u001b[0m\u001b[0mplot\u001b[0m\u001b[0;34m.\u001b[0m\u001b[0mbarh\u001b[0m\u001b[0;34m(\u001b[0m\u001b[0mx\u001b[0m\u001b[0;34m=\u001b[0m\u001b[0;34m\"Experiment\"\u001b[0m\u001b[0;34m,\u001b[0m \u001b[0my\u001b[0m\u001b[0;34m=\u001b[0m\u001b[0;34m\"Test Score\"\u001b[0m\u001b[0;34m,\u001b[0m \u001b[0mcolor\u001b[0m\u001b[0;34m=\u001b[0m\u001b[0;34m[\u001b[0m\u001b[0;34m\"green\"\u001b[0m\u001b[0;34m,\u001b[0m \u001b[0;34m\"red\"\u001b[0m\u001b[0;34m,\u001b[0m \u001b[0;34m\"blue\"\u001b[0m\u001b[0;34m]\u001b[0m\u001b[0;34m)\u001b[0m\u001b[0;34m\u001b[0m\u001b[0;34m\u001b[0m\u001b[0m\n\u001b[0m\u001b[1;32m     27\u001b[0m \u001b[0mplt\u001b[0m\u001b[0;34m.\u001b[0m\u001b[0mgrid\u001b[0m\u001b[0;34m(\u001b[0m\u001b[0;34m)\u001b[0m\u001b[0;34m\u001b[0m\u001b[0;34m\u001b[0m\u001b[0m\n",
            "\u001b[0;31mNameError\u001b[0m: name 'results2' is not defined"
          ]
        }
      ]
    },
    {
      "cell_type": "markdown",
      "metadata": {
        "id": "AfoN0jfHMF0s"
      },
      "source": [
        "## `mu=5` `info_intervention=0` `quiz_intervention=10`"
      ]
    },
    {
      "cell_type": "code",
      "metadata": {
        "colab": {
          "base_uri": "https://localhost:8080/",
          "height": 1000,
          "referenced_widgets": [
            "b46cc6aa249b4339b4ecbbdba8b9eef9",
            "d1bb5110c55c4da990c42d67556d8e09",
            "eca636a640df429386c7018fe91dfc55",
            "154b3a8cad27407ca3a53ddc31e45f1f",
            "89a835d136d942d09af6441831dc6ba0",
            "4c940d5dcd154619ad4c63d623ce0e96",
            "ab1a886c1faa48e4b64d7f546a9cecd4",
            "35c77e65b1634ee5be45111338a11650",
            "7b1756e2e8f54fc68005c4437b77fb6e",
            "14848cede06941f8bf0946099e6f4cd2",
            "a73538f7fed747319d6b18975ccdc313",
            "71e4f3389b5b4cacaf7fcc45f28919f9",
            "a6dd0dd6f0b643fcbab87443dbed7f10",
            "d2c36c5f0bb84b16a7160c7a823dde55",
            "0dec49f20b4b4d70ad96b98fb4ed74f3",
            "7ac2cdbc2a7a4767831f24572cbd19c6",
            "c2c690aa1bcb498484f9bda28ff7c111",
            "3885e392b1e6483d9e59d4c2cd9e69cf",
            "b45da8804b7145d4a2f74da1f37e16d5",
            "70e75352039b4e599578b9507ba58f3d",
            "b65e219c6823483983d7a3ee00fbf610",
            "7398a5340e0643a8b6f5f72f6ebca762",
            "1e29f09f27a84ed4a5a7c4ca4bde36b1",
            "4694d25df20446768b7b62f590ad8c11"
          ]
        },
        "id": "VvqSrDZjMQSP",
        "outputId": "ac4a7941-a5e6-462d-dc5d-657b458f9bc4"
      },
      "source": [
        "results = {}\n",
        "exps = {\n",
        "    \"observational (var=0.5)\": CGMEnv(train_g, action_class=\"observational\", mu=5, info_intervention=0, quiz_intervention=10),\n",
        "    \"interventional (var=0.5)\": CGMEnv(train_g, action_class=\"interventional\", mu=5, info_intervention=0, quiz_intervention=10),\n",
        "    \"interventional + counterfactual (var=0.5)\": CGMEnv(train_g, action_class=\"interventional\", counterfactual=True, mu=5, info_intervention=0, quiz_intervention=10),\n",
        "}\n",
        "\n",
        "train_epochs = 10_000\n",
        "test_episodes = 3000\n",
        "\n",
        "for exp_name, env in exps.items():\n",
        "\n",
        "    model = Discrete_LSTM_AC(input_size=env.observation_space.shape[0], n_actions=env.action_space.n, hidden_size=192)\n",
        "    wandb.init(project='causal-meta-rl', group=exp_name, entity='atharv', sync_tensorboard=True)\n",
        "    wandb.watch(model)\n",
        "    print(f\"Running experiment: {exp_name}\")\n",
        "    ppo(env, model, epochs=train_epochs, log_path=wandb.run.dir, seed=seed)\n",
        "    env.reset(graphs=test_g)\n",
        "    test_score = test_discrete_ac(env, model, episodes=test_episodes)\n",
        "    wandb.log({\"test_score\": test_score})\n",
        "    wandb.finish()\n",
        "\n",
        "    results[exp_name] = test_score\n",
        "\n",
        "print(pd.DataFrame(results.items(), columns=[\"Experiment\", \"Test Score\"]))\n",
        "pd.DataFrame(results.items(), columns=[\"Experiment\", \"Test Score\"]).plot.barh(x=\"Experiment\", y=\"Test Score\", color=[\"green\", \"red\", \"blue\"])\n",
        "plt.grid()"
      ],
      "execution_count": null,
      "outputs": [
        {
          "output_type": "display_data",
          "data": {
            "text/html": [
              "\n",
              "                Tracking run with wandb version 0.10.29<br/>\n",
              "                Syncing run <strong style=\"color:#cdcd00\">jolly-energy-70</strong> to <a href=\"https://wandb.ai\" target=\"_blank\">Weights & Biases</a> <a href=\"https://docs.wandb.com/integrations/jupyter.html\" target=\"_blank\">(Documentation)</a>.<br/>\n",
              "                Project page: <a href=\"https://wandb.ai/atharv/causal-meta-rl\" target=\"_blank\">https://wandb.ai/atharv/causal-meta-rl</a><br/>\n",
              "                Run page: <a href=\"https://wandb.ai/atharv/causal-meta-rl/runs/36mzz4rt\" target=\"_blank\">https://wandb.ai/atharv/causal-meta-rl/runs/36mzz4rt</a><br/>\n",
              "                Run data is saved locally in <code>/content/wandb/run-20210507_093955-36mzz4rt</code><br/><br/>\n",
              "            "
            ],
            "text/plain": [
              "<IPython.core.display.HTML object>"
            ]
          },
          "metadata": {
            "tags": []
          }
        },
        {
          "output_type": "stream",
          "text": [
            "\u001b[34m\u001b[1mwandb\u001b[0m: \u001b[33mWARNING\u001b[0m When using several event log directories, please call wandb.tensorboard.patch(root_logdir=\"...\") before wandb.init\n"
          ],
          "name": "stderr"
        },
        {
          "output_type": "stream",
          "text": [
            "Running experiment: observational (var=0.5)\n",
            "Start time: 070521 093958\n",
            "Observation Space: Box(inf, inf, (17,), float32)\n",
            "Action Space: Discrete(8)\n",
            "Model: Discrete_LSTM_AC(\n",
            "  (lstm): LSTM(17, 192)\n",
            "  (fc_pi): Linear(in_features=192, out_features=8, bias=True)\n",
            "  (fc_v): Linear(in_features=192, out_features=1, bias=True)\n",
            ")\n",
            "Logging to: /content/wandb/run-20210507_093955-36mzz4rt/files/070521093958\n",
            "Hyperparameters: \n",
            "{'env': <__main__.CGMEnv object at 0x7f84937eb110>, 'model': Discrete_LSTM_AC(\n",
            "  (lstm): LSTM(17, 192)\n",
            "  (fc_pi): Linear(in_features=192, out_features=8, bias=True)\n",
            "  (fc_v): Linear(in_features=192, out_features=1, bias=True)\n",
            "), 'epochs': 10000, 'episodes_per_epoch': 5, 'updates_per_epoch': 5, 'lr': 0.0003, 'value_loss_weight': 0.2, 'entropy_weight_init': 0, 'entropy_weight_decay': 0, 'gamma': 0.9, 'lmbda': 0.95, 'eps_clip': 0.1, 'max_steps': 500, 'log_path': '/content/wandb/run-20210507_093955-36mzz4rt/files', 'seed': 42, 'verbose': False, 'device': device(type='cuda'), 'dtype': torch.float64, 'start_time': datetime.datetime(2021, 5, 7, 9, 39, 58, 527685)}\n",
            "\n",
            "Finished training in 1170 seconds\n"
          ],
          "name": "stdout"
        },
        {
          "output_type": "display_data",
          "data": {
            "text/html": [
              "<br/>Waiting for W&B process to finish, PID 722<br/>Program ended successfully."
            ],
            "text/plain": [
              "<IPython.core.display.HTML object>"
            ]
          },
          "metadata": {
            "tags": []
          }
        },
        {
          "output_type": "display_data",
          "data": {
            "application/vnd.jupyter.widget-view+json": {
              "model_id": "b46cc6aa249b4339b4ecbbdba8b9eef9",
              "version_minor": 0,
              "version_major": 2
            },
            "text/plain": [
              "VBox(children=(Label(value=' 12.73MB of 12.73MB uploaded (0.00MB deduped)\\r'), FloatProgress(value=1.0, max=1.…"
            ]
          },
          "metadata": {
            "tags": []
          }
        },
        {
          "output_type": "display_data",
          "data": {
            "text/html": [
              "Find user logs for this run at: <code>/content/wandb/run-20210507_093955-36mzz4rt/logs/debug.log</code>"
            ],
            "text/plain": [
              "<IPython.core.display.HTML object>"
            ]
          },
          "metadata": {
            "tags": []
          }
        },
        {
          "output_type": "display_data",
          "data": {
            "text/html": [
              "Find internal logs for this run at: <code>/content/wandb/run-20210507_093955-36mzz4rt/logs/debug-internal.log</code>"
            ],
            "text/plain": [
              "<IPython.core.display.HTML object>"
            ]
          },
          "metadata": {
            "tags": []
          }
        },
        {
          "output_type": "display_data",
          "data": {
            "text/html": [
              "<h3>Run summary:</h3><br/><style>\n",
              "    table.wandb td:nth-child(1) { padding: 0 10px; text-align: right }\n",
              "    </style><table class=\"wandb\">\n",
              "<tr><td>global_step</td><td>249960</td></tr><tr><td>_timestamp</td><td>1620381568.60435</td></tr><tr><td>reward</td><td>10.0</td></tr><tr><td>debug/episode_len</td><td>5.0</td></tr><tr><td>_step</td><td>49992</td></tr><tr><td>loss/policy_loss</td><td>0.01032</td></tr><tr><td>loss/value_loss</td><td>0.00015</td></tr><tr><td>debug/entropy</td><td>0.53428</td></tr><tr><td>debug/approx_kl</td><td>0.14456</td></tr><tr><td>test_score</td><td>9.29039</td></tr><tr><td>_runtime</td><td>1192</td></tr></table>"
            ],
            "text/plain": [
              "<IPython.core.display.HTML object>"
            ]
          },
          "metadata": {
            "tags": []
          }
        },
        {
          "output_type": "display_data",
          "data": {
            "text/html": [
              "<h3>Run history:</h3><br/><style>\n",
              "    table.wandb td:nth-child(1) { padding: 0 10px; text-align: right }\n",
              "    </style><table class=\"wandb\">\n",
              "<tr><td>global_step</td><td>▁▁▁▂▂▂▂▂▂▃▃▃▃▃▃▄▄▄▄▄▅▅▅▅▅▅▆▆▆▆▆▇▇▇▇▇▇███</td></tr><tr><td>_timestamp</td><td>▁▁▁▂▂▂▂▃▃▃▃▃▃▃▃▃▄▄▄▄▅▅▅▅▆▆▆▆▆▆▆▆▆▇▇▇▇▇██</td></tr><tr><td>reward</td><td>▁▂▁▇▄▇▅▇▅▇▇▅▂▇▇▁▇▇▇▇▇▅▇▇▇▅▄▇▇█▅▇▄▇▇▅█▇▇▇</td></tr><tr><td>debug/episode_len</td><td>▁▁▁▁▁▁▁▁▁▁▁▁▁▁▁▁▁▁▁▁▁▁▁▁▁▁▁▁▁▁▁▁▁▁▁▁▁▁▁▁</td></tr><tr><td>_step</td><td>▁▁▁▂▂▂▂▂▂▃▃▃▃▃▃▄▄▄▄▄▅▅▅▅▅▅▆▆▆▆▆▇▇▇▇▇▇███</td></tr><tr><td>loss/policy_loss</td><td>▄▃▂▅▅▄▄▇▄▇▅▂▇█▄▅▆█▂▄▄▆▄▅▂▁▅▄▅▇▆▅▅▅▃▂█▃▄▄</td></tr><tr><td>loss/value_loss</td><td>▃█▆▁▂▂▂▅▃▂▂▄▃▃▄▁▁▃▄▃▂▃▁▂▃▂▁▂▂▄▂▂▂▁▁▁▅▁▂▁</td></tr><tr><td>debug/entropy</td><td>█▇▃▃▃▄▃▃▂▃▃▂▃▄▃▁▃▃▃▃▅▂▁▁▁▂▃▂▁▂▁▂▂▂▂▂▂▁▂▃</td></tr><tr><td>debug/approx_kl</td><td>▄▃█▅▄▅▃▄▄▄▁▅▅▆▆▄▃█▂▄▄▆▃▆▃▃▅▄▃▆▄▄▅▃▃▅▅▃▄▂</td></tr><tr><td>test_score</td><td>▁</td></tr><tr><td>_runtime</td><td>▁</td></tr></table><br/>"
            ],
            "text/plain": [
              "<IPython.core.display.HTML object>"
            ]
          },
          "metadata": {
            "tags": []
          }
        },
        {
          "output_type": "display_data",
          "data": {
            "text/html": [
              "Synced 5 W&B file(s), 1 media file(s), 0 artifact file(s) and 13 other file(s)"
            ],
            "text/plain": [
              "<IPython.core.display.HTML object>"
            ]
          },
          "metadata": {
            "tags": []
          }
        },
        {
          "output_type": "display_data",
          "data": {
            "text/html": [
              "\n",
              "                    <br/>Synced <strong style=\"color:#cdcd00\">jolly-energy-70</strong>: <a href=\"https://wandb.ai/atharv/causal-meta-rl/runs/36mzz4rt\" target=\"_blank\">https://wandb.ai/atharv/causal-meta-rl/runs/36mzz4rt</a><br/>\n",
              "                "
            ],
            "text/plain": [
              "<IPython.core.display.HTML object>"
            ]
          },
          "metadata": {
            "tags": []
          }
        },
        {
          "output_type": "display_data",
          "data": {
            "text/html": [
              "\n",
              "                Tracking run with wandb version 0.10.29<br/>\n",
              "                Syncing run <strong style=\"color:#cdcd00\">swept-plasma-71</strong> to <a href=\"https://wandb.ai\" target=\"_blank\">Weights & Biases</a> <a href=\"https://docs.wandb.com/integrations/jupyter.html\" target=\"_blank\">(Documentation)</a>.<br/>\n",
              "                Project page: <a href=\"https://wandb.ai/atharv/causal-meta-rl\" target=\"_blank\">https://wandb.ai/atharv/causal-meta-rl</a><br/>\n",
              "                Run page: <a href=\"https://wandb.ai/atharv/causal-meta-rl/runs/2iven3k6\" target=\"_blank\">https://wandb.ai/atharv/causal-meta-rl/runs/2iven3k6</a><br/>\n",
              "                Run data is saved locally in <code>/content/wandb/run-20210507_095957-2iven3k6</code><br/><br/>\n",
              "            "
            ],
            "text/plain": [
              "<IPython.core.display.HTML object>"
            ]
          },
          "metadata": {
            "tags": []
          }
        },
        {
          "output_type": "stream",
          "text": [
            "\u001b[34m\u001b[1mwandb\u001b[0m: \u001b[33mWARNING\u001b[0m When using several event log directories, please call wandb.tensorboard.patch(root_logdir=\"...\") before wandb.init\n"
          ],
          "name": "stderr"
        },
        {
          "output_type": "stream",
          "text": [
            "Running experiment: interventional (var=0.5)\n",
            "Start time: 070521 100000\n",
            "Observation Space: Box(inf, inf, (17,), float32)\n",
            "Action Space: Discrete(8)\n",
            "Model: Discrete_LSTM_AC(\n",
            "  (lstm): LSTM(17, 192)\n",
            "  (fc_pi): Linear(in_features=192, out_features=8, bias=True)\n",
            "  (fc_v): Linear(in_features=192, out_features=1, bias=True)\n",
            ")\n",
            "Logging to: /content/wandb/run-20210507_095957-2iven3k6/files/070521100000\n",
            "Hyperparameters: \n",
            "{'env': <__main__.CGMEnv object at 0x7f84937eb810>, 'model': Discrete_LSTM_AC(\n",
            "  (lstm): LSTM(17, 192)\n",
            "  (fc_pi): Linear(in_features=192, out_features=8, bias=True)\n",
            "  (fc_v): Linear(in_features=192, out_features=1, bias=True)\n",
            "), 'epochs': 10000, 'episodes_per_epoch': 5, 'updates_per_epoch': 5, 'lr': 0.0003, 'value_loss_weight': 0.2, 'entropy_weight_init': 0, 'entropy_weight_decay': 0, 'gamma': 0.9, 'lmbda': 0.95, 'eps_clip': 0.1, 'max_steps': 500, 'log_path': '/content/wandb/run-20210507_095957-2iven3k6/files', 'seed': 42, 'verbose': False, 'device': device(type='cuda'), 'dtype': torch.float64, 'start_time': datetime.datetime(2021, 5, 7, 10, 0, 0, 545995)}\n",
            "\n",
            "Finished training in 1144 seconds\n"
          ],
          "name": "stdout"
        },
        {
          "output_type": "display_data",
          "data": {
            "text/html": [
              "<br/>Waiting for W&B process to finish, PID 799<br/>Program ended successfully."
            ],
            "text/plain": [
              "<IPython.core.display.HTML object>"
            ]
          },
          "metadata": {
            "tags": []
          }
        },
        {
          "output_type": "display_data",
          "data": {
            "application/vnd.jupyter.widget-view+json": {
              "model_id": "7b1756e2e8f54fc68005c4437b77fb6e",
              "version_minor": 0,
              "version_major": 2
            },
            "text/plain": [
              "VBox(children=(Label(value=' 13.06MB of 13.06MB uploaded (0.00MB deduped)\\r'), FloatProgress(value=1.0, max=1.…"
            ]
          },
          "metadata": {
            "tags": []
          }
        },
        {
          "output_type": "display_data",
          "data": {
            "text/html": [
              "Find user logs for this run at: <code>/content/wandb/run-20210507_095957-2iven3k6/logs/debug.log</code>"
            ],
            "text/plain": [
              "<IPython.core.display.HTML object>"
            ]
          },
          "metadata": {
            "tags": []
          }
        },
        {
          "output_type": "display_data",
          "data": {
            "text/html": [
              "Find internal logs for this run at: <code>/content/wandb/run-20210507_095957-2iven3k6/logs/debug-internal.log</code>"
            ],
            "text/plain": [
              "<IPython.core.display.HTML object>"
            ]
          },
          "metadata": {
            "tags": []
          }
        },
        {
          "output_type": "display_data",
          "data": {
            "text/html": [
              "<h3>Run summary:</h3><br/><style>\n",
              "    table.wandb td:nth-child(1) { padding: 0 10px; text-align: right }\n",
              "    </style><table class=\"wandb\">\n",
              "<tr><td>global_step</td><td>250000</td></tr><tr><td>_timestamp</td><td>1620382744.92441</td></tr><tr><td>reward</td><td>20.21675</td></tr><tr><td>debug/episode_len</td><td>5.0</td></tr><tr><td>_step</td><td>50000</td></tr><tr><td>loss/policy_loss</td><td>0.02792</td></tr><tr><td>loss/value_loss</td><td>0.00022</td></tr><tr><td>debug/entropy</td><td>0.42644</td></tr><tr><td>debug/approx_kl</td><td>0.005</td></tr><tr><td>test_score</td><td>8.45713</td></tr><tr><td>_runtime</td><td>1165</td></tr></table>"
            ],
            "text/plain": [
              "<IPython.core.display.HTML object>"
            ]
          },
          "metadata": {
            "tags": []
          }
        },
        {
          "output_type": "display_data",
          "data": {
            "text/html": [
              "<h3>Run history:</h3><br/><style>\n",
              "    table.wandb td:nth-child(1) { padding: 0 10px; text-align: right }\n",
              "    </style><table class=\"wandb\">\n",
              "<tr><td>global_step</td><td>▁▁▁▂▂▂▂▂▂▃▃▃▃▃▃▄▄▄▄▄▅▅▅▅▅▅▆▆▆▆▆▇▇▇▇▇▇███</td></tr><tr><td>_timestamp</td><td>▁▂▂▂▂▂▃▃▃▃▃▃▃▃▃▄▄▄▄▅▅▅▅▆▆▆▆▆▆▆▆▆▇▇▇▇▇███</td></tr><tr><td>reward</td><td>▇▃▁▃▅▅▆▅▄▇▂▆▄▂▆▃▇█▇▇▇▆▇▇▇▃▆▇▇█▄▇▇▇▇▆█▇▇▇</td></tr><tr><td>debug/episode_len</td><td>▁▁▁▁▁▁▁▁▁▁▁▁▁▁▁▁▁▁▁▁▁▁▁▁▁▁▁▁▁▁▁▁▁▁▁▁▁▁▁▁</td></tr><tr><td>_step</td><td>▁▁▁▂▂▂▂▂▂▃▃▃▃▃▃▄▄▄▄▄▅▅▅▅▅▅▆▆▆▆▆▇▇▇▇▇▇███</td></tr><tr><td>loss/policy_loss</td><td>▂▅▄▃▄▄▄▆▆▆▆▃▇█▁▃▅▅▂▃▃▁▃▄▂▃▃▄▄▇▅▄▅▅▃▂▄▄▃▄</td></tr><tr><td>loss/value_loss</td><td>▆▄▃▃▃▃█▄▆▅▇▂██▅▂▁▂▅▄▂▅▂▃▂▂▃▂▁█▂▄▂▁▁▁▁▁▂▄</td></tr><tr><td>debug/entropy</td><td>█▇▆▆▆▅▅▃▃▂▃▃▃▂▂▂▃▃▂▂▂▃▂▂▂▃▃▃▃▄▃▃▂▂▃▂▂▁▂▂</td></tr><tr><td>debug/approx_kl</td><td>▁▁▂▅▃▂▂▂▅▂▂▂█▆▂▂▂▃▂▃▂▂▁▃▃▂▂▂▂▆▄▃▂▃▂▂▃▂▂▆</td></tr><tr><td>test_score</td><td>▁</td></tr><tr><td>_runtime</td><td>▁</td></tr></table><br/>"
            ],
            "text/plain": [
              "<IPython.core.display.HTML object>"
            ]
          },
          "metadata": {
            "tags": []
          }
        },
        {
          "output_type": "display_data",
          "data": {
            "text/html": [
              "Synced 5 W&B file(s), 1 media file(s), 0 artifact file(s) and 13 other file(s)"
            ],
            "text/plain": [
              "<IPython.core.display.HTML object>"
            ]
          },
          "metadata": {
            "tags": []
          }
        },
        {
          "output_type": "display_data",
          "data": {
            "text/html": [
              "\n",
              "                    <br/>Synced <strong style=\"color:#cdcd00\">swept-plasma-71</strong>: <a href=\"https://wandb.ai/atharv/causal-meta-rl/runs/2iven3k6\" target=\"_blank\">https://wandb.ai/atharv/causal-meta-rl/runs/2iven3k6</a><br/>\n",
              "                "
            ],
            "text/plain": [
              "<IPython.core.display.HTML object>"
            ]
          },
          "metadata": {
            "tags": []
          }
        },
        {
          "output_type": "display_data",
          "data": {
            "text/html": [
              "\n",
              "                Tracking run with wandb version 0.10.29<br/>\n",
              "                Syncing run <strong style=\"color:#cdcd00\">desert-haze-72</strong> to <a href=\"https://wandb.ai\" target=\"_blank\">Weights & Biases</a> <a href=\"https://docs.wandb.com/integrations/jupyter.html\" target=\"_blank\">(Documentation)</a>.<br/>\n",
              "                Project page: <a href=\"https://wandb.ai/atharv/causal-meta-rl\" target=\"_blank\">https://wandb.ai/atharv/causal-meta-rl</a><br/>\n",
              "                Run page: <a href=\"https://wandb.ai/atharv/causal-meta-rl/runs/2tmh7o8a\" target=\"_blank\">https://wandb.ai/atharv/causal-meta-rl/runs/2tmh7o8a</a><br/>\n",
              "                Run data is saved locally in <code>/content/wandb/run-20210507_101933-2tmh7o8a</code><br/><br/>\n",
              "            "
            ],
            "text/plain": [
              "<IPython.core.display.HTML object>"
            ]
          },
          "metadata": {
            "tags": []
          }
        },
        {
          "output_type": "stream",
          "text": [
            "\u001b[34m\u001b[1mwandb\u001b[0m: \u001b[33mWARNING\u001b[0m When using several event log directories, please call wandb.tensorboard.patch(root_logdir=\"...\") before wandb.init\n"
          ],
          "name": "stderr"
        },
        {
          "output_type": "stream",
          "text": [
            "Running experiment: interventional + counterfactual (var=0.5)\n",
            "Start time: 070521 101935\n",
            "Observation Space: Box(inf, inf, (17,), float32)\n",
            "Action Space: Discrete(8)\n",
            "Model: Discrete_LSTM_AC(\n",
            "  (lstm): LSTM(17, 192)\n",
            "  (fc_pi): Linear(in_features=192, out_features=8, bias=True)\n",
            "  (fc_v): Linear(in_features=192, out_features=1, bias=True)\n",
            ")\n",
            "Logging to: /content/wandb/run-20210507_101933-2tmh7o8a/files/070521101935\n",
            "Hyperparameters: \n",
            "{'env': <__main__.CGMEnv object at 0x7f84937ebc90>, 'model': Discrete_LSTM_AC(\n",
            "  (lstm): LSTM(17, 192)\n",
            "  (fc_pi): Linear(in_features=192, out_features=8, bias=True)\n",
            "  (fc_v): Linear(in_features=192, out_features=1, bias=True)\n",
            "), 'epochs': 10000, 'episodes_per_epoch': 5, 'updates_per_epoch': 5, 'lr': 0.0003, 'value_loss_weight': 0.2, 'entropy_weight_init': 0, 'entropy_weight_decay': 0, 'gamma': 0.9, 'lmbda': 0.95, 'eps_clip': 0.1, 'max_steps': 500, 'log_path': '/content/wandb/run-20210507_101933-2tmh7o8a/files', 'seed': 42, 'verbose': False, 'device': device(type='cuda'), 'dtype': torch.float64, 'start_time': datetime.datetime(2021, 5, 7, 10, 19, 35, 930064)}\n",
            "\n",
            "Finished training in 1140 seconds\n"
          ],
          "name": "stdout"
        },
        {
          "output_type": "display_data",
          "data": {
            "text/html": [
              "<br/>Waiting for W&B process to finish, PID 872<br/>Program ended successfully."
            ],
            "text/plain": [
              "<IPython.core.display.HTML object>"
            ]
          },
          "metadata": {
            "tags": []
          }
        },
        {
          "output_type": "display_data",
          "data": {
            "application/vnd.jupyter.widget-view+json": {
              "model_id": "c2c690aa1bcb498484f9bda28ff7c111",
              "version_minor": 0,
              "version_major": 2
            },
            "text/plain": [
              "VBox(children=(Label(value=' 13.10MB of 13.10MB uploaded (0.00MB deduped)\\r'), FloatProgress(value=1.0, max=1.…"
            ]
          },
          "metadata": {
            "tags": []
          }
        },
        {
          "output_type": "display_data",
          "data": {
            "text/html": [
              "Find user logs for this run at: <code>/content/wandb/run-20210507_101933-2tmh7o8a/logs/debug.log</code>"
            ],
            "text/plain": [
              "<IPython.core.display.HTML object>"
            ]
          },
          "metadata": {
            "tags": []
          }
        },
        {
          "output_type": "display_data",
          "data": {
            "text/html": [
              "Find internal logs for this run at: <code>/content/wandb/run-20210507_101933-2tmh7o8a/logs/debug-internal.log</code>"
            ],
            "text/plain": [
              "<IPython.core.display.HTML object>"
            ]
          },
          "metadata": {
            "tags": []
          }
        },
        {
          "output_type": "display_data",
          "data": {
            "text/html": [
              "<h3>Run summary:</h3><br/><style>\n",
              "    table.wandb td:nth-child(1) { padding: 0 10px; text-align: right }\n",
              "    </style><table class=\"wandb\">\n",
              "<tr><td>global_step</td><td>249985</td></tr><tr><td>_timestamp</td><td>1620383916.59349</td></tr><tr><td>reward</td><td>10.0</td></tr><tr><td>debug/episode_len</td><td>5.0</td></tr><tr><td>_step</td><td>49997</td></tr><tr><td>loss/policy_loss</td><td>0.00525</td></tr><tr><td>loss/value_loss</td><td>0.00057</td></tr><tr><td>debug/entropy</td><td>0.24355</td></tr><tr><td>debug/approx_kl</td><td>0.00178</td></tr><tr><td>test_score</td><td>8.9484</td></tr><tr><td>_runtime</td><td>1161</td></tr></table>"
            ],
            "text/plain": [
              "<IPython.core.display.HTML object>"
            ]
          },
          "metadata": {
            "tags": []
          }
        },
        {
          "output_type": "display_data",
          "data": {
            "text/html": [
              "<h3>Run history:</h3><br/><style>\n",
              "    table.wandb td:nth-child(1) { padding: 0 10px; text-align: right }\n",
              "    </style><table class=\"wandb\">\n",
              "<tr><td>global_step</td><td>▁▁▁▂▂▂▂▂▂▃▃▃▃▃▃▄▄▄▄▄▅▅▅▅▅▅▆▆▆▆▆▇▇▇▇▇▇███</td></tr><tr><td>_timestamp</td><td>▁▁▁▁▁▂▂▂▂▃▃▃▃▃▄▄▄▄▅▅▅▅▅▅▅▅▅▆▆▆▆▆▇▇▇▇████</td></tr><tr><td>reward</td><td>▃▃▃▃▃▅▆▆▆▆▁▆█▆▆▃▆▆▆▆▆▆▂▃▆▆▆▇▆▆▆▆▆▆▆▆▆▆▄▆</td></tr><tr><td>debug/episode_len</td><td>▁▁▁▁▁▁▁▁▁▁▁▁▁▁▁▁▁▁▁▁▁▁▁▁▁▁▁▁▁▁▁▁▁▁▁▁▁▁▁▁</td></tr><tr><td>_step</td><td>▁▁▁▂▂▂▂▂▂▃▃▃▃▃▃▄▄▄▄▄▅▅▅▅▅▅▆▆▆▆▆▇▇▇▇▇▇███</td></tr><tr><td>loss/policy_loss</td><td>▄▃▆▆▆▁▅▆▅▄█▇▄▆▄▅▅▆▆▄▅▅▇▅▄▇▇▄▇▅▇▅▆▄▆▆▅▆▆▇</td></tr><tr><td>loss/value_loss</td><td>▄▃▄▅▅▆▇▃▂▄▇▅█▁▃▆▂▂▄▄▃▃▅▁▃▁▂▆▁▂▃▁▂▁▁▂▂▁▂▄</td></tr><tr><td>debug/entropy</td><td>█▇▆▆▅▄▃▂▂▂▃▂▃▂▂▂▂▃▂▃▂▁▁▁▁▁▁▂▁▂▁▂▂▂▁▃▂▁▂▂</td></tr><tr><td>debug/approx_kl</td><td>▂▂▃█▃▃▂▂▃▃▆▄▃▃▁▅▂▆▄▃▃▃▄▃▃▂▅▂▃▂▄▃▇▃▄▆▃▄▆▂</td></tr><tr><td>test_score</td><td>▁</td></tr><tr><td>_runtime</td><td>▁</td></tr></table><br/>"
            ],
            "text/plain": [
              "<IPython.core.display.HTML object>"
            ]
          },
          "metadata": {
            "tags": []
          }
        },
        {
          "output_type": "display_data",
          "data": {
            "text/html": [
              "Synced 5 W&B file(s), 1 media file(s), 0 artifact file(s) and 13 other file(s)"
            ],
            "text/plain": [
              "<IPython.core.display.HTML object>"
            ]
          },
          "metadata": {
            "tags": []
          }
        },
        {
          "output_type": "display_data",
          "data": {
            "text/html": [
              "\n",
              "                    <br/>Synced <strong style=\"color:#cdcd00\">desert-haze-72</strong>: <a href=\"https://wandb.ai/atharv/causal-meta-rl/runs/2tmh7o8a\" target=\"_blank\">https://wandb.ai/atharv/causal-meta-rl/runs/2tmh7o8a</a><br/>\n",
              "                "
            ],
            "text/plain": [
              "<IPython.core.display.HTML object>"
            ]
          },
          "metadata": {
            "tags": []
          }
        },
        {
          "output_type": "stream",
          "text": [
            "                                  Experiment  Test Score\n",
            "0                    observational (var=0.5)    9.290391\n",
            "1                   interventional (var=0.5)    8.457129\n",
            "2  interventional + counterfactual (var=0.5)    8.948398\n"
          ],
          "name": "stdout"
        },
        {
          "output_type": "display_data",
          "data": {
            "image/png": "[encoded data removed]",
            "text/plain": [
              "<Figure size 432x288 with 1 Axes>"
            ]
          },
          "metadata": {
            "tags": [],
            "needs_background": "light"
          }
        }
      ]
    }
  ]
}